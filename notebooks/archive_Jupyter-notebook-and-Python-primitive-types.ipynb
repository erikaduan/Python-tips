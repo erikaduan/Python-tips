{
 "cells": [
  {
   "cell_type": "markdown",
   "metadata": {},
   "source": [
    "# Introduction to Jupyter notebook and Python primitive types \n",
    "## Author: Erika Duan"
   ]
  },
  {
   "cell_type": "markdown",
   "metadata": {},
   "source": [
    "![](../02_figures/00_jupyter-notebook-header.jpg)"
   ]
  },
  {
   "cell_type": "markdown",
   "metadata": {},
   "source": [
    "# Accessing and navigating the operating system   \n",
    "\n",
    "Before we begin to work with files, we must be able to navigate our computer's file system.   \n",
    "\n",
    "## Using the `os` module\n",
    "\n",
    "The `os` module is useful for providing cross-platform file management and contains commands like:  \n",
    "\n",
    "+ `os.getcwd()` to get the current working directory. \n",
    "+ `os.chrdir()` to set the working directory to another path name.  \n",
    "+ `os.path.basename()` to get the last component of a path name (i.e. the file name). \n",
    "+ `os.path.exists()` to check if a path exists (it will return True or False).  \n",
    "+ `os.path.isdir()` to check if a path is a file directory. \n",
    "+ `os.path.isfile()` to check if a path is a file.\n",
    "+ `os.path.join('rootdirectory', 'folder', 'filename')` to print a valid path for your operating system. "
   ]
  },
  {
   "cell_type": "code",
   "execution_count": 1,
   "metadata": {},
   "outputs": [
    {
     "data": {
      "text/plain": [
       "True"
      ]
     },
     "execution_count": 1,
     "metadata": {},
     "output_type": "execute_result"
    }
   ],
   "source": [
    "#-----example 1-----\n",
    "import os \n",
    "\n",
    "my_working_dir = os.getcwd()\n",
    "os.path.isdir(my_working_dir)"
   ]
  },
  {
   "cell_type": "code",
   "execution_count": 2,
   "metadata": {},
   "outputs": [
    {
     "data": {
      "text/plain": [
       "'Users\\\\user\\\\Documents\\\\Python_tutorials'"
      ]
     },
     "execution_count": 2,
     "metadata": {},
     "output_type": "execute_result"
    }
   ],
   "source": [
    "#-----example 2-----\n",
    "os.path.join(\"Users\", \"user\", \"Documents\", \"Python_tutorials\") # prints os compatible file paths  "
   ]
  },
  {
   "cell_type": "markdown",
   "metadata": {},
   "source": [
    "## Using the `pathlib` module  \n",
    "\n",
    "The `pathlib` module was created in Python $\\geq$ 3.4 and provides a less verbose alternative to locating and setting file paths than the `os` module. An important concept is its `pathlib.Path` class, which can be broken down into `.name`, `.parent`, `.stem`, `.suffix` and `.anchor` components and combined with functions like:  \n",
    "\n",
    "+ `pathlib.Path.cwd()` to get the current working directory.  \n",
    "+ `pathlib.Path(r'')` to manually specify a path input.   \n",
    "+ `.joinpath('folder', 'subfolder')` to join parts of a path together.  \n",
    "\n",
    "**Note**: A guide to using `pathlib` functions is found [here](https://realpython.com/python-pathlib/).   "
   ]
  },
  {
   "cell_type": "code",
   "execution_count": 3,
   "metadata": {},
   "outputs": [
    {
     "name": "stdout",
     "output_type": "stream",
     "text": [
      "C:\\Users\\user\\Desktop\\Introduction-to-Python\\03_notebooks\n"
     ]
    },
    {
     "data": {
      "text/plain": [
       "pathlib.WindowsPath"
      ]
     },
     "execution_count": 3,
     "metadata": {},
     "output_type": "execute_result"
    }
   ],
   "source": [
    "#-----example 1------\n",
    "import pathlib  \n",
    "\n",
    "print(pathlib.Path.cwd()) # retrieve working directory  \n",
    "type(pathlib.Path.cwd())"
   ]
  },
  {
   "cell_type": "code",
   "execution_count": 4,
   "metadata": {},
   "outputs": [
    {
     "data": {
      "text/plain": [
       "WindowsPath('C:/Users/user/Desktop/Introduction-to-Python/03_notebooks')"
      ]
     },
     "execution_count": 4,
     "metadata": {},
     "output_type": "execute_result"
    }
   ],
   "source": [
    "#-----example 2-----\n",
    "alt_path = pathlib.Path(r'C:\\Users\\user\\Desktop') # r'' conveys that string literals will be parsed\n",
    "alt_path.joinpath('Introduction-to-Python', '03_notebooks') "
   ]
  },
  {
   "cell_type": "code",
   "execution_count": 5,
   "metadata": {},
   "outputs": [
    {
     "name": "stdout",
     "output_type": "stream",
     "text": [
      "C:\\Users\\user\\Desktop\\Introduction-to-Python\\03_notebooks\\00_Jupyter-notebook-and-Python-primitive-types.ipynb\n",
      "00_Jupyter-notebook-and-Python-primitive-types.ipynb\n",
      ".ipynb\n",
      "00_Jupyter-notebook-and-Python-primitive-types\n",
      "C:\\Users\\user\\Desktop\\Introduction-to-Python\n",
      "C:\\Users\\user\\Desktop\n"
     ]
    }
   ],
   "source": [
    "#-----example 3----- \n",
    "notebook_path = pathlib.Path.cwd().joinpath('00_Jupyter-notebook-and-Python-primitive-types.ipynb')\n",
    "print(notebook_path)\n",
    "\n",
    "print(notebook_path.name)\n",
    "print(notebook_path.suffix)\n",
    "print(notebook_path.stem)\n",
    "\n",
    "print(pathlib.Path.cwd().parent)\n",
    "print(pathlib.Path.cwd().parent.parent)"
   ]
  },
  {
   "cell_type": "code",
   "execution_count": 6,
   "metadata": {},
   "outputs": [
    {
     "data": {
      "text/plain": [
       "['.ipynb_checkpoints',\n",
       " '00_Jupyter-notebook-and-Python-primitive-types',\n",
       " '01_Writing-conditions-and-for-and-while-loops-in-Python',\n",
       " '02_Writing-functions-in-Python',\n",
       " '03_Python-data-structures',\n",
       " '04_Manipulating-Pandas-DataFrames',\n",
       " '07_NLTK-analysis']"
      ]
     },
     "execution_count": 6,
     "metadata": {},
     "output_type": "execute_result"
    }
   ],
   "source": [
    "#-----example 4-----  \n",
    "[f.stem for f in pathlib.Path.cwd().iterdir()] # list all file names"
   ]
  },
  {
   "cell_type": "code",
   "execution_count": 7,
   "metadata": {},
   "outputs": [
    {
     "data": {
      "text/plain": [
       "Counter({'': 1, '.ipynb': 6})"
      ]
     },
     "execution_count": 7,
     "metadata": {},
     "output_type": "execute_result"
    }
   ],
   "source": [
    "#-----example 5-----\n",
    "# .iterdir() iterates over all files in a given directory  \n",
    "import collections\n",
    "collections.Counter(f.suffix for f in pathlib.Path.cwd().iterdir()) # count all file types"
   ]
  },
  {
   "cell_type": "markdown",
   "metadata": {},
   "source": [
    "# Navigating Jupyter notebooks\n",
    "\n",
    "Jupyter notebooks are a versatile way to document and run Python code.   \n",
    "A notebook consist of many individual cells (similar to individual chunks found in an R markdown file).   \n",
    "\n",
    "You can:  \n",
    "\n",
    "+ Toggle between edit (`enter key`) or command (`esc key`) mode.\n",
    "+ Toggle between code (`y key`) or markdown (`m key`) format whilst in edit mode.\n",
    "+ Create new cells using `a | b keys` and navigate through them using `shift + enter keys` or `up | down keys`.\n",
    "+ Use `control + enter keys` to run cells.  \n",
    "+ During edit mode, use `x | c | v | d keys` to cut, copy, paste or duplicate individual cells.  \n",
    "+ Each cell only prints its last output, unless objects are specified using `print()`.    \n",
    "\n",
    "Jupyter notebooks can display LaTeX in markdown cells via `$LaTeX$` (displayed in-line) or `$$LaTeX$$` (displayed on a new line) i.e. $x^2 + y^\\frac{1}{2}$. "
   ]
  },
  {
   "cell_type": "code",
   "execution_count": 8,
   "metadata": {},
   "outputs": [
    {
     "data": {
      "text/plain": [
       "[4, 5, 6]"
      ]
     },
     "execution_count": 8,
     "metadata": {},
     "output_type": "execute_result"
    }
   ],
   "source": [
    "#-----example 1-----\n",
    "x = [1, 2, 3] # use square brackets to store data in a list\n",
    "x \n",
    "\n",
    "y = [4, 5, 6]\n",
    "y # each cell only prints the last output"
   ]
  },
  {
   "cell_type": "code",
   "execution_count": 9,
   "metadata": {},
   "outputs": [
    {
     "name": "stdout",
     "output_type": "stream",
     "text": [
      "[1, 2, 3]\n"
     ]
    },
    {
     "data": {
      "text/plain": [
       "[4, 5, 6]"
      ]
     },
     "execution_count": 9,
     "metadata": {},
     "output_type": "execute_result"
    }
   ],
   "source": [
    "#-----example 2-----\n",
    "x = [1, 2, 3] \n",
    "print(x) \n",
    "\n",
    "y = [4, 5, 6]\n",
    "y # both objects are printed "
   ]
  },
  {
   "cell_type": "markdown",
   "metadata": {},
   "source": [
    "# Assigning and deleting object references    \n",
    "\n",
    "In Python, we use `=` to assign a name to an operation or object in memory.     \n",
    "This means `b = a` creates two references pointing to the same object in memory i.e. when `b` is modified, so is `a`. \n",
    "\n",
    "**Note:** This contrasts to R, which exhibits copy-on-modify behaviour so object `b` points to a new object in memory stored separately to the location of object `a` when it is modified.      \n",
    "\n",
    "When assigning variables, you must follow some rules:  \n",
    "+ Names must start with a letter (`a-z, A-Z`) or underscore (`_`) and can be followed by any number of letters, digits (`0-9`), or underscores (`_`).\n",
    "+ Names cannot be the same as reserved words (i.e. False, True, None, And, If, For, While). \n",
    "+ Names are case-sensitive: 'YOU', 'you', 'You', and 'yOu' are all different names in Python.\n",
    "+ Operator symbols also cannot be used.  \n",
    "\n",
    "**Note:** To make a copy of an object, use `b = a.copy()` or `b = a[:]` instead. "
   ]
  },
  {
   "cell_type": "code",
   "execution_count": 10,
   "metadata": {},
   "outputs": [],
   "source": [
    "#-----example 1-----\n",
    "x = [1, 2, 3] \n",
    "\n",
    "del x # deletes reference to the object in memory\n",
    "# print(x) now creates an error   "
   ]
  },
  {
   "cell_type": "code",
   "execution_count": 11,
   "metadata": {},
   "outputs": [
    {
     "name": "stdout",
     "output_type": "stream",
     "text": [
      "[5, 2, 3, 4, 5]\n"
     ]
    }
   ],
   "source": [
    "#-----example 2-----\n",
    "a = [1, 2, 3, 4, 5]\n",
    "b = a \n",
    "b[0] = 5 \n",
    "\n",
    "print(a) # a is also modified as a and b point to the same object in memory"
   ]
  },
  {
   "cell_type": "code",
   "execution_count": 12,
   "metadata": {},
   "outputs": [
    {
     "name": "stdout",
     "output_type": "stream",
     "text": [
      "[1, 2, 3, 4, 5]\n"
     ]
    }
   ],
   "source": [
    "#-----example 3-----\n",
    "a = [1, 2, 3, 4, 5]\n",
    "b = a.copy() \n",
    "b[0] = 5 \n",
    "\n",
    "print(a) # a is not modified as b is a copy of the object a"
   ]
  },
  {
   "cell_type": "markdown",
   "metadata": {},
   "source": [
    "# Getting help  \n",
    "\n",
    "You can find help with functions by typing `help(function)` or `?function`.    \n",
    "\n",
    "![](../02_figures/00_function-help-in-jupyter-notebook.jpg)  \n",
    "\n",
    "\n",
    "**Note:** This feature only works on functions and not on methods or operators (a universally shared set of common methods).  "
   ]
  },
  {
   "cell_type": "markdown",
   "metadata": {},
   "source": [
    "# Printing statements  \n",
    "\n",
    "Use the `print(\"string and {conditional string}\".format(conditional string))` format to print statements.  \n",
    "When printing multiple conditions, the position of the condition specified in `.format(x, y, z)` can be referenced numerically as `{1} {2} {3}`. "
   ]
  },
  {
   "cell_type": "code",
   "execution_count": 13,
   "metadata": {},
   "outputs": [
    {
     "name": "stdout",
     "output_type": "stream",
     "text": [
      "My name is Erika and I started learning R in 2018. I like R and Python!\n"
     ]
    }
   ],
   "source": [
    "#-----example 1-----\n",
    "name = \"Erika\"\n",
    "first_language = \"R\"\n",
    "year_R = 2018\n",
    "\n",
    "print(\"My name is {0} and I started learning {1} in {2}. I like {1} and Python!\".format(name, first_language, year_R))"
   ]
  },
  {
   "cell_type": "markdown",
   "metadata": {},
   "source": [
    "# Variable scope   \n",
    "\n",
    "Variables can have local or global scope:  \n",
    "\n",
    "+ Local scope refers to a variable that is only available within a single block of code (i.e. local scopes are found inside user-created functions).   \n",
    "+ Local variables created inside a user-defined function are deleted when the function returns an output.   \n",
    "+ Global scope refers to a variable that is available to any block of code once it is created.    \n",
    "+ Referencing global variables should be avoided inside user-defined functions (you have no control over whether the global variable has changed).   "
   ]
  },
  {
   "cell_type": "markdown",
   "metadata": {},
   "source": [
    "![](../02_figures/00_python-primitive-types-header.jpg)"
   ]
  },
  {
   "cell_type": "markdown",
   "metadata": {},
   "source": [
    "# Introduction to Python primitive types   \n",
    "\n",
    "Primitive types in Python consist of :  \n",
    "\n",
    "+ Strings (i.e. characters) \n",
    "+ Integers (i.e. whole numbers)\n",
    "+ Floats or doubles (i.e. decimal numbers)\n",
    "+ Complex numbers (i.e. 4-3j) \n",
    "+ Boolean values (i.e. True or False)  \n",
    "+ None type (NoneType contains a `none` value similar to `NA` in R. All user-defined methods return a `none` type unless explicitly defined.)\n",
    "\n",
    "A conversion hierarchy also exists (i.e. boolean values can be converted into integers or floats or strings, but strings cannot be converted into integers, floats or boolean values).  "
   ]
  },
  {
   "cell_type": "markdown",
   "metadata": {},
   "source": [
    "## Integers and floats  \n",
    "Integers can be converted into floats using `float()` whilst floats are floored when converted into integers using `int()`.   \n",
    "\n",
    "Mathematical operations can be performed on integers and floats and include:  \n",
    "\n",
    "+ Arithmetic operations like `+`, `-`, `*`, `/`, `//` (divide and floor), `**` (exponential) and `%` (modulus).  \n",
    "+ Assignment operations like `+=`, `-=`, `*=`, `/=`, `//=` etc.\n",
    "+ Comparisons i.e. `==` (equal), `!=` (not equal), `>` (greater), `>=` (greater or equal to) etc.   \n",
    "\n",
    "**Note**: The operator precedence is `**`, `%`, `//`, `/` or `*` and then `-` or `+`. "
   ]
  },
  {
   "cell_type": "code",
   "execution_count": 14,
   "metadata": {},
   "outputs": [
    {
     "data": {
      "text/plain": [
       "3"
      ]
     },
     "execution_count": 14,
     "metadata": {},
     "output_type": "execute_result"
    }
   ],
   "source": [
    "#-----example 1-----\n",
    "int(3.0) # convert a float into an integer"
   ]
  },
  {
   "cell_type": "code",
   "execution_count": 15,
   "metadata": {},
   "outputs": [
    {
     "data": {
      "text/plain": [
       "4000.0"
      ]
     },
     "execution_count": 15,
     "metadata": {},
     "output_type": "execute_result"
    }
   ],
   "source": [
    "#-----example 2-----\n",
    "float(4000) # convert a float into an integer"
   ]
  },
  {
   "cell_type": "code",
   "execution_count": 16,
   "metadata": {},
   "outputs": [
    {
     "data": {
      "text/plain": [
       "(3, 3)"
      ]
     },
     "execution_count": 16,
     "metadata": {},
     "output_type": "execute_result"
    }
   ],
   "source": [
    "#-----example 3-----\n",
    "int(3.4), int(3.6) # floats are floored not rounded before integer conversion"
   ]
  },
  {
   "cell_type": "code",
   "execution_count": 17,
   "metadata": {},
   "outputs": [
    {
     "data": {
      "text/plain": [
       "(3, 1)"
      ]
     },
     "execution_count": 17,
     "metadata": {},
     "output_type": "execute_result"
    }
   ],
   "source": [
    "#-----example 4-----  \n",
    "10 // 3, 10 % 3   \n",
    "\n",
    "# % calculates the remainder following division by the nearest whole number\n",
    "# // calculates what the nearest whole number divider is "
   ]
  },
  {
   "cell_type": "code",
   "execution_count": 18,
   "metadata": {
    "scrolled": true
   },
   "outputs": [
    {
     "data": {
      "text/plain": [
       "(0, 8)"
      ]
     },
     "execution_count": 18,
     "metadata": {},
     "output_type": "execute_result"
    }
   ],
   "source": [
    "#-----example 5-----\n",
    "(8 * 3 % 3), (8 + 3 % 3) # note % has precedence over +   "
   ]
  },
  {
   "cell_type": "code",
   "execution_count": 19,
   "metadata": {},
   "outputs": [
    {
     "data": {
      "text/plain": [
       "1"
      ]
     },
     "execution_count": 19,
     "metadata": {},
     "output_type": "execute_result"
    }
   ],
   "source": [
    "#-----example 6-----\n",
    "int(True) # you can convert boolean values into integers i.e. True == 1, False == 0"
   ]
  },
  {
   "cell_type": "markdown",
   "metadata": {},
   "source": [
    "## Strings\n",
    "\n",
    "Strings are used to store characters and are declared inside quotes i.e. `\"string\"` or `'string'` similar to R.      \n",
    "Strings can also be combined (i.e. addition and multiplication works on strings), although it is safer to join strings using `.join()` and split strings using `.split()`.  \n",
    "\n",
    "Strings can also be accessed using an integer and 0-based index for subsetting.    \n",
    "However, strings are also immutable objects (i.e. you cannot change the string in place with a command like `string[0] = \"new character\"`).   \n",
    "\n",
    "**Note:** Numerical values can be coerced into strings using `str()`. This might be useful for numerical IDs that should be treated as character strings. Otherwise, avoid this behaviour as numerical operations cannot be performed on character strings.  "
   ]
  },
  {
   "cell_type": "code",
   "execution_count": 20,
   "metadata": {},
   "outputs": [
    {
     "data": {
      "text/plain": [
       "'Erika M Duan'"
      ]
     },
     "execution_count": 20,
     "metadata": {},
     "output_type": "execute_result"
    }
   ],
   "source": [
    "#-----example 1-----\n",
    "my_name = \"Erika\" + \" \" + \"M\" + \" \" + \"Duan\" # manually add spaces via \" \"\n",
    "my_name "
   ]
  },
  {
   "cell_type": "code",
   "execution_count": 21,
   "metadata": {},
   "outputs": [
    {
     "data": {
      "text/plain": [
       "'Duan'"
      ]
     },
     "execution_count": 21,
     "metadata": {},
     "output_type": "execute_result"
    }
   ],
   "source": [
    "#-----example 2-----  \n",
    "my_name[-4:] # extract the last four characters in the string"
   ]
  },
  {
   "cell_type": "code",
   "execution_count": 22,
   "metadata": {},
   "outputs": [
    {
     "data": {
      "text/plain": [
       "'aaa'"
      ]
     },
     "execution_count": 22,
     "metadata": {},
     "output_type": "execute_result"
    }
   ],
   "source": [
    "#-----example 3-----\n",
    "alternates = \"abcabcabc\" \n",
    "alternates[0::3] # extract the first character in multiples of 3"
   ]
  },
  {
   "cell_type": "code",
   "execution_count": 23,
   "metadata": {},
   "outputs": [
    {
     "data": {
      "text/plain": [
       "'cbacbacba'"
      ]
     },
     "execution_count": 23,
     "metadata": {},
     "output_type": "execute_result"
    }
   ],
   "source": [
    "#-----example 4-----\n",
    "alternates[::-1] # recurses from the last character position"
   ]
  },
  {
   "cell_type": "code",
   "execution_count": 24,
   "metadata": {},
   "outputs": [
    {
     "data": {
      "text/plain": [
       "'my precioussssss!'"
      ]
     },
     "execution_count": 24,
     "metadata": {},
     "output_type": "execute_result"
    }
   ],
   "source": [
    "#-----example 5-----\n",
    "Gollum_says = \"my\" + \" \" + \"precious\" + \"s\" * 5 + \"!\"\n",
    "Gollum_says"
   ]
  },
  {
   "cell_type": "code",
   "execution_count": 25,
   "metadata": {},
   "outputs": [
    {
     "name": "stdout",
     "output_type": "stream",
     "text": [
      "4001\n"
     ]
    }
   ],
   "source": [
    "#-----example 6-----\n",
    "numerical_string = str(400)\n",
    "# numerical_string + 1 produces an error \n",
    "\n",
    "print(numerical_string + \"1\")\n",
    "# numerical operations on numerical strings produce undesirable results"
   ]
  },
  {
   "cell_type": "markdown",
   "metadata": {},
   "source": [
    "Useful methods for manipulating strings can be found [here](https://docs.python.org/3/library/stdtypes.html#string-methods) i.e. `.capitalize()` and `.title()` for changing character case, `.startswith()` and `.endswith()` for extracting a subset of strings, `.strip()` for stripping extra white space and etc.       "
   ]
  },
  {
   "cell_type": "code",
   "execution_count": 26,
   "metadata": {},
   "outputs": [
    {
     "data": {
      "text/plain": [
       "'Hello Word!'"
      ]
     },
     "execution_count": 26,
     "metadata": {},
     "output_type": "execute_result"
    }
   ],
   "source": [
    "#-----example 1-----\n",
    "(\"hello word!\").title()"
   ]
  },
  {
   "cell_type": "code",
   "execution_count": 27,
   "metadata": {},
   "outputs": [
    {
     "data": {
      "text/plain": [
       "True"
      ]
     },
     "execution_count": 27,
     "metadata": {},
     "output_type": "execute_result"
    }
   ],
   "source": [
    "#-----example 2-----\n",
    "(\"Singapore\").startswith(\"S\")"
   ]
  },
  {
   "cell_type": "code",
   "execution_count": 28,
   "metadata": {},
   "outputs": [
    {
     "data": {
      "text/plain": [
       "'a-b-c-d-e'"
      ]
     },
     "execution_count": 28,
     "metadata": {},
     "output_type": "execute_result"
    }
   ],
   "source": [
    "#-----example 3----- \n",
    "string = \"-\".join([\"a\", \"b\", \"c\", \"d\", \"e\"])\n",
    "string"
   ]
  },
  {
   "cell_type": "code",
   "execution_count": 29,
   "metadata": {},
   "outputs": [
    {
     "data": {
      "text/plain": [
       "['a', 'b', 'c', 'd', 'e']"
      ]
     },
     "execution_count": 29,
     "metadata": {},
     "output_type": "execute_result"
    }
   ],
   "source": [
    "#-----example 4-----\n",
    "string.split(\"-\") # split string into a list of strings  "
   ]
  },
  {
   "cell_type": "code",
   "execution_count": 30,
   "metadata": {},
   "outputs": [
    {
     "data": {
      "text/plain": [
       "'Student ID 1'"
      ]
     },
     "execution_count": 30,
     "metadata": {},
     "output_type": "execute_result"
    }
   ],
   "source": [
    "#-----example 5-----\n",
    "(\" \").join(\"   Student  ID 1\".split())\n",
    "\n",
    "# remove all unnecessary whitespace by first splitting the string into individual words\n",
    "# then rejoin words with \" \" as the separator  "
   ]
  },
  {
   "cell_type": "markdown",
   "metadata": {},
   "source": [
    "# Introduction to object-oriented programming  \n",
    "\n",
    "A class can be thought of as a blueprint for creating new objects that have specific dimensions and methods assigned to them.  \n",
    "\n",
    "The word `self` is used to represent an instance of the class, usually in reference to defining new object dimensions or methods. A more detailed explanation can be found [here](https://stackoverflow.com/questions/625083/what-init-and-self-do-on-python).      "
   ]
  },
  {
   "cell_type": "code",
   "execution_count": 31,
   "metadata": {},
   "outputs": [
    {
     "data": {
      "text/plain": [
       "40"
      ]
     },
     "execution_count": 31,
     "metadata": {},
     "output_type": "execute_result"
    }
   ],
   "source": [
    "#-----example 1----- \n",
    "class BasicRectangle: # define BasicRectangle class\n",
    "    width = 0\n",
    "    height = 0\n",
    "    \n",
    "    def area(self): # define function area with respect to self\n",
    "        return self.width * self.height  \n",
    "\n",
    "# create a new BasicRectangle object \n",
    "\n",
    "rectangle_a = BasicRectangle\n",
    "rectangle_a.width = 10\n",
    "rectangle_a.height = 4\n",
    "rectangle_a.area(rectangle_a) \n",
    "\n",
    "# a coding improvement is to use def __init__ to pre-define the behaviour of your object "
   ]
  },
  {
   "cell_type": "code",
   "execution_count": 32,
   "metadata": {
    "scrolled": true
   },
   "outputs": [
    {
     "data": {
      "text/plain": [
       "(12, 14)"
      ]
     },
     "execution_count": 32,
     "metadata": {},
     "output_type": "execute_result"
    }
   ],
   "source": [
    "#-----example 2-----\n",
    "class BasicRectangle: \n",
    "    \n",
    "    def __init__(self, width = 0, height = 0): # define the constructor method\n",
    "        self.width = width # linking self.width to the width argument above  \n",
    "        self.height = height\n",
    "        \n",
    "    def area(self): \n",
    "        return self.width * self.height \n",
    "    \n",
    "    def perimeter(self):\n",
    "        return 2 * self.width + 2 * self.height\n",
    "    \n",
    "# create a new BasicRectangle object and set width and height in one function  \n",
    "\n",
    "rectangle_b = BasicRectangle(width = 4, height = 3)\n",
    "rectangle_b.area(), rectangle_b.perimeter()"
   ]
  },
  {
   "cell_type": "code",
   "execution_count": 33,
   "metadata": {},
   "outputs": [
    {
     "name": "stdout",
     "output_type": "stream",
     "text": [
      "20\n"
     ]
    },
    {
     "data": {
      "text/plain": [
       "40"
      ]
     },
     "execution_count": 33,
     "metadata": {},
     "output_type": "execute_result"
    }
   ],
   "source": [
    "#-----example 3-----  \n",
    "class BasicRectangle:  \n",
    "    \n",
    "    def __init__(self, width = 0 , height = 0):\n",
    "        self.set_width(width = width) \n",
    "        self.set_height(height = height)\n",
    "        \n",
    "    def set_width(self, width): # allows methods to be called from inside the class  \n",
    "        self.width = width\n",
    "        \n",
    "    def set_height(self, height): \n",
    "        self.height = height\n",
    "        \n",
    "    def area(self):\n",
    "        return self.width * self.height  \n",
    "    \n",
    "# create a new BasicTectangle object \n",
    "# apply the method set_width to change an object property   \n",
    "# apply the method area()  \n",
    "\n",
    "rectangle_c = BasicRectangle(width = 10, height = 2) \n",
    "print(rectangle_c.area()) # 10 * 2 = 20\n",
    "\n",
    "rectangle_c.set_width(20)\n",
    "rectangle_c.area() # 20 * 2 = 40"
   ]
  },
  {
   "cell_type": "markdown",
   "metadata": {},
   "source": [
    "# Watch out for the 3 pet peeves of Python!  \n",
    "\n",
    "1. The first object in a list is stored in position `[0]` whilst the last object is stored in position `[-1]`.\n",
    "2. To slice from a list, always slice between `[a:b+1]` to extract values a to b.    \n",
    "3. The code `list2 = list1` merely creates a second reference pointing to the same list i.e. object. Use `list2 = list1[:]` or `list2 = list1.copy()` to create a new reference to a duplicate object instead.  "
   ]
  }
 ],
 "metadata": {
  "kernelspec": {
   "display_name": "Python 3",
   "language": "python",
   "name": "python3"
  },
  "language_info": {
   "codemirror_mode": {
    "name": "ipython",
    "version": 3
   },
   "file_extension": ".py",
   "mimetype": "text/x-python",
   "name": "python",
   "nbconvert_exporter": "python",
   "pygments_lexer": "ipython3",
   "version": "3.7.9"
  }
 },
 "nbformat": 4,
 "nbformat_minor": 2
}
