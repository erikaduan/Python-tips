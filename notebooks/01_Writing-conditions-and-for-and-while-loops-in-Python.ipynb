{
 "cells": [
  {
   "cell_type": "markdown",
   "metadata": {},
   "source": [
    "# Conditions and `for` and `while` loops          \n",
    "## Author: Erika Duan     "
   ]
  },
  {
   "cell_type": "markdown",
   "metadata": {},
   "source": [
    "![](../02_figures/01_if-statements-header.jpg)"
   ]
  },
  {
   "cell_type": "markdown",
   "metadata": {},
   "source": [
    "# Manipulating booleans values    \n",
    "\n",
    "The boolean data type is central to code evaluation.   \n",
    "\n",
    "Boolean values:    \n",
    "+ Can only either be `True` or `False`.      \n",
    "+ Can be stored inside data structures i.e. lists, dictionaries, tuples, sets and data frames.  \n",
    "+ Is the output of mathematical operations.  \n",
    "+ Is the output of equality/ non-equality statements using `==` or `!=`, or `is` or `is not` respectively.  \n",
    "\n",
    "**Note:** Always use the operation `==` instead of `is` to compare if two objects are equal. The operator `is` only returns `True` if two variables point to the same object.    "
   ]
  },
  {
   "cell_type": "code",
   "execution_count": 1,
   "metadata": {},
   "outputs": [
    {
     "name": "stdout",
     "output_type": "stream",
     "text": [
      "True is of class: <class 'bool'>.\n"
     ]
    }
   ],
   "source": [
    "print(\"{} is of class: {}.\" .format(True, type(True)))"
   ]
  },
  {
   "cell_type": "code",
   "execution_count": 2,
   "metadata": {},
   "outputs": [
    {
     "name": "stdout",
     "output_type": "stream",
     "text": [
      "False\n",
      "True\n"
     ]
    }
   ],
   "source": [
    "#-----example 1-----\n",
    "list_1 = [0, 1, 2, 3,['a', 'c', 'c']] \n",
    "\n",
    "print(4 in list_1) \n",
    "print(list_1[4][0] == 'a')"
   ]
  },
  {
   "cell_type": "code",
   "execution_count": 3,
   "metadata": {},
   "outputs": [
    {
     "name": "stdout",
     "output_type": "stream",
     "text": [
      "True\n",
      "True\n"
     ]
    }
   ],
   "source": [
    "#-----example 2-----  \n",
    "dict_1 = {\"team_1\": [\"a\", \"b\", \"c\"],\n",
    "          \"team_2\": [\"d\", \"e\", \"d\", \"f\"]}\n",
    "\n",
    "# you can use dict_1.get(\"key\", \"No key exists\") to return values from a dictionary\n",
    "# you can also check whether a key exists using an in/ not in statement  \n",
    "\n",
    "print(\"team_1\" in dict_1)\n",
    "print(\"team_3\" not in dict_1)"
   ]
  },
  {
   "cell_type": "markdown",
   "metadata": {},
   "source": [
    "# Writing `if` statements   \n",
    "\n",
    "The syntax for writing conditions (i.e. `if` statements) is:   \n",
    "\n",
    "**If you only want to perform an action if the condition is true.** \n",
    "\n",
    "+ **if** condition **is True:**   \n",
    "    + action(task 1)\n",
    "\n",
    "**If you want to perform two actions; one if the condition is true and another if the condition is not true.** \n",
    "\n",
    "+ **if** condition **is True:**    \n",
    "    + action(task 1)  \n",
    "+ **else:**    \n",
    "    + action(task 2)  \n",
    "\n",
    "**If the condition contains more than 2 possibilities.**    \n",
    "\n",
    "+ **if** condition == \"state_1\"**:**    \n",
    "    + action(task 1)  \n",
    "+ **elif** condition == \"state_2\"**:**  \n",
    "    + action(task 2)  \n",
    "+ **elif** condition == \"state_3\"**:**   \n",
    "    + action(task 3)  \n",
    "+ **else:**   \n",
    "    + action(task_4)    "
   ]
  },
  {
   "cell_type": "code",
   "execution_count": 4,
   "metadata": {
    "scrolled": true
   },
   "outputs": [
    {
     "name": "stdout",
     "output_type": "stream",
     "text": [
      "Eat ice cream today.\n",
      "Hooray\n"
     ]
    }
   ],
   "source": [
    "#-----example 1-----  \n",
    "summer = True \n",
    "    \n",
    "if summer == True:\n",
    "    print(\"Eat ice cream today.\")\n",
    "else:\n",
    "    print(\"Eat icecream later\")\n",
    "\n",
    "print(\"Hooray\") # external print function"
   ]
  },
  {
   "cell_type": "code",
   "execution_count": 5,
   "metadata": {},
   "outputs": [
    {
     "name": "stdout",
     "output_type": "stream",
     "text": [
      "Warning: wear sunscreen!\n"
     ]
    }
   ],
   "source": [
    "#-----example 2-----  \n",
    "import datetime\n",
    "today = datetime.date.today() # class datetime.date  \n",
    "\n",
    "if 1 <= today.month <= 2: \n",
    "    print(\"Warning: wear sunscreen!\")  \n",
    "elif 5 <= today.month <= 7:  \n",
    "    print(\"Warning: cold weather!\")  \n",
    "elif 8 <= today.month <= 10:  \n",
    "    print(\"Warning: MAGPIES!\") \n",
    "else: \n",
    "    print(\"It's safe to cycle.\")   "
   ]
  },
  {
   "cell_type": "markdown",
   "metadata": {},
   "source": [
    "**Note:** Make sure each condition represents a mutually exclusive statement or Python will just evaluate the foremost applicable condition.      "
   ]
  },
  {
   "cell_type": "code",
   "execution_count": 6,
   "metadata": {},
   "outputs": [
    {
     "name": "stdout",
     "output_type": "stream",
     "text": [
      "Less than 50\n"
     ]
    }
   ],
   "source": [
    "#-----example 3----- \n",
    "count = 20\n",
    "\n",
    "if 0 <= count < 50: \n",
    "    print(\"Less than 50\")\n",
    "elif 0 <= count < 100:\n",
    "    print(\"Less than 100\")\n",
    "else:\n",
    "    print(\"More than 100\")  \n",
    "    \n",
    "# Python will stop after the first applicable condition  "
   ]
  },
  {
   "cell_type": "markdown",
   "metadata": {},
   "source": [
    "## Nesting `if` statements   \n",
    "\n",
    "We can also place indented conditional statements within a conditional statement. This is known as **nesting** and permits the evaluation of multiple overlapping conditions.  \n",
    "\n",
    "For best practice coding, we would choose to place our most inclusive condition at the top. However, nested code is able to run in both directions.  \n",
    "\n",
    "**If we nest two conditions together.**   \n",
    "\n",
    "+ **if** condition == 1**:**  \n",
    "    + action(task 1) \n",
    "    + **if** condition == 2**:**    \n",
    "        + action(task 3) \n",
    "    + **else:** \n",
    "        + action(task 4)  \n",
    "+ **else:** \n",
    "    + action(task 2)  \n",
    " "
   ]
  },
  {
   "cell_type": "code",
   "execution_count": 7,
   "metadata": {},
   "outputs": [
    {
     "name": "stdout",
     "output_type": "stream",
     "text": [
      "Less than 100\n",
      "Less than 50\n"
     ]
    }
   ],
   "source": [
    "#-----example 1-----\n",
    "count = 20\n",
    "\n",
    "if 0 <= count < 100: # most limiting statement placed at the top\n",
    "    print(\"Less than 100\")    \n",
    "    if count < 50: # indented nested second condition\n",
    "        print(\"Less than 50\")\n",
    "    else: \n",
    "        print(\"Greater than 50\")"
   ]
  },
  {
   "cell_type": "code",
   "execution_count": 8,
   "metadata": {},
   "outputs": [
    {
     "name": "stdout",
     "output_type": "stream",
     "text": [
      "Less than 50\n",
      "Less than 100\n"
     ]
    }
   ],
   "source": [
    "count = 20\n",
    "\n",
    "if 0 <= count < 50:\n",
    "    print(\"Less than 50\")    \n",
    "    if 0 <= count < 100: \n",
    "        print(\"Less than 100\")\n",
    "\n",
    "# nesting permits multiple rounds of inclusive evaluations "
   ]
  },
  {
   "cell_type": "markdown",
   "metadata": {},
   "source": [
    "**Note:** In terms of coding best practice, however, nesting is difficult to read and should be avoided.    "
   ]
  },
  {
   "cell_type": "markdown",
   "metadata": {},
   "source": [
    "## Combining boolean operators  \n",
    "\n",
    "We can also combine multiple conditions into a single statement using **or** (also denoted by `^`) or **and** (also denoted by `&`).    \n",
    "\n",
    "**Note:** The operator `^` is an exclusive `or` in contrast to the inclusive `or` operator `|`, which includes all conditions that are true.   "
   ]
  },
  {
   "cell_type": "code",
   "execution_count": 9,
   "metadata": {},
   "outputs": [
    {
     "name": "stdout",
     "output_type": "stream",
     "text": [
      "This is unbearable!\n"
     ]
    }
   ],
   "source": [
    "#-----example 1-----\n",
    "winter = True \n",
    "coffee = None\n",
    "\n",
    "if (winter is True) ^ (coffee == None): # ^ refers only to either of the conditions happening \n",
    "    print (\"This is alright I guess.\")\n",
    "elif (winter is True) & (coffee == None):\n",
    "    print (\"This is unbearable!\")"
   ]
  },
  {
   "cell_type": "code",
   "execution_count": 10,
   "metadata": {
    "scrolled": true
   },
   "outputs": [
    {
     "name": "stdout",
     "output_type": "stream",
     "text": [
      "This is alright I guess.\n",
      "Remember the difference between `|` and `^`.\n"
     ]
    }
   ],
   "source": [
    "#-----example 2-----\n",
    "winter = True \n",
    "coffee = None\n",
    "\n",
    "if (winter is True) | (coffee == None): # | is inclusive and also accepts both conditions == True\n",
    "    print (\"This is alright I guess.\")\n",
    "elif (winter is True) & (coffee == None):\n",
    "    print (\"This is unbearable!\")  \n",
    "    \n",
    "print(\"Remember the difference between `|` and `^`.\")"
   ]
  },
  {
   "cell_type": "markdown",
   "metadata": {},
   "source": [
    "![](../02_figures/01_for-loops-header.jpg)"
   ]
  },
  {
   "cell_type": "markdown",
   "metadata": {},
   "source": [
    "# Writing `for` loops"
   ]
  },
  {
   "cell_type": "markdown",
   "metadata": {},
   "source": [
    "In programming, `for` loops are used to iterate code and to prevent us from writing the same line of code repeatedly. \n",
    "\n",
    "**If we iterate using a `for` loop.**\n",
    "\n",
    "+ **For** each element **in** a collection: \n",
    "    + action(task_1)   \n",
    "    + action(task_2)\n",
    "    \n",
    "Indentation is important as each indent represents a new command. Each `for` loop command is run once for each element in a collection.   \n",
    "\n",
    "**Note:** It is useful to add a final print command to denote when all indented commands inside a `for` loop have finished running.    "
   ]
  },
  {
   "cell_type": "code",
   "execution_count": 11,
   "metadata": {},
   "outputs": [
    {
     "name": "stdout",
     "output_type": "stream",
     "text": [
      "L\n",
      "E\n",
      "A\n",
      "D\n",
      "Be careful. Once we finish running the loop, L is globally assigned to D and letter is assigned to d.\n"
     ]
    }
   ],
   "source": [
    "#-----example 1-----\n",
    "element = 'lead'\n",
    "\n",
    "for letter in element:\n",
    "    L = letter.upper()\n",
    "    print(L) \n",
    "    \n",
    "print(\"Be careful. Once we finish running the loop, L is globally assigned to {} and letter is assigned to {}.\"\n",
    "      .format(L, letter))"
   ]
  },
  {
   "cell_type": "code",
   "execution_count": 12,
   "metadata": {},
   "outputs": [
    {
     "name": "stdout",
     "output_type": "stream",
     "text": [
      "String a with length 1.\n",
      "String b with length 1.\n",
      "String cd with length 2.\n",
      "String ef with length 2.\n",
      "6 is an integer and not a string.\n",
      "True is not a string or number.\n",
      "Evaluation finished!\n"
     ]
    }
   ],
   "source": [
    "#-----example 2-----\n",
    "list_1 = [\"a\", \"b\", \"cd\", \"ef\", 6, True]\n",
    "\n",
    "for element in list_1:    \n",
    "    if type(element) is str: \n",
    "        print(\"String {} with length {}.\" .format(element, len(element)))\n",
    "    elif type(element) is int:\n",
    "        print(\"{} is an integer and not a string.\" .format(element))\n",
    "    else:\n",
    "        print(\"{} is not a string or number.\" .format(element))  \n",
    "        \n",
    "print('Evaluation finished!')"
   ]
  },
  {
   "cell_type": "markdown",
   "metadata": {},
   "source": [
    "### Using range with a `for` loop    \n",
    "\n",
    "We can easily loop over strings or lists or other Python data structures, as they are iterable by default (Python recognises that they contain an inherent sequence of elements).  \n",
    "\n",
    "In cases where we only want to iterate through several items in a list (and do not want to hard code each condition using an if statement), we can utilise `range()` inside our `for` loop and iterate via the index of a list or other Python data structure. "
   ]
  },
  {
   "cell_type": "code",
   "execution_count": 13,
   "metadata": {},
   "outputs": [
    {
     "name": "stdout",
     "output_type": "stream",
     "text": [
      "Value: 1\n",
      "Value: 2\n",
      "Value: 3\n"
     ]
    }
   ],
   "source": [
    "#-----example 1-----\n",
    "for value in range(1, 3+1):    \n",
    "    print(\"Value: {}\" .format(value))  \n",
    "    \n",
    "# used range(1, 3+1) if you want to print the last number in the specified range"
   ]
  },
  {
   "cell_type": "code",
   "execution_count": 14,
   "metadata": {},
   "outputs": [
    {
     "name": "stdout",
     "output_type": "stream",
     "text": [
      "Index: 0, a\n",
      "Index: 2, c\n",
      "Index: 4, e\n",
      "Index: 6, g\n",
      "Index: 8, i\n"
     ]
    }
   ],
   "source": [
    "#-----example 2-----\n",
    "list_2 = [\"a\", \"b\", \"c\", \"d\", \"e\", \"f\", \"g\", \"h\", \"i\", \"j\"] \n",
    "\n",
    "for i in range(0, len(list_2), 2):\n",
    "    print(\"Index: {}, {}\" .format(i, list_2[i]))  \n",
    "\n",
    "# we can use len() as the stop argument for range    "
   ]
  },
  {
   "cell_type": "code",
   "execution_count": 15,
   "metadata": {},
   "outputs": [
    {
     "name": "stdout",
     "output_type": "stream",
     "text": [
      "[2, 4, 6, 8, 10]\n"
     ]
    }
   ],
   "source": [
    "#-----example 3-----  \n",
    "list_1 = list() # define for loop container  \n",
    "\n",
    "for i in range(2, 11, 2):\n",
    "    list_1.append(i)\n",
    "    \n",
    "print(list_1)\n",
    "\n",
    "# note that the output is equivalent to list(range(2, 11, 2)) \n",
    "# do not place list_1 = list() inside the for loop as it will recreate a blank list during each iteration"
   ]
  },
  {
   "cell_type": "markdown",
   "metadata": {},
   "source": [
    "**Note:** We need to be careful when iterating over a dictionary, as a dictionary contains key-value pairs and we need to specifiy whether we would like to iterate over the key or value inside each dictionary item.   "
   ]
  },
  {
   "cell_type": "code",
   "execution_count": 16,
   "metadata": {},
   "outputs": [
    {
     "name": "stdout",
     "output_type": "stream",
     "text": [
      "{'range': [1, 10], 'mean': 5.29, 'median': 5, 'mode': 3}\n",
      "{'range': [1, 10], 'mean': 5.29, 'median': 5, 'mode': 3}\n",
      "{'range': [1, 10], 'mean': 5.29, 'median': 5, 'mode': 3}\n",
      "{'range': [1, 10], 'mean': 5.29, 'median': 5, 'mode': 3}\n"
     ]
    }
   ],
   "source": [
    "#-----example 1-----\n",
    "dict_1 = {\"range\": [1, 10],\n",
    "          \"mean\": 5.29,\n",
    "          \"median\": 5,\n",
    "          \"mode\": 3}  \n",
    "\n",
    "for item in dict_1:\n",
    "    print(dict_1)  "
   ]
  },
  {
   "cell_type": "code",
   "execution_count": 17,
   "metadata": {},
   "outputs": [
    {
     "name": "stdout",
     "output_type": "stream",
     "text": [
      "range: [1, 10]\n",
      "mean: 5.29\n",
      "median: 5\n",
      "mode: 3\n"
     ]
    }
   ],
   "source": [
    "#-----example 2-----\n",
    "for key, value in dict_1.items():\n",
    "    print(\"{}: {}\" .format(key, value))"
   ]
  },
  {
   "cell_type": "markdown",
   "metadata": {},
   "source": [
    "### When to use list comprehension instead of `for` loops  \n",
    "\n",
    "When we are interested in obtaining a list as our output, we can use [list comprehension](https://www.programiz.com/python-programming/list-comprehension) instead of writing `for` loops.   \n",
    "\n",
    "List comprehension is a concise alternative for creating lists by iterating on existing lists. You do not need to manually construct an empty list before the `for` loop and you do not need to manually append each iterative output to the new list.     "
   ]
  },
  {
   "cell_type": "code",
   "execution_count": 18,
   "metadata": {},
   "outputs": [
    {
     "name": "stdout",
     "output_type": "stream",
     "text": [
      "['E', 'X', 'A', 'M', 'P', 'L', 'E']\n"
     ]
    },
    {
     "data": {
      "text/plain": [
       "['E', 'X', 'A', 'M', 'P', 'L', 'E']"
      ]
     },
     "execution_count": 18,
     "metadata": {},
     "output_type": "execute_result"
    }
   ],
   "source": [
    "#-----example 1-----\n",
    "example_letters = list()\n",
    "\n",
    "for letter in \"example\":\n",
    "    L = letter.upper()\n",
    "    example_letters.append(L)\n",
    "\n",
    "print(example_letters)  \n",
    "\n",
    "# this can be re-written using list comprehension  \n",
    "\n",
    "example_letters_2 = [letter.upper() for letter in \"example\"]\n",
    "example_letters_2"
   ]
  },
  {
   "cell_type": "code",
   "execution_count": 19,
   "metadata": {},
   "outputs": [
    {
     "name": "stdout",
     "output_type": "stream",
     "text": [
      "[1, 4, 9, 16, 25, 36, 49, 64, 81, 100]\n"
     ]
    }
   ],
   "source": [
    "#-----example 2.1-----  \n",
    "squares_list = []\n",
    "\n",
    "for value in range (1, 11, 1):\n",
    "    squared = value ** 2\n",
    "    squares_list.append(squared) \n",
    "    \n",
    "print(squares_list) "
   ]
  },
  {
   "cell_type": "code",
   "execution_count": 20,
   "metadata": {},
   "outputs": [
    {
     "data": {
      "text/plain": [
       "[1, 4, 9, 16, 25, 36, 49, 64, 81, 100]"
      ]
     },
     "execution_count": 20,
     "metadata": {},
     "output_type": "execute_result"
    }
   ],
   "source": [
    "#-----example 2.2-----  \n",
    "squares_list_2 = [value ** 2 for value in range(1,11)]\n",
    "squares_list_2\n",
    "\n",
    "# using list comprehension is much more elegant"
   ]
  },
  {
   "cell_type": "markdown",
   "metadata": {},
   "source": [
    "### `For` loop challenge 1\n",
    "\n",
    "We want to create a dictionary that counts how many times a word occurs inside a list. \n",
    "\n",
    "For example, imagine if `sentence = ['list', 'of', 'words', 'list', \"!\"]`.   \n",
    "\n",
    "The dictionary we want to create would be `counts = {\"list\": 2, \"of\": 1, \"words\": 1, \"!\": 1}`.     "
   ]
  },
  {
   "cell_type": "code",
   "execution_count": 21,
   "metadata": {},
   "outputs": [
    {
     "name": "stdout",
     "output_type": "stream",
     "text": [
      "{'how': 1, 'many': 3, 'words': 2, 'is': 1, 'this': 1, '?': 1, '!': 3, 'too': 2}\n"
     ]
    }
   ],
   "source": [
    "#-----challenge 1-----\n",
    "sentence = ['How', 'many', 'WORDS', 'is', 'this', '?', \"!\", 'Too', 'many','words', \"!\", 'Too', 'many', '!']  \n",
    "\n",
    "counts = {} # define dictionary of counts  \n",
    "\n",
    "for word in sentence:\n",
    "    word = word.lower()\n",
    "    if word not in counts:\n",
    "        counts[word] = 1\n",
    "    else:\n",
    "        counts[word] += 1 \n",
    "        \n",
    "print(counts)"
   ]
  },
  {
   "cell_type": "markdown",
   "metadata": {},
   "source": [
    "![](../02_figures/01_while-loops-header.jpg)"
   ]
  },
  {
   "cell_type": "markdown",
   "metadata": {},
   "source": [
    "# Writing `while` loops    \n",
    "\n",
    "A `while` loop allows you to keep performing a series of operations as long as a condition is true. This makes them great for cases when you do not know how many iterations of code you need to run.  \n",
    "\n",
    "A `while` statement can have an optional `else` clause to help exit the `while` loop.    \n",
    "\n",
    "**If we iterate using a while loop.**  \n",
    "\n",
    "+ **while** condition **is True:**  \n",
    "    + action(task_1) repeatedly\n",
    "\n",
    "**Note:** In general, `while` loops should be used with great caution as they can inadvertently produce infinite loops.  "
   ]
  },
  {
   "cell_type": "code",
   "execution_count": 22,
   "metadata": {},
   "outputs": [
    {
     "name": "stdout",
     "output_type": "stream",
     "text": [
      "0 is less than 5. Keep going!\n",
      "1 is less than 5. Keep going!\n",
      "2 is less than 5. Keep going!\n",
      "3 is less than 5. Keep going!\n",
      "4 is less than 5. Keep going!\n",
      "Stop! We have reached 5!\n"
     ]
    }
   ],
   "source": [
    "#-----example 1-----\n",
    "n = 0\n",
    "\n",
    "while n < 5:\n",
    "    print(\"{} is less than 5. Keep going!\" .format(n))\n",
    "    n += 1 # the same as n = n+1\n",
    "else: \n",
    "    print(\"Stop! We have reached 5!\")"
   ]
  },
  {
   "cell_type": "markdown",
   "metadata": {},
   "source": [
    "### `While` loop challenge 1  \n",
    "\n",
    "The Fibbonaci sequence is defined as $ x_n = x_{n-1} + x_{n-2}$ where $x_n$ represents the number for the $n^{th}$ term.  \n",
    "\n",
    "$x_0 = 0$   \n",
    "$x_1 = 1$  \n",
    "\n",
    "$x_2 = x_{2-1} + x_{2-2}$  \n",
    "$\\therefore x_2 = x_1 + x_0 = 1 + 0 = 1$   \n",
    "\n",
    "Write a program that tells you how many iterations of the fibonacci sequence it takes before reaching a randomly selected number greater than 10,000.    "
   ]
  },
  {
   "cell_type": "code",
   "execution_count": 23,
   "metadata": {},
   "outputs": [
    {
     "name": "stdout",
     "output_type": "stream",
     "text": [
      "Random number selected: 28971\n",
      "The last iteration is 15 and the last Fibbonaci number before reaching 28971 is 16384.\n"
     ]
    }
   ],
   "source": [
    "#-----challenge 1-----\n",
    "import numpy as np\n",
    "\n",
    "rng = np.random.default_rng(111)\n",
    "random_num = rng.integers(10000, 50000)\n",
    "print(\"Random number selected: {}\" .format(random_num))  \n",
    "\n",
    "# define starting sequences \n",
    "total = 0\n",
    "i = 0 # first iteration = 0 + 1\n",
    "a = 0\n",
    "b = 1\n",
    "\n",
    "while total < random_num:\n",
    "    total = a + b\n",
    "    a = b\n",
    "    b = a + b\n",
    "    i += 1\n",
    "else: \n",
    "    print(\"The last iteration is {} and the last Fibbonaci number before reaching {} is {}.\" \n",
    "          .format(i-1, random_num, total-a))  \n",
    "\n",
    "# the last value for a is rewritten to represent x_{n-1}"
   ]
  }
 ],
 "metadata": {
  "kernelspec": {
   "display_name": "Python 3",
   "language": "python",
   "name": "python3"
  },
  "language_info": {
   "codemirror_mode": {
    "name": "ipython",
    "version": 3
   },
   "file_extension": ".py",
   "mimetype": "text/x-python",
   "name": "python",
   "nbconvert_exporter": "python",
   "pygments_lexer": "ipython3",
   "version": "3.7.9"
  }
 },
 "nbformat": 4,
 "nbformat_minor": 2
}
