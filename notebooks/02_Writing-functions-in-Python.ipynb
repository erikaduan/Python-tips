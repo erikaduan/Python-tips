{
 "cells": [
  {
   "cell_type": "markdown",
   "metadata": {},
   "source": [
    "# Writing functions and error handling      \n",
    "## Author: Erika Duan"
   ]
  },
  {
   "cell_type": "markdown",
   "metadata": {},
   "source": [
    "![](../02_figures/02_writing-functions-header.jpg)"
   ]
  },
  {
   "cell_type": "markdown",
   "metadata": {},
   "source": [
    "# Writing functions  \n",
    "\n",
    "If you find yourself writing the same lines of code more than twice, turn your code into a function.  \n",
    "\n",
    "The syntax for writing basic functions is :  \n",
    "+ **def** example_function**(x):**\n",
    "    + action(x) \n",
    "    + return(x)   \n",
    "    \n",
    "**Note:** In contrast to R, a Python function returns an object that is **None** type, unless explicitly returned otherwise.     "
   ]
  },
  {
   "cell_type": "code",
   "execution_count": 1,
   "metadata": {},
   "outputs": [
    {
     "name": "stdout",
     "output_type": "stream",
     "text": [
      "The time is 23:05:42 on Tuesday 26 January 2021.\n"
     ]
    }
   ],
   "source": [
    "#-----example 1.1-----  \n",
    "def print_date():  \n",
    "    import datetime  \n",
    "    now = datetime.datetime.now() \n",
    "    print(\"The time is {} on {} {} {} {}.\"\n",
    "          .format(now.strftime(\"%X\"),\n",
    "                  now.strftime(\"%A\"),\n",
    "                  now.strftime(\"%d\"),\n",
    "                  now.strftime(\"%B\"),\n",
    "                  now.strftime(\"%Y\")))\n",
    "    \n",
    "print_date() \n",
    "\n",
    "# remember to type '()' after function name"
   ]
  },
  {
   "cell_type": "code",
   "execution_count": 2,
   "metadata": {
    "scrolled": true
   },
   "outputs": [
    {
     "name": "stdout",
     "output_type": "stream",
     "text": [
      "The time is 23:05:42 on Tuesday 26 January 2021.\n"
     ]
    },
    {
     "data": {
      "text/plain": [
       "NoneType"
      ]
     },
     "execution_count": 2,
     "metadata": {},
     "output_type": "execute_result"
    }
   ],
   "source": [
    "#-----example 1.2-----\n",
    "type(print_date())"
   ]
  },
  {
   "cell_type": "code",
   "execution_count": 3,
   "metadata": {},
   "outputs": [
    {
     "name": "stdout",
     "output_type": "stream",
     "text": [
      "5\n",
      "23\n"
     ]
    }
   ],
   "source": [
    "#-----example 2-----\n",
    "def add_integers(x, y):\n",
    "    z = x + y\n",
    "    print(z) # prints z locally\n",
    "    \n",
    "add_integers(2, 3)   \n",
    "add_integers('2', '3')   "
   ]
  },
  {
   "cell_type": "markdown",
   "metadata": {},
   "source": [
    "**Note:** The first example behaves exactly as intended but the second example returns a misleading result. We need to incorporate error handling to prevent the second scenario from returning an output.  "
   ]
  },
  {
   "cell_type": "markdown",
   "metadata": {},
   "source": [
    "## Global versus local variable scope     \n",
    "\n",
    "A variable's scope refers to the range of the script and environment where it is visible.   \n",
    "\n",
    "**Global variable**- a variable that is visible in every function i.e. modifications to it are permanent and visible to every function.    \n",
    "**Local variable** - a variable with limited scope i.e. it only exists within the block of code that it is declared in. \n",
    "\n",
    "We previously learnt that a consequence of `for` loops is that variables are globally assigned and retain their assignment following the completion of the `for` loop. In contrast, variables found within functions are only assigned locally within the function and do not exist in the global environment.  "
   ]
  },
  {
   "cell_type": "code",
   "execution_count": 4,
   "metadata": {
    "scrolled": true
   },
   "outputs": [
    {
     "name": "stdout",
     "output_type": "stream",
     "text": [
      "['A', 'L', 'P', 'H', 'A', 'B', 'E', 'T']\n",
      "T\n"
     ]
    }
   ],
   "source": [
    "#-----example 1.1----- \n",
    "list_1 = list() # specify list outside for loop\n",
    "word = \"alphabet\" # specify container outside for loop\n",
    "\n",
    "for letter in word: \n",
    "    L = letter.upper()\n",
    "    list_1.append(L)  \n",
    "    \n",
    "print(list_1)\n",
    "print(L) \n",
    "\n",
    "# warning: L is also globally assigned as 'T'"
   ]
  },
  {
   "cell_type": "code",
   "execution_count": 5,
   "metadata": {},
   "outputs": [],
   "source": [
    "#-----example 1.2----- \n",
    "# redundant global assignments are avoided with list comprehensions\n",
    "# as list comprehensions remove the need for intermediate assignments  \n",
    "\n",
    "word = \"alphabet\"\n",
    "list_1 = [letter.upper() for letter in word] \n",
    "\n",
    "# print(letter)\n",
    "#> NameError: name 'letter' is not defined"
   ]
  },
  {
   "cell_type": "code",
   "execution_count": 6,
   "metadata": {},
   "outputs": [
    {
     "name": "stdout",
     "output_type": "stream",
     "text": [
      "3\n"
     ]
    }
   ],
   "source": [
    "#-----example 2.1-----\n",
    "x = 1\n",
    "y = 2\n",
    "z = 100 \n",
    "\n",
    "def add_integers(x, y):\n",
    "    z = x + y\n",
    "    print(z) # prints z locally     \n",
    "\n",
    "add_integers(x, y) "
   ]
  },
  {
   "cell_type": "code",
   "execution_count": 7,
   "metadata": {},
   "outputs": [
    {
     "name": "stdout",
     "output_type": "stream",
     "text": [
      "100\n"
     ]
    }
   ],
   "source": [
    "#-----example 2.2-----  \n",
    "# evaluating the function above does not change the global assignment for z    \n",
    "print(z) \n",
    "del z"
   ]
  },
  {
   "cell_type": "code",
   "execution_count": 8,
   "metadata": {},
   "outputs": [
    {
     "name": "stdout",
     "output_type": "stream",
     "text": [
      "[1, 2, 3, 5]\n"
     ]
    }
   ],
   "source": [
    "#-----example 3----- \n",
    "test = [1, 2, 3] # global variable here\n",
    "\n",
    "def add_to_list(list, x):\n",
    "    list.append(x)  \n",
    "    \n",
    "add_to_list(test, 5)\n",
    "print(test)  \n",
    "\n",
    "# we can also change a global variable using a function\n",
    "# but the syntax denoting the expected output is not completely clear "
   ]
  },
  {
   "cell_type": "markdown",
   "metadata": {},
   "source": [
    "## Using `return()` to output variables   "
   ]
  },
  {
   "cell_type": "markdown",
   "metadata": {},
   "source": [
    "When we evaluate a function, we are only performing an operation locally on variables inside the function.      \n",
    "To output a globally assignable variable, we should **explicitly return** an output that we then **assign globally**.     "
   ]
  },
  {
   "cell_type": "code",
   "execution_count": 9,
   "metadata": {},
   "outputs": [
    {
     "name": "stdout",
     "output_type": "stream",
     "text": [
      "7\n"
     ]
    }
   ],
   "source": [
    "#-----example 1.1-----\n",
    "x = 3\n",
    "y = 4\n",
    "\n",
    "def add_integers(x, y):\n",
    "    z = x + y\n",
    "    print(z) # prints z locally but does not return z globally  \n",
    "    \n",
    "add_integers(x, y)\n",
    "\n",
    "# print(z) \n",
    "#> NameError: name 'z' is not defined   "
   ]
  },
  {
   "cell_type": "code",
   "execution_count": 10,
   "metadata": {},
   "outputs": [
    {
     "name": "stdout",
     "output_type": "stream",
     "text": [
      "7\n",
      "None\n"
     ]
    }
   ],
   "source": [
    "#-----example 1.2-----  \n",
    "z = add_integers(x, y)\n",
    "print(z) \n",
    "\n",
    "# z is None i.e. it still does not exist globally "
   ]
  },
  {
   "cell_type": "code",
   "execution_count": 11,
   "metadata": {
    "scrolled": true
   },
   "outputs": [
    {
     "name": "stdout",
     "output_type": "stream",
     "text": [
      "7\n"
     ]
    }
   ],
   "source": [
    "#-----example 1.3-----\n",
    "x = 3\n",
    "y = 4\n",
    "\n",
    "def add_integers(x, y):\n",
    "    z = x + y\n",
    "    return(z)  \n",
    "    \n",
    "z = add_integers(x, y)\n",
    "print(z) # output z can be assigned globally "
   ]
  },
  {
   "cell_type": "markdown",
   "metadata": {},
   "source": [
    "**Note:** In Python, we can also return multiple items using the `return x, y ,z` instead of limiting ourselves to `return(x)`. We can also return the output as a list, dictionary or Pandas DataFrame etc.      "
   ]
  },
  {
   "cell_type": "code",
   "execution_count": 12,
   "metadata": {},
   "outputs": [
    {
     "name": "stdout",
     "output_type": "stream",
     "text": [
      "[True, False]\n",
      "[True, True]\n"
     ]
    }
   ],
   "source": [
    "#-----example 1-----\n",
    "def numerical_check(x, y):\n",
    "    num_list = []\n",
    "    if isinstance(x, (int, float)): \n",
    "        num_list.append(True)\n",
    "    else: \n",
    "        num_list.append(False)\n",
    "    if isinstance(y, (int, float)): \n",
    "        num_list.append(True)\n",
    "    else: \n",
    "        num_list.append(False)\n",
    "    return(num_list) # return a list as the output  \n",
    "\n",
    "check_1 = numerical_check(5, '5')                  \n",
    "check_2 = numerical_check(5, 5.0)      \n",
    "\n",
    "print(check_1)\n",
    "print(check_2)"
   ]
  },
  {
   "cell_type": "markdown",
   "metadata": {},
   "source": [
    "## Setting argument defaults    \n",
    "\n",
    "The order of function arguments is for non-default (i.e. compulsory) arguments to be appear before default arguments.     \n",
    "We can assign default parameters for arguments using `=`.      \n",
    "\n",
    "**Note:** When creating a function with non-default and default argument parameters, Python requires us to specify the non-default argument parameters first. This is different to R, which allows us to input function arguments in any chosen order as long as we provide the argument name.   "
   ]
  },
  {
   "cell_type": "code",
   "execution_count": 13,
   "metadata": {},
   "outputs": [
    {
     "name": "stdout",
     "output_type": "stream",
     "text": [
      "knock knock on the steel door\n"
     ]
    }
   ],
   "source": [
    "#-----example 1.1----- \n",
    "def knock_door(door, times = 2):\n",
    "    knocks = \"knock \" * times \n",
    "    knocks = (\" \").join(knocks.split())\n",
    "    print(\"{} on the {}\".format(knocks, door))  \n",
    "    \n",
    "knock_door(\"steel door\") \n",
    "\n",
    "# compulsory arguments are required and appear first \n",
    "# time = 2 is also evaluated as a default argument     "
   ]
  },
  {
   "cell_type": "code",
   "execution_count": 14,
   "metadata": {},
   "outputs": [
    {
     "name": "stdout",
     "output_type": "stream",
     "text": [
      "knock knock knock knock knock on the garden door\n"
     ]
    }
   ],
   "source": [
    "#-----example 1.2----- \n",
    "knock_door(\"garden door\", times = 5)"
   ]
  },
  {
   "cell_type": "code",
   "execution_count": 15,
   "metadata": {},
   "outputs": [],
   "source": [
    "#-----example 1.3-----  \n",
    "# knock_door(times = 3, \"wooden door\")\n",
    "# SyntaxError: positional argument follows keyword argument  "
   ]
  },
  {
   "cell_type": "markdown",
   "metadata": {},
   "source": [
    "## Prompting user inputs as function inputs   \n",
    "\n",
    "One of the unique features of Python over R is that you can also prompt users to type in an input.    \n",
    "\n",
    "The syntax for programming a user input is:   \n",
    "\n",
    "+ variable_name = **input(**'Optional message displayed'**)**    \n",
    "\n",
    "**Note:** The `input()` function will automatically convert a user input into a string type element. "
   ]
  },
  {
   "cell_type": "code",
   "execution_count": 16,
   "metadata": {},
   "outputs": [],
   "source": [
    "#-----example 1-----\n",
    "def say_hello():\n",
    "    name = input(\"What is your name? \")\n",
    "    greeting = print(\"Welcome to Python, {}!\".format(name)) \n",
    "    return(greeting)  "
   ]
  },
  {
   "cell_type": "code",
   "execution_count": 17,
   "metadata": {
    "scrolled": true
   },
   "outputs": [
    {
     "name": "stdout",
     "output_type": "stream",
     "text": [
      "What is your name? Erika\n",
      "Welcome to Python, Erika!\n"
     ]
    }
   ],
   "source": [
    "#-----evaluate example 1-----\n",
    "say_hello()"
   ]
  },
  {
   "cell_type": "markdown",
   "metadata": {},
   "source": [
    "### User input challenge 1  \n",
    "\n",
    "Create a randomly generated list, with a length between 10 and 100 that is specified by user input.   \n",
    "Using this list, write a function that returns another sorted list containing only unique values.   "
   ]
  },
  {
   "cell_type": "code",
   "execution_count": 18,
   "metadata": {},
   "outputs": [
    {
     "name": "stdout",
     "output_type": "stream",
     "text": [
      "Choose a length between 10 and 100: 23\n",
      "Choose a length between 10 and 100.\n",
      "Original list: [2, 6, 7, 13, 7, 9, 9, 4, 15, 12, 2, 3, 4, 3, 11, 11, 3, 6, 6, 13, 8, 9, 5, 9]\n",
      "Unique list: {2, 3, 4, 5, 6, 7, 8, 9, 11, 12, 13, 15}\n"
     ]
    }
   ],
   "source": [
    "#-----challenge 1-----\n",
    "import numpy as np  \n",
    "from numpy.random import default_rng\n",
    "\n",
    "# create a randomly generated list with length specified by user input\n",
    "\n",
    "list_1 = list()\n",
    "list_length = input(\"Choose a length between 10 and 100: \")  \n",
    "list_length = int(list_length)\n",
    "\n",
    "while len(list_1) <= list_length: \n",
    "    rng = default_rng()\n",
    "    value = rng.integers(1, 15+1)\n",
    "    list_1.append(value)   \n",
    "else:\n",
    "    print(\"Choose a length between 10 and 100.\")\n",
    "\n",
    "# write function that returns a sorted list of unique values   \n",
    "\n",
    "def return_unique_list(list_1):\n",
    "    list_2 = list_1.copy()\n",
    "    set_1 = set(list_2)\n",
    "    return(set_1)\n",
    "\n",
    "print(\"Original list: {}\".format(list_1))\n",
    "print(\"Unique list: {}\".format(return_unique_list(list_1)))"
   ]
  },
  {
   "cell_type": "markdown",
   "metadata": {},
   "source": [
    "![](../02_figures/02_error-handling-header.jpg)"
   ]
  },
  {
   "cell_type": "markdown",
   "metadata": {},
   "source": [
    "# Error handling    \n",
    "\n",
    "A silent error occurs when a function or program fails to perform the action that you want it to, but it does not return any error messages either. Silent errors are problematic as they are difficult to debug. \n",
    "\n",
    "There are two ways we can manage silent errors:  \n",
    "+ assertions  \n",
    "+ try/excepts     \n",
    "\n",
    "## Assertions   \n",
    "\n",
    "An assertion tests that a condition is true and generates an error message and terminates your code if the condition is not true. They are good for catching false assumptions or for preventing the misuse of an interface like an user input.  \n",
    "\n",
    "Assertions are also a useful type of code, as they act as in-line documentation which guides other programmers through what assumptions and requirements are embedded within the code.    \n",
    "\n",
    "The syntax for writing an assertion is:  \n",
    "+ **assert(**condition**)**, \"**Print error message if assertion is not true**\"    "
   ]
  },
  {
   "cell_type": "code",
   "execution_count": 19,
   "metadata": {},
   "outputs": [
    {
     "name": "stdout",
     "output_type": "stream",
     "text": [
      "Please input a number between 1 and 10: 3\n",
      "The loop is running! At least 2 more times to go!\n",
      "The loop is running! At least 1 more times to go!\n",
      "The loop is running! At least 0 more times to go!\n"
     ]
    }
   ],
   "source": [
    "#-----example 1-----  \n",
    "num = input(\"Please input a number between 1 and 10: \")\n",
    "num = int(num)\n",
    "\n",
    "assert(1 <= num <= 10), \"Error: number is not between 1 and 10.\"\n",
    "\n",
    "while num >= 1:\n",
    "    print(\"The loop is running! At least {} more times to go!\".format(num - 1))\n",
    "    num -= 1   "
   ]
  },
  {
   "cell_type": "markdown",
   "metadata": {},
   "source": [
    "## Try/except      \n",
    "\n",
    "A try/except test is structured to contain questionable code (i.e. code with the potential of producing errors) inside a **try block**. If an error occurs, code inside the **try block** will be terminated and code inside the **except block** evaluated instead.    \n",
    "\n",
    "A try/except test is usually used combination with a **finally block**, which is evaluated regardless of whether an exception occurs.    \n",
    "\n",
    "The syntax for writing a try/except/finally block is:    \n",
    "+ **try:**     \n",
    "    + action(x)    \n",
    "    + action(y)     \n",
    "    \n",
    "+ **except** Exception **as** e:      \n",
    "    + print(\"general error message\")     \n",
    "    \n",
    "+ **finally**:       \n",
    "    + action(z)      \n",
    "\n",
    "**Note:** The use of `repr` to return a printable string of an object is explained [here](https://www.programiz.com/python-programming/methods/built-in/repr).   "
   ]
  },
  {
   "cell_type": "code",
   "execution_count": 20,
   "metadata": {},
   "outputs": [
    {
     "name": "stdout",
     "output_type": "stream",
     "text": [
      "Please input an integer: integer\n",
      "Error: please input a valid integer.\n",
      "ValueError(\"invalid literal for int() with base 10: 'integer'\")\n"
     ]
    }
   ],
   "source": [
    "#-----example 1-----  \n",
    "try:\n",
    "    num = input(\"Please input an integer: \")\n",
    "    num = int(num)\n",
    "    \n",
    "except Exception as e:\n",
    "    print(\"Error: please input a valid integer.\")\n",
    "    print (repr(e)) # prints input as a string  \n",
    "    \n",
    "# outputs a ValueError  "
   ]
  },
  {
   "cell_type": "code",
   "execution_count": 21,
   "metadata": {},
   "outputs": [
    {
     "name": "stdout",
     "output_type": "stream",
     "text": [
      "Please input an integer: 3.5\n",
      "Error: please input a valid integer.\n",
      "ValueError(\"invalid literal for int() with base 10: '3.5'\")\n",
      "Code evaluated.\n"
     ]
    }
   ],
   "source": [
    "#-----example 2-----   \n",
    "try:\n",
    "    num = input(\"Please input an integer: \")\n",
    "    num = int(num)\n",
    "    \n",
    "except Exception as e:\n",
    "    print(\"Error: please input a valid integer.\")\n",
    "    print (repr(e)) # prints input as a string  \n",
    "    \n",
    "finally: \n",
    "    print(\"Code evaluated.\")"
   ]
  },
  {
   "cell_type": "markdown",
   "metadata": {},
   "source": [
    "**Note:** You can integrate assertions within try/except blocks, if you need to assert specific conditions for your data inputs.      "
   ]
  },
  {
   "cell_type": "markdown",
   "metadata": {},
   "source": [
    "## Common exception error types  \n",
    "\n",
    "In order to make our code clear and informative, we can chain different **except blocks** together, with each block evaluating a different error type.   \n",
    "\n",
    "For example, imagine writing a function that loads, modifies, plots and saves a Pandas DataFrame as a csv file. There are many different ways that we can produce an error when we call our function, and we would ideally separate each expected error type into a separate **except block**.    \n",
    "\n",
    "Examples of common exception error types:    \n",
    "+ **IOError**: When the file cannot be opened.      \n",
    "+ **ImportError**: When Python cannot locate the package you want to import.     \n",
    "+ **TypeError**: When a built-in operation or function is applied to an object of an inappropriate type.     \n",
    "+ **ValueError**: When a built-in operation or function receives an argument that is the right object type but an inappropriate value. I.e. a function only wants you to input the strings \"float\", \"int\" or \"str\" but you have instead written \"apple\".      \n",
    "+ **KeyboardInterrupt**: When the user manually presses the interrupt key i.e. Control-C or Delete.      \n",
    "+ **EOFError**: When a built-in function i.e. `input()` reaches an end-of-file condition without reading any data.     \n",
    "+ **IndexError**: When the user tries to access an item at an invalid index.      \n",
    "+ **NameError**: When an object cannot be found.    \n",
    "\n",
    "The syntax for writing a try/except/finally block and chaining different except blocks is:  \n",
    "+ **try**: \n",
    "    + action(x)  \n",
    "    + action(y)\n",
    "+ **except** error type 1 **as** e1: \n",
    "    + print(\"error message for condition 1\")  \n",
    "+ **except** error type 2 **as** e2: \n",
    "    + print(\"error message for condition 2\")  \n",
    "+ **finally**:   \n",
    "    + action(z)    \n",
    "    \n",
    "**Note:** You can also deliberately trigger an error message using **raise** after an `if` statement. This is used to manually trigger an individual exception.     "
   ]
  },
  {
   "cell_type": "code",
   "execution_count": 22,
   "metadata": {
    "scrolled": true
   },
   "outputs": [
    {
     "name": "stdout",
     "output_type": "stream",
     "text": [
      "Please write an integer: 3.5\n",
      "Error: please input an integer.\n",
      "ValueError(\"invalid literal for int() with base 10: '3.5'\")\n",
      "Code evaluated.\n"
     ]
    }
   ],
   "source": [
    "#-----example 1-----  \n",
    "# create a function that returns the square of an integer  \n",
    "\n",
    "try:\n",
    "    num = input(\"Please write an integer: \")\n",
    "    num = int(num)\n",
    "    print(num**2)\n",
    "    \n",
    "except ValueError as e1:\n",
    "    print(\"Error: please input an integer.\")\n",
    "    print(repr(e1))\n",
    "    \n",
    "except EOFError as e2:\n",
    "    print(\"Error: no input was evaluated.\")\n",
    "    print(repr(e2))\n",
    "    \n",
    "except Exception as e3:\n",
    "    print(\"Error: a catch for all other error types.\")\n",
    "    print(repr(e3))\n",
    "\n",
    "finally:\n",
    "    print(\"Code evaluated.\")"
   ]
  },
  {
   "cell_type": "code",
   "execution_count": 23,
   "metadata": {},
   "outputs": [
    {
     "name": "stdout",
     "output_type": "stream",
     "text": [
      "Please write an integer between 0 and 10: 12\n",
      "ValueError('Error: please input an integer equal to or smaller than 10')\n",
      "Code evaluated.\n"
     ]
    }
   ],
   "source": [
    "#-----example 2----- \n",
    "try:\n",
    "    num = str(input(\"Please write an integer between 0 and 10: \"))\n",
    "    num = int(num)\n",
    "    \n",
    "    if num < 0:\n",
    "        raise ValueError(\"Error: please input an integer equal to or larger than 0.\")   \n",
    "    elif num > 10: \n",
    "        raise ValueError(\"Error: please input an integer equal to or smaller than 10\")  \n",
    "    \n",
    "except ValueError as e1:\n",
    "    print(repr(e1))\n",
    "    \n",
    "except Exception as e2:\n",
    "    print(repr(e2))\n",
    "\n",
    "finally:\n",
    "    print(\"Code evaluated.\")  "
   ]
  },
  {
   "cell_type": "code",
   "execution_count": 24,
   "metadata": {
    "scrolled": true
   },
   "outputs": [
    {
     "name": "stdout",
     "output_type": "stream",
     "text": [
      "The entry is a\n",
      "Oops! <class 'ValueError'> occurred.\n",
      "Next entry.\n",
      "\n",
      "The entry is 0\n",
      "Oops! <class 'ZeroDivisionError'> occurred.\n",
      "Next entry.\n",
      "\n",
      "The entry is 2\n",
      "The reciprocal of 2 is 0.5\n",
      "\n",
      "The entry is 5\n",
      "The reciprocal of 5 is 0.2\n",
      "\n",
      "Evaluation finished\n"
     ]
    }
   ],
   "source": [
    "#-----example 3----- \n",
    "# from https://www.programiz.com/python-programming/exception-handling\n",
    "# import module sys to get the type of exception\n",
    "\n",
    "import sys\n",
    "\n",
    "randomList = ['a', 0, 2, 5]\n",
    "\n",
    "for entry in randomList:\n",
    "    try:\n",
    "        print(\"The entry is\", entry)\n",
    "        r = 1/int(entry)\n",
    "        print(\"The reciprocal of\", entry, \"is\", r)\n",
    "        print()\n",
    "        \n",
    "    except:\n",
    "        print(\"Oops!\", sys.exc_info()[0], \"occurred.\")\n",
    "        print(\"Next entry.\")\n",
    "        print() # prints an empty space between each iteration\n",
    "        \n",
    "print(\"Evaluation finished\")"
   ]
  },
  {
   "cell_type": "code",
   "execution_count": 25,
   "metadata": {},
   "outputs": [],
   "source": [
    "#-----example 4.1-----  \n",
    "# rewrite the function add_integers with try/except error handling  \n",
    "def add_integers(x, y):\n",
    "    try: \n",
    "        if isinstance(x, (str, bool)):\n",
    "            raise TypeError(\"Error: please input an integer or float for x.\")                \n",
    "        if isinstance(y, (str, bool)):\n",
    "            raise TypeError(\"Error: please input an integer or float for y.\")  \n",
    "    \n",
    "        z = x + y\n",
    "        z = round(z, 0)\n",
    "        return int(z)\n",
    "    \n",
    "    except Exception as e1:\n",
    "        print(repr(e1))    \n",
    "        \n",
    "# raise only works inside a try/except block  "
   ]
  },
  {
   "cell_type": "code",
   "execution_count": 26,
   "metadata": {},
   "outputs": [
    {
     "data": {
      "text/plain": [
       "5"
      ]
     },
     "execution_count": 26,
     "metadata": {},
     "output_type": "execute_result"
    }
   ],
   "source": [
    "#-----example 4.2-----\n",
    "add_integers(2, 3)"
   ]
  },
  {
   "cell_type": "code",
   "execution_count": 27,
   "metadata": {
    "scrolled": true
   },
   "outputs": [
    {
     "data": {
      "text/plain": [
       "5"
      ]
     },
     "execution_count": 27,
     "metadata": {},
     "output_type": "execute_result"
    }
   ],
   "source": [
    "#-----example 4.3-----  \n",
    "add_integers(2.3, 2.89)"
   ]
  },
  {
   "cell_type": "code",
   "execution_count": 28,
   "metadata": {
    "scrolled": true
   },
   "outputs": [
    {
     "name": "stdout",
     "output_type": "stream",
     "text": [
      "TypeError('Error: please input an integer or float for y.')\n"
     ]
    }
   ],
   "source": [
    "#-----example 4.4-----\n",
    "add_integers(2, \"string\")"
   ]
  },
  {
   "cell_type": "code",
   "execution_count": 29,
   "metadata": {
    "scrolled": true
   },
   "outputs": [
    {
     "name": "stdout",
     "output_type": "stream",
     "text": [
      "TypeError('Error: please input an integer or float for x.')\n"
     ]
    }
   ],
   "source": [
    "#-----example 4.5-----\n",
    "add_integers(True, False)"
   ]
  },
  {
   "cell_type": "code",
   "execution_count": 30,
   "metadata": {},
   "outputs": [
    {
     "name": "stdout",
     "output_type": "stream",
     "text": [
      "TypeError(\"unsupported operand type(s) for +: 'NoneType' and 'int'\")\n"
     ]
    }
   ],
   "source": [
    "#-----example 4.6-----  \n",
    "add_integers(None, 2)"
   ]
  },
  {
   "cell_type": "code",
   "execution_count": 31,
   "metadata": {},
   "outputs": [],
   "source": [
    "#-----example 4.7-----  \n",
    "# re-write function with assertions instead of try/error blocks\n",
    "def add_integers(x, y):\n",
    "    assert(isinstance(x, (int, float))), \"Error: please input an integer or float for x.\"  \n",
    "    assert(isinstance(y, (int, float))), \"Error: please input an integer or float for y.\"        \n",
    "    \n",
    "    z = x + y\n",
    "    z = round(z, 0)\n",
    "    return int(z)"
   ]
  },
  {
   "cell_type": "code",
   "execution_count": 32,
   "metadata": {},
   "outputs": [
    {
     "data": {
      "text/plain": [
       "2"
      ]
     },
     "execution_count": 32,
     "metadata": {},
     "output_type": "execute_result"
    }
   ],
   "source": [
    "#-----example 4.8-----  \n",
    "add_integers(1, 0.5)"
   ]
  },
  {
   "cell_type": "code",
   "execution_count": 33,
   "metadata": {},
   "outputs": [],
   "source": [
    "#-----example 4.9-----\n",
    "# add_integers(1, \"1\")\n",
    "#> AssertionError: Error: please input an integer or float for y.   "
   ]
  },
  {
   "cell_type": "markdown",
   "metadata": {},
   "source": [
    "Good explanations of Python exceptions types and error handling can be found [here](https://www.programiz.com/python-programming/exceptions) and [here](https://www.programiz.com/python-programming/exception-handling) respectively.    \n",
    "\n",
    "**Note**: From example 4, the differences between using try/except versus assertion error handling are **a)** how exclusive you want your input restrictions to be and **b)** whether you would like the function to be evaluated and output an error message or fail to evaluate.   "
   ]
  }
 ],
 "metadata": {
  "kernelspec": {
   "display_name": "Python 3",
   "language": "python",
   "name": "python3"
  },
  "language_info": {
   "codemirror_mode": {
    "name": "ipython",
    "version": 3
   },
   "file_extension": ".py",
   "mimetype": "text/x-python",
   "name": "python",
   "nbconvert_exporter": "python",
   "pygments_lexer": "ipython3",
   "version": "3.7.9"
  }
 },
 "nbformat": 4,
 "nbformat_minor": 2
}
