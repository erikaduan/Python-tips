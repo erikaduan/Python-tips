{
 "cells": [
  {
   "cell_type": "markdown",
   "id": "d28f900f",
   "metadata": {},
   "source": [
    "# Tutorial 1 topics  \n",
    "1. Why unit testing  \n",
    "2. Being explicit using print statements  \n",
    "3. Error handling using assertions versus try/except blocks  \n",
    "4. Using `unittest`  \n",
    "5. Integrating `unittest` in CI/CD pipelines  "
   ]
  },
  {
   "cell_type": "markdown",
   "id": "a33dd389",
   "metadata": {},
   "source": [
    "# Why unit testing\n",
    "Unit testing is an integral part of the code/product development lifecycle simply because human developers are imperfect creatures. When we write code, we already possess hidden assumptions about the purpose of our code and how it should be used. As developers of a product, we also have a responsibility to safeguard against improper code usage and to account for reasonable edge cases that will break our product.  \n",
    "\n",
    "Unit testing allows us to address these requirements in a rigourous and systematic way. Unit testing can and should be applied to any code workflow, no matter the size or complexity. In particular, relying on unit tests is critical when we start modifying components of existing code and require a guarantee that the intended outputs have not inadvertently been modified.  \n",
    "\n",
    "Unit tests can be thought of as error handling on a project scale. Individual functions can incorporate error handling and control flow in an elegant way, as described [here](https://github.com/jennybc/code-smells-and-feels) by the R software engineer Jenny Bryant. The same applies to projects, where unit tests can be integrated inside the project or in the CI/CD pipeline everywhere code is committed or merged back to the main branch.  \n",
    "\n",
    "![](../figures/code-unit_testing_structure.svg)"
   ]
  },
  {
   "cell_type": "markdown",
   "id": "90e49f0a",
   "metadata": {},
   "source": [
    "# Being explicit using print statements  \n",
    "\n"
   ]
  },
  {
   "cell_type": "code",
   "execution_count": null,
   "id": "b7aec6f2",
   "metadata": {},
   "outputs": [],
   "source": []
  }
 ],
 "metadata": {
  "interpreter": {
   "hash": "75c1ef312ba33cef1c56c7789632552608a35fc0a2ddeffca72788ff6804177a"
  },
  "kernelspec": {
   "display_name": "Python 3.9.7 ('python_3_9')",
   "language": "python",
   "name": "python3"
  },
  "language_info": {
   "name": "python",
   "version": "3.9.7"
  }
 },
 "nbformat": 4,
 "nbformat_minor": 5
}
