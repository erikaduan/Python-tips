{
 "cells": [
  {
   "cell_type": "markdown",
   "metadata": {},
   "source": [
    "# Python data structures     \n",
    "## Author: Erika Duan"
   ]
  },
  {
   "cell_type": "markdown",
   "metadata": {},
   "source": [
    "![](../02_figures/03_lists-header.jpg)"
   ]
  },
  {
   "cell_type": "markdown",
   "metadata": {},
   "source": [
    "# Lists  \n",
    "\n",
    "A list is a sequential container for data values (whether logical, integers, floats, strings or other lists) and has some similarities to vectors in R. The key difference is that a list can contain elements of different types.  \n",
    "\n",
    "Properties of lists include:  \n",
    "\n",
    "+ A single list can store different primitive types and even other lists.    \n",
    "+ Lists have an integer and 0-based index, which allows for list slicing (i.e. subsetting).  \n",
    "+ Lists can be appended using the methods `append()` or `insert()`.  \n",
    "+ Values inside a list can be removed using the methods `remove()` or `pop()` or using the keyword `del`.  \n",
    "+ The function `len()` can calculate the number of items in a list.  \n",
    "+ Two lists can be concatenated with the operator `+`.  "
   ]
  },
  {
   "cell_type": "code",
   "execution_count": 1,
   "metadata": {
    "scrolled": true
   },
   "outputs": [
    {
     "name": "stdout",
     "output_type": "stream",
     "text": [
      "[1, 2.4, 'hello world', [0, 1, 2, 3]]\n"
     ]
    },
    {
     "data": {
      "text/plain": [
       "list"
      ]
     },
     "execution_count": 1,
     "metadata": {},
     "output_type": "execute_result"
    }
   ],
   "source": [
    "#-----example 1.1-----  \n",
    "list_a = [1, 2.4, \"hello world\", [0, 1, 2, 3]]\n",
    "\n",
    "print(list_a)  \n",
    "type(list_a) "
   ]
  },
  {
   "cell_type": "code",
   "execution_count": 2,
   "metadata": {},
   "outputs": [
    {
     "name": "stdout",
     "output_type": "stream",
     "text": [
      "<class 'int'>\n",
      "<class 'float'>\n",
      "<class 'str'>\n",
      "<class 'list'>\n"
     ]
    }
   ],
   "source": [
    "#-----example 1.2----- \n",
    "list_a = [1, 2.4, \"hello world\", [0, 1, 2, 3]]\n",
    "\n",
    "for element in list_a:\n",
    "    print(type(element))\n",
    "    \n",
    "# Python lists contain different primitive types  "
   ]
  },
  {
   "cell_type": "code",
   "execution_count": 3,
   "metadata": {},
   "outputs": [
    {
     "name": "stdout",
     "output_type": "stream",
     "text": [
      "1\n",
      "2\n",
      "9\n"
     ]
    }
   ],
   "source": [
    "#-----example 2.1-----\n",
    "list_b = [1, 2, 3, 4, 5, 6, 7, 8, 9, 10]  \n",
    "\n",
    "print(list_b[0]) # the integer 1 occupies position 0   \n",
    "print(list_b[1]) # the integer 2 occupies position 0 + 1  \n",
    "print(list_b[-2]) # the integer 9 occupies the second to last position i.e. position -2  "
   ]
  },
  {
   "cell_type": "code",
   "execution_count": 4,
   "metadata": {},
   "outputs": [
    {
     "name": "stdout",
     "output_type": "stream",
     "text": [
      "[1, 2, 3, 4]\n"
     ]
    }
   ],
   "source": [
    "#-----example 2.2----- \n",
    "print(list_b[0:3+1]) # extract values from position 0 to position 3"
   ]
  },
  {
   "cell_type": "code",
   "execution_count": 5,
   "metadata": {
    "scrolled": false
   },
   "outputs": [
    {
     "name": "stdout",
     "output_type": "stream",
     "text": [
      "[1, 3, 5, 7, 9]\n",
      "[1, 3, 5, 7, 9]\n"
     ]
    }
   ],
   "source": [
    "#-----example 2.3----- \n",
    "print(list_b[0::2]) # start from position 0 and extract values from every subsequent second position \n",
    "print(list_b[::2]) # the same as list_b[0::2]  "
   ]
  },
  {
   "cell_type": "code",
   "execution_count": 6,
   "metadata": {},
   "outputs": [
    {
     "data": {
      "text/plain": [
       "[1, 2, 3, 4, 5, 6, 7, 8, 9, 10]"
      ]
     },
     "execution_count": 6,
     "metadata": {},
     "output_type": "execute_result"
    }
   ],
   "source": [
    "#-----example 2.4-----\n",
    "list_b[:] # the same as list_b.copy()"
   ]
  },
  {
   "cell_type": "code",
   "execution_count": 7,
   "metadata": {
    "scrolled": true
   },
   "outputs": [
    {
     "name": "stdout",
     "output_type": "stream",
     "text": [
      "Original list: ['apple', 'bear', 'donut', 'elephant', 'guava']\n",
      "Modified list: ['apple', 'bear', 'cat', 'donut', 'elephant', 'guava', 'horse']\n"
     ]
    }
   ],
   "source": [
    "#-----example 3.1----- \n",
    "list_c = [\"apple\", \"bear\", \"donut\", \"elephant\", \"guava\"] \n",
    "\n",
    "print(\"Original list: {}\".format(list_c)) \n",
    "list_c.append(\"horse\") # always appends onto the last position in a item\n",
    "list_c.insert(2, \"cat\") # inserts \"cat\" in position 2 of the new list\n",
    "print(\"Modified list: {}\".format(list_c))"
   ]
  },
  {
   "cell_type": "code",
   "execution_count": 8,
   "metadata": {},
   "outputs": [
    {
     "name": "stdout",
     "output_type": "stream",
     "text": [
      "Original list: ['apple', 'bear', 'cat', 'donut', 'elephant', 'guava', 'horse']\n",
      "Modified list: ['apple', 'bear', 'cat', 'donut', 'elephant', 'french toast', 'guava', 'horse']\n"
     ]
    }
   ],
   "source": [
    "#-----example 3.2-----\n",
    "print(\"Original list: {}\".format(list_c)) \n",
    "\n",
    "list_c.insert(5, \"french toast\") # inserts \"french toast\" in position 5 of the new list\n",
    "print(\"Modified list: {}\".format(list_c))"
   ]
  },
  {
   "cell_type": "code",
   "execution_count": 9,
   "metadata": {},
   "outputs": [
    {
     "name": "stdout",
     "output_type": "stream",
     "text": [
      "Original list: ['apple', 'bear', 'cat', 'donut', 'elephant', 'french toast', 'guava', 'horse']\n",
      "Objects in positions 0 to 1 are deleted: ['cat', 'donut', 'elephant', 'french toast', 'guava', 'horse']\n"
     ]
    }
   ],
   "source": [
    "#-----example 4.1----- \n",
    "list_d = list_c.copy() \n",
    "print(\"Original list: {}\".format(list_d)) \n",
    "\n",
    "del list_d[0:1+1] # del removes objects in a list by index (accepts integers and slices)\n",
    "print(\"Objects in positions 0 to 1 are deleted: {}\".format(list_d)) "
   ]
  },
  {
   "cell_type": "code",
   "execution_count": 10,
   "metadata": {},
   "outputs": [
    {
     "name": "stdout",
     "output_type": "stream",
     "text": [
      "Original list: ['cat', 'donut', 'elephant', 'french toast', 'guava', 'horse']\n",
      "First reference to cat is removed: ['donut', 'elephant', 'french toast', 'guava', 'horse', 'cat']\n"
     ]
    }
   ],
   "source": [
    "#-----example 4.2-----\n",
    "print(\"Original list: {}\".format(list_d)) \n",
    "\n",
    "list_d.append(\"cat\") # append \"cat\" to last position in the list\n",
    "list_d.remove(\"cat\") # only removes the first reference to an object in the list\n",
    "print(\"First reference to cat is removed: {}\".format(list_d))  "
   ]
  },
  {
   "cell_type": "code",
   "execution_count": 11,
   "metadata": {},
   "outputs": [
    {
     "name": "stdout",
     "output_type": "stream",
     "text": [
      "The function pop does two things. \n",
      "It removes the object from the original list: ['donut', 'elephant', 'guava', 'horse', 'cat']. \n",
      "It also stores the removed item: french toast.\n"
     ]
    }
   ],
   "source": [
    "#-----example 5-----  \n",
    "french_toast = list_d.pop(2)\n",
    "print(\"The function pop does two things. \\nIt removes the object from the original list: {}. \\nIt also stores the removed item: {}.\"\n",
    "      .format(list_d, french_toast))"
   ]
  },
  {
   "cell_type": "markdown",
   "metadata": {},
   "source": [
    "![](../02_figures/03_tuples-and-sets-header.jpg)"
   ]
  },
  {
   "cell_type": "markdown",
   "metadata": {},
   "source": [
    "# Tuples    \n",
    "\n",
    "A tuple is an object container that behaves like a list but is immutable. In contrast, elements inside a list can be assigned a new value.        \n",
    "\n",
    "Properties of tuples include:  \n",
    "+ Tuples can be created by enclosing objects inside round brackets `()`. \n",
    "+ Tuples can be subsetted and referenced by index i.e. `[n]`.   \n",
    "+ You cannot alter tuples after they are created.      \n",
    "+ You can check whether an item exists in a tuple by querying for each tuple position `in` a tuple (i.e. returns a logical).  \n",
    "+ You can iterate through a tuple using a `for loop`.     \n",
    "\n",
    "**Note:** Tuples are not commonly used for data manipulation tasks, although their property of being immutable can make them more useful than lists in special circumstances.     "
   ]
  },
  {
   "cell_type": "code",
   "execution_count": 12,
   "metadata": {},
   "outputs": [
    {
     "name": "stdout",
     "output_type": "stream",
     "text": [
      "Object tuple_1 is of type <class 'tuple'>. \n",
      "A tuple can contain different primitive types in the same tuple: ('apple', 'bear', 'cat', 'donut', 1, 2, 3, 4).\n"
     ]
    }
   ],
   "source": [
    "#-----example 1-----  \n",
    "tuple_1 = (\"apple\", \"bear\", \"cat\", \"donut\", 1, 2, 3, 4)\n",
    "print(\"Object tuple_1 is of type {}. \\nA tuple can contain different primitive types in the same tuple: {}.\"\n",
    "      .format(type(tuple_1), tuple_1)) "
   ]
  },
  {
   "cell_type": "code",
   "execution_count": 13,
   "metadata": {
    "scrolled": true
   },
   "outputs": [
    {
     "name": "stdout",
     "output_type": "stream",
     "text": [
      "Original tuple: ('apple', 'bear', 'cat', 'donut', 1, 2, 3, 4)\n"
     ]
    },
    {
     "data": {
      "text/plain": [
       "['apple_red', 'bear', 'cat', 'donut', 1, 2, 3, 4]"
      ]
     },
     "execution_count": 13,
     "metadata": {},
     "output_type": "execute_result"
    }
   ],
   "source": [
    "#-----example 2----- \n",
    "print(\"Original tuple: {}\".format(tuple_1))\n",
    "list_1 = list(tuple_1)\n",
    "\n",
    "# tuple_1[0] = \"apple_red\" produces an error\n",
    "\n",
    "list_1[0] = \"apple_red\"\n",
    "list_1\n",
    "\n",
    "# lists are mutable but tuples are immutable  "
   ]
  },
  {
   "cell_type": "code",
   "execution_count": 14,
   "metadata": {
    "scrolled": false
   },
   "outputs": [
    {
     "name": "stdout",
     "output_type": "stream",
     "text": [
      "Item 1: apple - type <class 'str'>\n",
      "Item 2: bear - type <class 'str'>\n",
      "Item 3: cat - type <class 'str'>\n",
      "Item 4: donut - type <class 'str'>\n",
      "Item 5: 1 - type <class 'int'>\n",
      "Item 6: 2 - type <class 'int'>\n",
      "Item 7: 3 - type <class 'int'>\n",
      "Item 8: 4 - type <class 'int'>\n"
     ]
    }
   ],
   "source": [
    "#-----example 3-----\n",
    "for index, object in enumerate(tuple_1, 1): # start index at 1 instead of 0  \n",
    "    print(\"Item {}: {} - type {}\".format(index, object, type(object)))"
   ]
  },
  {
   "cell_type": "markdown",
   "metadata": {},
   "source": [
    "# Sets  \n",
    "\n",
    "A set is a container that behaves like a tuple but is unindexed and has no order (i.e. like a mathematical set).   \n",
    "\n",
    "Properties of sets include:   \n",
    "+ Sets can be created by enclosing objects inside squiggly brackets `{}`.    \n",
    "+ Duplicate objects enclosed inside a set will be removed.   \n",
    "+ You cannot subset a set (sets cannot be referenced by index i.e. `[n]`).    \n",
    "+ You can check if an item is in a set using `in`.    \n",
    "+ You can iterate through a set using a `for loop`.    \n",
    "\n",
    "**Note:** Sets are not commonly used for data manipulation tasks.  "
   ]
  },
  {
   "cell_type": "code",
   "execution_count": 15,
   "metadata": {},
   "outputs": [
    {
     "data": {
      "text/plain": [
       "{'biology', 'chemistry', 'maths', 'physics'}"
      ]
     },
     "execution_count": 15,
     "metadata": {},
     "output_type": "execute_result"
    }
   ],
   "source": [
    "#-----example 1-----  \n",
    "set_1 = {\"maths\", \"physics\", \"chemistry\", \"maths\", \"biology\", \"biology\"}\n",
    "set_1 # no duplicate values"
   ]
  },
  {
   "cell_type": "code",
   "execution_count": 16,
   "metadata": {},
   "outputs": [
    {
     "name": "stdout",
     "output_type": "stream",
     "text": [
      "maths\n",
      "physics\n",
      "chemistry\n",
      "biology\n"
     ]
    }
   ],
   "source": [
    "#-----example 2-----  \n",
    "for subject in set_1:\n",
    "    print(subject)"
   ]
  },
  {
   "cell_type": "markdown",
   "metadata": {},
   "source": [
    "![](../02_figures/03_dictionaries-header.jpg)"
   ]
  },
  {
   "cell_type": "markdown",
   "metadata": {},
   "source": [
    "# Dictionary  \n",
    "\n",
    "A dictionary can be thought of as an unordered list where every item is associated with a key (i.e. a self-defined index of strings or numbers).    \n",
    "+ The index values are called **keys**.  \n",
    "+ A dictionary therefore contains **key-value pairs** with the format `{key: value(s)}`.      \n",
    "\n",
    "Dictionaries can be created using `dict()` or by listing key-values pairs inside `{}`.  \n",
    "+ `{\"key_1\": [\"value_1\", \"value_2\"], \"key_2\": \"value_3\"}`     \n",
    "\n",
    "Dictionary key-value pairs can be accessed by subsetting on the key or by using the `get()` method.   "
   ]
  },
  {
   "cell_type": "code",
   "execution_count": 17,
   "metadata": {
    "scrolled": true
   },
   "outputs": [
    {
     "data": {
      "text/plain": [
       "{'dev_team': ['Jane', 'Paul', 'Gwen', 'Suresh'],\n",
       " 'user_design_team': ['Ming', 'Sasha', 'Amy'],\n",
       " 'comms_team': ['David', 'Prya', 'Alice']}"
      ]
     },
     "execution_count": 17,
     "metadata": {},
     "output_type": "execute_result"
    }
   ],
   "source": [
    "#-----example 1-----\n",
    "branch_teams = {\"dev_team\": [\"Jane\", \"Paul\", \"Gwen\", \"Suresh\"],\n",
    "                \"user_design_team\": [\"Ming\", \"Sasha\", \"Amy\"],\n",
    "                \"comms_team\": [\"David\", \"Prya\", \"Alice\"]} # create a dictionary\n",
    "branch_teams"
   ]
  },
  {
   "cell_type": "code",
   "execution_count": 18,
   "metadata": {},
   "outputs": [
    {
     "data": {
      "text/plain": [
       "['David', 'Prya', 'Alice']"
      ]
     },
     "execution_count": 18,
     "metadata": {},
     "output_type": "execute_result"
    }
   ],
   "source": [
    "#-----example 2-----\n",
    "branch_teams[\"comms_team\"] # subsets the values associated with key = \"comms_team\""
   ]
  },
  {
   "cell_type": "code",
   "execution_count": 19,
   "metadata": {},
   "outputs": [
    {
     "name": "stdout",
     "output_type": "stream",
     "text": [
      "['David', 'Prya', 'Alice']\n"
     ]
    },
    {
     "data": {
      "text/plain": [
       "list"
      ]
     },
     "execution_count": 19,
     "metadata": {},
     "output_type": "execute_result"
    }
   ],
   "source": [
    "#-----example 3.1----- \n",
    "comms_team = branch_teams.get(\"comms_team\")\n",
    "\n",
    "print(comms_team)   \n",
    "type(comms_team) # comms_team is stored as a list "
   ]
  },
  {
   "cell_type": "code",
   "execution_count": 20,
   "metadata": {},
   "outputs": [
    {
     "data": {
      "text/plain": [
       "'No team exists'"
      ]
     },
     "execution_count": 20,
     "metadata": {},
     "output_type": "execute_result"
    }
   ],
   "source": [
    "#-----example 3.2----- \n",
    "HR_team = branch_teams.get(\"HR_team\", \"No team exists\")  \n",
    "HR_team\n",
    "\n",
    "# get() allows us to return an alternate string when the key is not found inside the dictionary \n",
    "# this prevents our code from returning an error message which halts the analysis"
   ]
  },
  {
   "cell_type": "markdown",
   "metadata": {},
   "source": [
    "To manipulate dictionaries, we can perform the following other actions:  \n",
    "+ You can check whether a key exists in a dictionary using the keyword `in` i.e. `\"key_2\" in dict_1` should return `True`.  \n",
    "+ You can retrieve dictionary keys using `dict_1.keys()`.  \n",
    "+ You can retrieve dictionary values using `dict_1.values()`.  \n",
    "+ You can retrieve dictionary items using `dict_1.items()`.    "
   ]
  },
  {
   "cell_type": "code",
   "execution_count": 21,
   "metadata": {},
   "outputs": [
    {
     "name": "stdout",
     "output_type": "stream",
     "text": [
      "True\n",
      "False\n"
     ]
    }
   ],
   "source": [
    "#-----example 1----- \n",
    "print(\"dev_team\" in branch_teams) \n",
    "print(\"policy_team\" in branch_teams)"
   ]
  },
  {
   "cell_type": "code",
   "execution_count": 22,
   "metadata": {},
   "outputs": [
    {
     "name": "stdout",
     "output_type": "stream",
     "text": [
      "dict_keys(['dev_team', 'user_design_team', 'comms_team'])\n",
      "dict_values([['Jane', 'Paul', 'Gwen', 'Suresh'], ['Ming', 'Sasha', 'Amy'], ['David', 'Prya', 'Alice']])\n",
      "dict_items([('dev_team', ['Jane', 'Paul', 'Gwen', 'Suresh']), ('user_design_team', ['Ming', 'Sasha', 'Amy']), ('comms_team', ['David', 'Prya', 'Alice'])])\n"
     ]
    }
   ],
   "source": [
    "#-----example 2-----  \n",
    "print(branch_teams.keys())\n",
    "print(branch_teams.values())\n",
    "print(branch_teams.items())\n",
    "\n",
    "# compare the output difference for each statement i.e. item = all key + value pairs"
   ]
  },
  {
   "cell_type": "markdown",
   "metadata": {},
   "source": [
    "You can modify key-value pairs in a dictionary.    \n",
    "+ New items can be added through `dict_1[\"key_3\"] = [\"value_4\", \"value_5\"]`   \n",
    "+ You can delete items within a key using the `del` keyword or the `pop()` method (both methods will modify the dictionary in place).  "
   ]
  },
  {
   "cell_type": "code",
   "execution_count": 23,
   "metadata": {
    "scrolled": true
   },
   "outputs": [
    {
     "data": {
      "text/plain": [
       "{'dev_team': ['Jane', 'Paul', 'Gwen', 'Suresh'],\n",
       " 'user_design_team': ['Ming', 'Sasha', 'Amy'],\n",
       " 'comms_team': ['David', 'Prya', 'Alice'],\n",
       " 'data_science_team': ['Paula', 'Mark']}"
      ]
     },
     "execution_count": 23,
     "metadata": {},
     "output_type": "execute_result"
    }
   ],
   "source": [
    "#-----example 1-----\n",
    "branch_teams[\"data_science_team\"] = [\"Paula\", \"Mark\"] \n",
    "\n",
    "# add a new key-value pair to dictionary\n",
    "\n",
    "branch_teams"
   ]
  },
  {
   "cell_type": "code",
   "execution_count": 24,
   "metadata": {},
   "outputs": [
    {
     "name": "stdout",
     "output_type": "stream",
     "text": [
      "['Paula', 'Mark']\n",
      "{'dev_team': ['Jane', 'Paul', 'Gwen', 'Suresh'], 'user_design_team': ['Ming', 'Sasha', 'Amy'], 'comms_team': ['David', 'Prya', 'Alice']}\n"
     ]
    }
   ],
   "source": [
    "#-----example 2-----\n",
    "new_data_science_team = branch_teams.pop(\"data_science_team\")\n",
    "print(new_data_science_team)\n",
    "print(branch_teams) \n",
    "\n",
    "# dictionary is modified in place i.e. data_science_team has been deleted via pop()"
   ]
  },
  {
   "cell_type": "code",
   "execution_count": 25,
   "metadata": {},
   "outputs": [
    {
     "name": "stdout",
     "output_type": "stream",
     "text": [
      "The dev_team now consists of members ['Jane', 'Paul', 'Gwen', 'Suresh'].\n",
      "The user_design_team now consists of members ['Ming', 'Sasha', 'Amy'].\n",
      "The comms_team now consists of members ['David', 'Pryanna', 'Alice', 'Li'].\n"
     ]
    }
   ],
   "source": [
    "#-----example 3-----\n",
    "branch_teams[\"comms_team\"] = [\"David\", \"Pryanna\", \"Alice\", \"Li\"]\n",
    "\n",
    "for key, values in branch_teams.items():\n",
    "    print(\"The {} now consists of members {}.\".format(key, values))"
   ]
  },
  {
   "cell_type": "markdown",
   "metadata": {},
   "source": [
    "**Note:** Dictionaries are mutable like lists because you can overwrite pre-existing key-value pairs.  "
   ]
  },
  {
   "cell_type": "markdown",
   "metadata": {},
   "source": [
    "![](../02_figures/03_numpy-header.jpg)"
   ]
  },
  {
   "cell_type": "markdown",
   "metadata": {},
   "source": [
    "# NumPy arrays  "
   ]
  },
  {
   "cell_type": "markdown",
   "metadata": {},
   "source": [
    "Although lists are powerful and versatile containers, they become computationally expensive as the list length increases.   \n",
    "The alternate solution is to use [NumPy](https://www.nature.com/articles/s41586-020-2649-2), which is an N-dimensional array container for storing numerical types.  \n",
    "\n",
    "We can perform a diverse range of functions and mathematical operations using numpy arrays.  \n",
    "\n",
    "Functions include:  \n",
    "\n",
    "+ Creating 1D or 2D NumPy arrays.   \n",
    "+ Accessing elements inside NumPy arrays. \n",
    "+ Performing mathematical operations, linear algebra via **np.linalg** and universal functions i.e. `min()`, `max()`, `np.mean()`, `np.std()`.   \n",
    "+ Combining arrays (with respect to broadcasting rules).    \n",
    "\n",
    "**Note:** A good NumPy tutorial can also be found [here](https://cs231n.github.io/python-numpy-tutorial/#numpy).  "
   ]
  },
  {
   "cell_type": "code",
   "execution_count": 26,
   "metadata": {},
   "outputs": [],
   "source": [
    "#-----import the numpy library-----\n",
    "import numpy as np"
   ]
  },
  {
   "cell_type": "code",
   "execution_count": 27,
   "metadata": {},
   "outputs": [
    {
     "data": {
      "text/plain": [
       "array([1, 3, 5, 7, 9])"
      ]
     },
     "execution_count": 27,
     "metadata": {},
     "output_type": "execute_result"
    }
   ],
   "source": [
    "#-----example 1.1----- \n",
    "vector_1 = np.array([1, 3, 5, 7, 9])\n",
    "vector_1"
   ]
  },
  {
   "cell_type": "code",
   "execution_count": 28,
   "metadata": {},
   "outputs": [
    {
     "name": "stdout",
     "output_type": "stream",
     "text": [
      "Numpy array dimensions: 1\n",
      "Numpy array length(s): (5,)\n"
     ]
    }
   ],
   "source": [
    "#-----example 1.2-----\n",
    "print(\"Numpy array dimensions: {}\".format(vector_1.ndim)) # 1D array\n",
    "print(\"Numpy array length(s): {}\".format(vector_1.shape)) # length of values for a 1D array "
   ]
  },
  {
   "cell_type": "code",
   "execution_count": 29,
   "metadata": {},
   "outputs": [
    {
     "data": {
      "text/plain": [
       "array([1, 3, 5, 7, 9])"
      ]
     },
     "execution_count": 29,
     "metadata": {},
     "output_type": "execute_result"
    }
   ],
   "source": [
    "#-----example 2----- \n",
    "vector_2 = np.arange(start = 1,\n",
    "                     stop = 9+1, # stop at x+1 to end with value x\n",
    "                     step = 2) # step = 2 means to select every second value after the start position   \n",
    "\n",
    "# numpy.arange([start, ]stop, [step, ], dtype=None) -> numpy.ndarray  \n",
    "\n",
    "vector_2"
   ]
  },
  {
   "cell_type": "code",
   "execution_count": 30,
   "metadata": {},
   "outputs": [
    {
     "data": {
      "text/plain": [
       "array([1., 1., 1., 1., 1.])"
      ]
     },
     "execution_count": 30,
     "metadata": {},
     "output_type": "execute_result"
    }
   ],
   "source": [
    "#-----example 3-----  \n",
    "vector_3 = np.ones(5)   \n",
    "vector_3"
   ]
  },
  {
   "cell_type": "code",
   "execution_count": 31,
   "metadata": {},
   "outputs": [
    {
     "name": "stdout",
     "output_type": "stream",
     "text": [
      "[ 6  8 10 12 14]\n",
      "[ 1  9 25 49 81]\n"
     ]
    }
   ],
   "source": [
    "#-----example 4.1-----\n",
    "vector_1 = np.array([1, 3, 5, 7, 9]) \n",
    "\n",
    "print(vector_1 + 5) \n",
    "print(vector_1 ** 2)\n",
    "\n",
    "# you can perform mathematical operations on arrays"
   ]
  },
  {
   "cell_type": "code",
   "execution_count": 32,
   "metadata": {},
   "outputs": [
    {
     "name": "stdout",
     "output_type": "stream",
     "text": [
      "1\n",
      "5.0\n"
     ]
    }
   ],
   "source": [
    "#-----example 4.2-----\n",
    "print(min(vector_1)) \n",
    "print(vector_1.mean()) \n",
    "\n",
    "# you can perform universal functions on arrays"
   ]
  },
  {
   "cell_type": "code",
   "execution_count": 33,
   "metadata": {
    "scrolled": true
   },
   "outputs": [
    {
     "name": "stdout",
     "output_type": "stream",
     "text": [
      "[[1 2 3]\n",
      " [4 5 6]]\n",
      "Numpy array dimensions: 2\n"
     ]
    }
   ],
   "source": [
    "#-----example 5.1----- \n",
    "array_2d_1 = np.array([[1, 2, 3], [4, 5, 6]])\n",
    "print(array_2d_1)  \n",
    "\n",
    "# you can create a 2D array manually by enclosing each row in a list  \n",
    "\n",
    "print(\"Numpy array dimensions: {}\".format(array_2d_1.ndim))  "
   ]
  },
  {
   "cell_type": "code",
   "execution_count": 34,
   "metadata": {
    "scrolled": true
   },
   "outputs": [
    {
     "name": "stdout",
     "output_type": "stream",
     "text": [
      "[[10 12 14 16 18]\n",
      " [20 22 24 26 28]]\n",
      "Numpy array dimensions: (2, 5)\n"
     ]
    }
   ],
   "source": [
    "#-----example 5.2-----   \n",
    "array_2d_2 = np.arange(10, 30, 2).reshape(2, 5) \n",
    "print(array_2d_2)\n",
    "\n",
    "# reshape an 1D array into a 2D array with 2 rows of length 5  \n",
    "\n",
    "print(\"Numpy array dimensions: {}\".format(array_2d_2.shape))  "
   ]
  },
  {
   "cell_type": "code",
   "execution_count": 35,
   "metadata": {},
   "outputs": [
    {
     "name": "stdout",
     "output_type": "stream",
     "text": [
      "[[10 10 10 10 10]\n",
      " [10 10 10 10 10]]\n",
      "Numpy array dimensions: (2, 5)\n"
     ]
    }
   ],
   "source": [
    "#-----example 5.3-----  \n",
    "array_2d_3 = np.full(shape = (2, 5),\n",
    "                     fill_value = 10) \n",
    "print(array_2d_3)  \n",
    "\n",
    "# create a 2D Numpy array with 2 rows of length 5 and fill it with 10s   \n",
    "\n",
    "print(\"Numpy array dimensions: {}\".format(array_2d_3.shape))  "
   ]
  },
  {
   "cell_type": "code",
   "execution_count": 36,
   "metadata": {},
   "outputs": [
    {
     "name": "stdout",
     "output_type": "stream",
     "text": [
      "[[0.15366136 0.1693033 ]\n",
      " [0.50596431 0.65811887]\n",
      " [0.76758088 0.10922746]\n",
      " [0.79759653 0.96874591]\n",
      " [0.24694934 0.19751383]]\n",
      "Numpy array dimensions: (5, 2)\n"
     ]
    }
   ],
   "source": [
    "#-----example 5.4-----  \n",
    "rng = np.random.default_rng(111) # set random seed\n",
    "array_2d_4 = rng.random(10).reshape(5, 2) # pick 10 random floats from the range 0.0, 1.0\n",
    "\n",
    "print(array_2d_4)  \n",
    "print(\"Numpy array dimensions: {}\".format(array_2d_4.shape))  "
   ]
  },
  {
   "cell_type": "markdown",
   "metadata": {},
   "source": [
    "**Note:** The way that Python generates random numbers has changed. You are now required to call `default_rng` to get a new instance of a generator, as documented [here](https://numpy.org/devdocs/reference/random/index.html).    "
   ]
  },
  {
   "cell_type": "markdown",
   "metadata": {},
   "source": [
    "## NumPy numerical types  \n",
    "\n",
    "NumPy arrays are efficient because they allow for numerical types of different precision:  \n",
    "+ `np.int8`  \n",
    "+ `np.int32`  \n",
    "+ `np.float`  \n",
    "+ `np.float32`  \n",
    "+ `np.float64`   \n",
    "+ `np.bool`  \n",
    "+ `np.complex`  \n",
    "\n",
    "Applying the method `.dtype` to your NumPy array allows you to check its numerical type. You can also check the type of an individual value inside a NumPy array using the function `type`.     "
   ]
  },
  {
   "cell_type": "code",
   "execution_count": 37,
   "metadata": {
    "scrolled": true
   },
   "outputs": [
    {
     "name": "stdout",
     "output_type": "stream",
     "text": [
      "float64\n",
      "The range of a Numpy float64 is between -1.7976931348623157e+308 and 1.7976931348623157e+308.\n"
     ]
    }
   ],
   "source": [
    "#-----example 1-----\n",
    "vector_1 = np.ones(6) \n",
    "print(vector_1.dtype)  \n",
    "\n",
    "print(\"The range of a Numpy float64 is between {} and {}.\".format(np.finfo(np.float64).min,\n",
    "                                                                  np.finfo(np.float64).max))"
   ]
  },
  {
   "cell_type": "code",
   "execution_count": 38,
   "metadata": {},
   "outputs": [
    {
     "name": "stdout",
     "output_type": "stream",
     "text": [
      "int8\n",
      "The range of a Numpy float64 is between -128 and 127.\n"
     ]
    }
   ],
   "source": [
    "#-----example 2-----  \n",
    "vector_2 = np.ones(6, dtype = np.int8)\n",
    "print(vector_2.dtype)\n",
    "\n",
    "print(\"The range of a Numpy float64 is between {} and {}.\".format(np.iinfo(np.int8).min,\n",
    "                                                                  np.iinfo(np.int8).max))  \n",
    "\n",
    "# manually reduce the size of the integer type using dtype"
   ]
  },
  {
   "cell_type": "markdown",
   "metadata": {},
   "source": [
    "## Accessing NumPy arrays    \n",
    "\n",
    "For 1D NumPy arrays, we can:  \n",
    "+ Use the 0-based index to subset values from an array (similar to a list).  \n",
    "+ Slice a section of the NumPy array. Note that this only returns a view and not a copy of the original array.   \n",
    "+ Filtering by a list of boolean values (i.e. masking). Note that this returns a copy of the original array.  "
   ]
  },
  {
   "cell_type": "code",
   "execution_count": 39,
   "metadata": {
    "scrolled": true
   },
   "outputs": [
    {
     "name": "stdout",
     "output_type": "stream",
     "text": [
      "Original vector_1: [47 15 72 16 71 50]\n",
      "47\n"
     ]
    }
   ],
   "source": [
    "#-----example 1-----  \n",
    "rng = np.random.default_rng(111)\n",
    "vector_1 = rng.integers(low=0, high=100, size=6)\n",
    "\n",
    "print(\"Original vector_1: {}\".format(vector_1))\n",
    "print(vector_1[0]) # subset using 0-based index  "
   ]
  },
  {
   "cell_type": "code",
   "execution_count": 40,
   "metadata": {},
   "outputs": [
    {
     "name": "stdout",
     "output_type": "stream",
     "text": [
      "[47 16]\n",
      "vector_1 is also changed: [100  15  72  16  71  50]\n"
     ]
    }
   ],
   "source": [
    "#-----example 2-----\n",
    "vector_2 = vector_1[0::3] # warning: slicing vector_1 returns a view not a copy\n",
    "print(vector_2)\n",
    "\n",
    "vector_2[0] = 100 \n",
    "print(\"vector_1 is also changed: {}\".format(vector_1))\n",
    "\n",
    "# warning: changing vector_2 also changes vector_1"
   ]
  },
  {
   "cell_type": "code",
   "execution_count": 41,
   "metadata": {},
   "outputs": [
    {
     "name": "stdout",
     "output_type": "stream",
     "text": [
      "vector_1: [100  15  72  16  71  50]\n",
      "vector_3: [15 72 50]\n",
      "vector_1 remains unchanged: [100  15  72  16  71  50]\n"
     ]
    }
   ],
   "source": [
    "#-----example 3-----  \n",
    "vector_3 = vector_1[[False, True, True, False, False, True]] \n",
    "\n",
    "# boolean array needs to be the same length as NumPy array\n",
    "# subsetting by a boolean array returns a copy   \n",
    "\n",
    "print(\"vector_1: {}\".format(vector_1))\n",
    "print(\"vector_3: {}\".format(vector_3)) # only True values are returned i.e. masking  \n",
    "\n",
    "vector_3[0] = 200 \n",
    "print(\"vector_1 remains unchanged: {}\".format(vector_1)) \n",
    "\n",
    "# vector_3 returns a new copy, not view, of vector_1 following boolean masking"
   ]
  },
  {
   "cell_type": "markdown",
   "metadata": {},
   "source": [
    "For 2D NumPy arrays, we can:  \n",
    "+ Still subset values using the 0-based index i.e. `x[row, column]`.      \n",
    "+ Slice a part of the 2D array. Note that this returns a sliced view and not a copy of the original 2D array.   \n",
    "+ Subset using boolean masking. Note that this returns a copy of the original 2D array.     "
   ]
  },
  {
   "cell_type": "code",
   "execution_count": 42,
   "metadata": {},
   "outputs": [
    {
     "name": "stdout",
     "output_type": "stream",
     "text": [
      "[[ 1  3  5  7  9]\n",
      " [11 13 15 17 19]\n",
      " [21 23 25 27 29]]\n"
     ]
    }
   ],
   "source": [
    "#-----example 1.1-----\n",
    "array_1 = np.arange(1, 30, 2).reshape(3, 5) \n",
    "print(array_1)  "
   ]
  },
  {
   "cell_type": "code",
   "execution_count": 43,
   "metadata": {},
   "outputs": [
    {
     "name": "stdout",
     "output_type": "stream",
     "text": [
      "9\n",
      "29\n"
     ]
    }
   ],
   "source": [
    "#-----example 1.2-----  \n",
    "print(array_1[0, 4]) # subset value from first row, last column\n",
    "print(array_1[-1, -1]) # subset value from last row, last column   "
   ]
  },
  {
   "cell_type": "code",
   "execution_count": 44,
   "metadata": {},
   "outputs": [
    {
     "name": "stdout",
     "output_type": "stream",
     "text": [
      "[[ 1  3  5]\n",
      " [11 13 15]]\n"
     ]
    }
   ],
   "source": [
    "#-----example 1.3-----  \n",
    "print(array_1[0:1+1, 0:2+1]) # subset rows and columns from position 0 to position 2"
   ]
  },
  {
   "cell_type": "code",
   "execution_count": 45,
   "metadata": {},
   "outputs": [
    {
     "name": "stdout",
     "output_type": "stream",
     "text": [
      "[[ 1  3  5]\n",
      " [11 13 15]\n",
      " [21 23 25]]\n"
     ]
    }
   ],
   "source": [
    "#-----example 1.4-----\n",
    "print(array_1[:, [0, 1, 2]]) # subset all rows and columns from position 0 to 2    "
   ]
  },
  {
   "cell_type": "code",
   "execution_count": 46,
   "metadata": {},
   "outputs": [
    {
     "data": {
      "text/plain": [
       "array([ 1, 13])"
      ]
     },
     "execution_count": 46,
     "metadata": {},
     "output_type": "execute_result"
    }
   ],
   "source": [
    "#-----example 1.5-----\n",
    "array_1[[0,1], [0,1]]\n",
    "\n",
    "# warning: array_1[[0,1], [0,1]] does not return a 2D array\n",
    "# instead, it returns an unexpected 1D array  "
   ]
  },
  {
   "cell_type": "code",
   "execution_count": 47,
   "metadata": {
    "scrolled": true
   },
   "outputs": [
    {
     "name": "stdout",
     "output_type": "stream",
     "text": [
      "Original array_1: \n",
      "[[ 1  3  5  7  9]\n",
      " [11 13 15 17 19]\n",
      " [21 23 25 27 29]]\n",
      "New array_2 is a slice/view of array_1: \n",
      "[[ 1  3  5  7  9]\n",
      " [11 13 15 17 19]]\n",
      "Changing array_1 also changes array_2: \n",
      "[[ 3  3  5  7  9]\n",
      " [11 13 15 17 19]]\n"
     ]
    }
   ],
   "source": [
    "#-----example 2-----  \n",
    "array_1 = np.arange(1, 30, 2).reshape(3, 5) \n",
    "print(\"Original array_1: \\n{}\".format(array_1))\n",
    "\n",
    "array_2 = array_1[0:1+1, :] \n",
    "print(\"New array_2 is a slice/view of array_1: \\n{}\".format(array_2))  \n",
    "\n",
    "# warning: slicing array_1 returns a view not a copy\n",
    "\n",
    "array_1[0,0] = 3\n",
    "print(\"Changing array_1 also changes array_2: \\n{}\".format(array_2)) "
   ]
  },
  {
   "cell_type": "code",
   "execution_count": 48,
   "metadata": {},
   "outputs": [
    {
     "name": "stdout",
     "output_type": "stream",
     "text": [
      "Original array_1: \n",
      "[[ 1  3  5  7  9]\n",
      " [11 13 15 17 19]\n",
      " [21 23 25 27 29]]\n",
      "Random boolean mask: \n",
      "[[ True  True False  True False]\n",
      " [False  True False False False]\n",
      " [False  True  True False  True]]\n",
      "Masked array_1 values: \n",
      "[ 1  3  7 13 23 25 29]\n",
      "Changing array_1 does not change array_2: \n",
      "[ 1  3  7 13 23 25 29]\n"
     ]
    }
   ],
   "source": [
    "#-----example 3-----  \n",
    "array_1 = np.arange(1, 30, 2).reshape(3, 5)   \n",
    "print(\"Original array_1: \\n{}\".format(array_1))\n",
    "\n",
    "# create random boolean 2D array filled with True and False values \n",
    "rng = np.random.default_rng(111)\n",
    "bool_values = [True, False]\n",
    "\n",
    "bool_mask = rng.choice(bool_values, size = (3, 5))\n",
    "print(\"Random boolean mask: \\n{}\".format(bool_mask))\n",
    "\n",
    "array_2 = array_1[bool_mask]\n",
    "print(\"Masked array_1 values: \\n{}\".format(array_2))\n",
    "\n",
    "# masking a 2D array produces a 1D vector copy  \n",
    "# changing array_1 does not change masked array_2\n",
    "\n",
    "array_1[0, 0] = 3\n",
    "print(\"Changing array_1 does not change array_2: \\n{}\".format(array_2)) "
   ]
  },
  {
   "cell_type": "markdown",
   "metadata": {},
   "source": [
    "## Broadcasting with NumPy arrays  "
   ]
  },
  {
   "cell_type": "markdown",
   "metadata": {},
   "source": [
    "We can stack NumPy arrays with the `concatenate()` method if two NumPy arrays are of similar shape:  \n",
    "1. Two arrays have the same number of columns for `concatenate(..., axis = 0)`. This enables us to stacks two arrays on top of each other similar to `bind_rows()` in R.      \n",
    "2. Two arrays have the same number of rows for `concatenate(..., axis = 1)`. This enables us to stack two arrays side-by-side of each other similar to `bind_cols()` in R.            \n",
    "\n",
    "**Note:** By default, `axis = 0` i.e. the operation is conducted across the rows of a Python data structure.  "
   ]
  },
  {
   "cell_type": "code",
   "execution_count": 49,
   "metadata": {},
   "outputs": [
    {
     "data": {
      "text/plain": [
       "array([[1, 1],\n",
       "       [1, 1],\n",
       "       [1, 1],\n",
       "       [2, 2],\n",
       "       [2, 2]])"
      ]
     },
     "execution_count": 49,
     "metadata": {},
     "output_type": "execute_result"
    }
   ],
   "source": [
    "#-----example 1-----\n",
    "a = np.ones((3, 2), dtype = np.int) # 3 rows and 2 columns\n",
    "b = np.ones((2, 2), dtype = np.int) * 2  # 2 rows and 2 columns\n",
    "\n",
    "np.concatenate([a, b]) # axis = 0 by default\n",
    "\n",
    "# contrast with a + b, which produces the error message below\n",
    "# ValueError: operands could not be broadcast together with shapes (3,2) (2,2) "
   ]
  },
  {
   "cell_type": "code",
   "execution_count": 50,
   "metadata": {},
   "outputs": [
    {
     "data": {
      "text/plain": [
       "array([[0, 0, 3, 3, 3],\n",
       "       [0, 0, 3, 3, 3]])"
      ]
     },
     "execution_count": 50,
     "metadata": {},
     "output_type": "execute_result"
    }
   ],
   "source": [
    "#-----example 2----- \n",
    "# axis = 1 binds columns together \n",
    "\n",
    "a = np.zeros((2, 2), dtype = np.int) \n",
    "b = np.ones((2, 3), dtype = np.int) * 3\n",
    "\n",
    "np.concatenate([a, b], axis = 1) "
   ]
  },
  {
   "cell_type": "markdown",
   "metadata": {},
   "source": [
    "### NumPy broadcasting rules\n",
    "\n",
    "When two arrays do not have the same shape, NumPy still may allow element-wise operations to be performed by filling in copies of one array to match the other array's shape.    \n",
    "\n",
    "1. Compare the array dimensions (does `a.ndim == b.ndim`?).  \n",
    "2. If `a.ndim != b.ndim`, then prepend `1s` to the smaller array's shape.  \n",
    "3. If `a.ndim == b.ndim`, examine `a.shape` and `b.shape`. \n",
    "4. If `a.shape == b.shape`, perform the element-wise operation.  \n",
    "5. If `a.shape != b.shape` but either rows or columns are 1 in length, expand the shape of the smaller array until it matches the larger array. \n",
    "6. Otherwise, throw an error.  "
   ]
  },
  {
   "cell_type": "code",
   "execution_count": 51,
   "metadata": {
    "scrolled": true
   },
   "outputs": [
    {
     "name": "stdout",
     "output_type": "stream",
     "text": [
      "A has 2 dimensions: \n",
      "[[0. 0.]\n",
      " [0. 0.]\n",
      " [0. 0.]]\n",
      "B has 2 dimensions but 1 less column than A: \n",
      "[[2.]\n",
      " [2.]\n",
      " [2.]]\n",
      "True\n"
     ]
    },
    {
     "data": {
      "text/plain": [
       "array([[2., 2.],\n",
       "       [2., 2.],\n",
       "       [2., 2.]])"
      ]
     },
     "execution_count": 51,
     "metadata": {},
     "output_type": "execute_result"
    }
   ],
   "source": [
    "#-----example 1-----\n",
    "a = np.zeros((3, 2))\n",
    "b = np.ones((3, 1)) * 2 \n",
    "\n",
    "print(\"A has 2 dimensions: \\n{}\".format(a)) \n",
    "print(\"B has 2 dimensions but 1 less column than A: \\n{}\". format(b))\n",
    "print(a.ndim == b.ndim)\n",
    "\n",
    "# broadcasting so that b is a 3 by 2 array containing 2s\n",
    "\n",
    "a + b"
   ]
  },
  {
   "cell_type": "code",
   "execution_count": 52,
   "metadata": {},
   "outputs": [
    {
     "name": "stdout",
     "output_type": "stream",
     "text": [
      "A has 2 rows and 3 columns: \n",
      "[[0. 0. 0.]\n",
      " [0. 0. 0.]]\n",
      "B has 2 rows and 1 column: \n",
      "[[2.]\n",
      " [2.]]\n",
      "True\n"
     ]
    },
    {
     "data": {
      "text/plain": [
       "array([[2., 2., 2.],\n",
       "       [2., 2., 2.]])"
      ]
     },
     "execution_count": 52,
     "metadata": {},
     "output_type": "execute_result"
    }
   ],
   "source": [
    "#-----example 2-----\n",
    "a = np.zeros((2, 3))\n",
    "b = np.ones((2, 1)) * 2 \n",
    "\n",
    "print(\"A has 2 rows and 3 columns: \\n{}\".format(a)) \n",
    "print(\"B has 2 rows and 1 column: \\n{}\". format(b))\n",
    "print(a.ndim == b.ndim)\n",
    "\n",
    "# broadcasting to expand b into a 2 by 3 array  \n",
    "\n",
    "a + b"
   ]
  },
  {
   "cell_type": "code",
   "execution_count": 53,
   "metadata": {},
   "outputs": [
    {
     "name": "stdout",
     "output_type": "stream",
     "text": [
      "A has 2 rows and 3 columns: \n",
      "[[0. 0. 0.]\n",
      " [0. 0. 0.]]\n",
      "B has 3 rows and 1 column: \n",
      "[[2.]\n",
      " [2.]\n",
      " [2.]]\n",
      "True\n"
     ]
    }
   ],
   "source": [
    "#-----example 3----- \n",
    "a = np.zeros((2, 3))\n",
    "b = np.ones((3, 1)) * 2 \n",
    "\n",
    "print(\"A has 2 rows and 3 columns: \\n{}\".format(a)) \n",
    "print(\"B has 3 rows and 1 column: \\n{}\". format(b))\n",
    "print(a.ndim == b.ndim)\n",
    "\n",
    "# broadcasting to first expand b into a 3 by 3 array containing 2s\n",
    "# but a.shape = (2, 3) and expanded b.shape = (3, 3)  \n",
    "\n",
    "# a + b produces an error\n",
    "# ValueError: operands could not be broadcast together with shapes (2,3) (3,1) "
   ]
  },
  {
   "cell_type": "code",
   "execution_count": 54,
   "metadata": {},
   "outputs": [
    {
     "name": "stdout",
     "output_type": "stream",
     "text": [
      "A is a 2D array with 3 rows and 1 column: \n",
      "[[0.]\n",
      " [0.]\n",
      " [0.]]\n",
      "B is a 1D array with length 3: \n",
      "[2. 2. 2.]\n",
      "False\n"
     ]
    },
    {
     "data": {
      "text/plain": [
       "array([[2., 2., 2.],\n",
       "       [2., 2., 2.],\n",
       "       [2., 2., 2.]])"
      ]
     },
     "execution_count": 54,
     "metadata": {},
     "output_type": "execute_result"
    }
   ],
   "source": [
    "#-----example 4-----\n",
    "a = np.zeros((3, 1)) \n",
    "b = np.ones((3, )) * 2 \n",
    "\n",
    "print(\"A is a 2D array with 3 rows and 1 column: \\n{}\".format(a)) \n",
    "print(\"B is a 1D array with length 3: \\n{}\". format(b))\n",
    "print(a.ndim == b.ndim)\n",
    "\n",
    "# broadcasting to first expand b into a 2D and 3 by 3 array containing 2s\n",
    "# broadcasting to then expand a into a 3 by 3 array to match the shape of b\n",
    "\n",
    "a + b"
   ]
  },
  {
   "cell_type": "markdown",
   "metadata": {},
   "source": [
    "![](../02_figures/03_pandas-header.jpg)"
   ]
  },
  {
   "cell_type": "markdown",
   "metadata": {},
   "source": [
    "# Pandas DataFrame  \n",
    "\n",
    "Pandas is one of the most popular libraries for structured data manipulations in Python.  \n",
    "There are two data structures supported by the Pandas module.  \n",
    "\n",
    "## pd.Series  \n",
    "\n",
    "+ Similar to a 1D NumPy (but with extra indexing options).   \n",
    "+ Created from a list, NumPy array or dictionary.  \n",
    "+ Subsetting a Series via its index is similar to indexing a Python dictionary.  \n",
    "+ Use `iloc[]` to subset via the implicit index (i.e. 0-based index).  \n",
    "+ Use `loc[]` to subset via the explicit index (i.e. explicit names).  \n",
    "\n",
    "**Note:** Slicing with the implicit index does not include the last/upper value but slicing with the explicit index does.  "
   ]
  },
  {
   "cell_type": "code",
   "execution_count": 55,
   "metadata": {},
   "outputs": [],
   "source": [
    "#-----import the pandas library-----\n",
    "import pandas as pd"
   ]
  },
  {
   "cell_type": "code",
   "execution_count": 56,
   "metadata": {
    "scrolled": false
   },
   "outputs": [
    {
     "name": "stdout",
     "output_type": "stream",
     "text": [
      "0    1\n",
      "1    2\n",
      "2    3\n",
      "3    4\n",
      "dtype: int64\n"
     ]
    }
   ],
   "source": [
    "#-----example 1.1-----\n",
    "series_1 = pd.Series([1, 2, 3, 4]) # manually creating a Series\n",
    "print(series_1) \n",
    "\n",
    "# note the additional presence of a 0-based index"
   ]
  },
  {
   "cell_type": "code",
   "execution_count": 57,
   "metadata": {},
   "outputs": [
    {
     "name": "stdout",
     "output_type": "stream",
     "text": [
      "0     5\n",
      "1     7\n",
      "2     9\n",
      "3    11\n",
      "dtype: int32\n"
     ]
    }
   ],
   "source": [
    "#-----example 1.2-----  \n",
    "series_2 = pd.Series(np.arange(5, 11+1, 2)) # converting a NumPy array into a Series  \n",
    "print(series_2) "
   ]
  },
  {
   "cell_type": "code",
   "execution_count": 58,
   "metadata": {},
   "outputs": [
    {
     "name": "stdout",
     "output_type": "stream",
     "text": [
      "item_1         key\n",
      "item_2    passport\n",
      "item_3     tickets\n",
      "item_4      snacks\n",
      "dtype: object\n"
     ]
    }
   ],
   "source": [
    "#-----example 1.3-----\n",
    "series_3 = pd.Series({\"item_1\": \"key\", \n",
    "                      \"item_2\": \"passport\",\n",
    "                      \"item_3\": \"tickets\",\n",
    "                      \"item_4\": \"snacks\"}) # converting a dictionary into a Series key\n",
    "print(series_3) \n",
    "\n",
    "# note that the dictionary key is used as the Series index i.e. an explicit index   "
   ]
  },
  {
   "cell_type": "code",
   "execution_count": 59,
   "metadata": {},
   "outputs": [
    {
     "data": {
      "text/plain": [
       "id1    1\n",
       "id2    2\n",
       "id3    3\n",
       "id4    4\n",
       "dtype: int64"
      ]
     },
     "execution_count": 59,
     "metadata": {},
     "output_type": "execute_result"
    }
   ],
   "source": [
    "#-----example 1.4-----\n",
    "series_4 = pd.Series([1, 2, 3, 4],\n",
    "                     index = [\"id1\", \"id2\", \"id3\", \"id4\"]) # explicitly creating an index \n",
    "series_4"
   ]
  },
  {
   "cell_type": "code",
   "execution_count": 60,
   "metadata": {},
   "outputs": [
    {
     "name": "stdout",
     "output_type": "stream",
     "text": [
      "series_2: \n",
      "0     5\n",
      "1     7\n",
      "2     9\n",
      "3    11\n",
      "dtype: int32\n",
      "series_2 has an implicit index: RangeIndex(start=0, stop=4, step=1)\n"
     ]
    },
    {
     "data": {
      "text/plain": [
       "2     9\n",
       "3    11\n",
       "dtype: int32"
      ]
     },
     "execution_count": 60,
     "metadata": {},
     "output_type": "execute_result"
    }
   ],
   "source": [
    "#-----example 2.1-----\n",
    "print(\"series_2: \\n{}\".format(series_2))\n",
    "print(\"series_2 has an implicit index: {}\".format(series_2.index)) \n",
    "\n",
    "series_2.iloc[2:3+1] # slicing does not include the last value when slicing via the implicit index    "
   ]
  },
  {
   "cell_type": "code",
   "execution_count": 61,
   "metadata": {},
   "outputs": [
    {
     "name": "stdout",
     "output_type": "stream",
     "text": [
      "series_3: \n",
      "item_1         key\n",
      "item_2    passport\n",
      "item_3     tickets\n",
      "item_4      snacks\n",
      "dtype: object\n",
      "series_3 has an explicit index: Index(['item_1', 'item_2', 'item_3', 'item_4'], dtype='object')\n",
      "item_1         key\n",
      "item_2    passport\n",
      "item_3     tickets\n",
      "dtype: object\n"
     ]
    }
   ],
   "source": [
    "#-----example 2.2----- \n",
    "print(\"series_3: \\n{}\".format(series_3))\n",
    "print(\"series_3 has an explicit index: {}\".format(series_3.index)) \n",
    "\n",
    "print(series_3.iloc[0:2+1]) # you can still slice via the implicit index"
   ]
  },
  {
   "cell_type": "code",
   "execution_count": 62,
   "metadata": {},
   "outputs": [
    {
     "name": "stdout",
     "output_type": "stream",
     "text": [
      "item_1         key\n",
      "item_2    passport\n",
      "item_3     tickets\n",
      "dtype: object\n"
     ]
    }
   ],
   "source": [
    "#-----example 2.3-----\n",
    "print(series_3.loc[\"item_1\": \"item_3\"]) # slicing includes the last value for explicit index"
   ]
  },
  {
   "cell_type": "markdown",
   "metadata": {},
   "source": [
    "## pd.DataFrame    \n",
    "\n",
    "The Pandas DataFrame is the data structure that is most commonly used for data analysis.  \n",
    "\n",
    "+ Similar to R data frames or tibbles. \n",
    "+ Can be created from a Pandas Series, NumPy array or dictionary.  \n",
    "+ To select columns from a data frame, subsetting works via subsetting on column names.    \n",
    "+ Use `iloc[]` to subset rows via the implicit index (i.e. 0-based index).  \n",
    "+ Use `loc[]` to subset rows via the explicit index (i.e. explicit names).   "
   ]
  },
  {
   "cell_type": "code",
   "execution_count": 63,
   "metadata": {},
   "outputs": [
    {
     "data": {
      "text/html": [
       "<div>\n",
       "<style scoped>\n",
       "    .dataframe tbody tr th:only-of-type {\n",
       "        vertical-align: middle;\n",
       "    }\n",
       "\n",
       "    .dataframe tbody tr th {\n",
       "        vertical-align: top;\n",
       "    }\n",
       "\n",
       "    .dataframe thead th {\n",
       "        text-align: right;\n",
       "    }\n",
       "</style>\n",
       "<table border=\"1\" class=\"dataframe\">\n",
       "  <thead>\n",
       "    <tr style=\"text-align: right;\">\n",
       "      <th></th>\n",
       "      <th>items</th>\n",
       "    </tr>\n",
       "  </thead>\n",
       "  <tbody>\n",
       "    <tr>\n",
       "      <th>0</th>\n",
       "      <td>1</td>\n",
       "    </tr>\n",
       "    <tr>\n",
       "      <th>1</th>\n",
       "      <td>2</td>\n",
       "    </tr>\n",
       "    <tr>\n",
       "      <th>2</th>\n",
       "      <td>3</td>\n",
       "    </tr>\n",
       "  </tbody>\n",
       "</table>\n",
       "</div>"
      ],
      "text/plain": [
       "   items\n",
       "0      1\n",
       "1      2\n",
       "2      3"
      ]
     },
     "execution_count": 63,
     "metadata": {},
     "output_type": "execute_result"
    }
   ],
   "source": [
    "#-----example 1.1-----  \n",
    "series_1 = pd.Series(np.arange(1, 3+1, 1))  \n",
    "\n",
    "df_1 = pd.DataFrame(series_1, columns = [\"items\"]) # create a DataFrame with 1 column from a Series\n",
    "df_1"
   ]
  },
  {
   "cell_type": "code",
   "execution_count": 64,
   "metadata": {},
   "outputs": [
    {
     "data": {
      "text/html": [
       "<div>\n",
       "<style scoped>\n",
       "    .dataframe tbody tr th:only-of-type {\n",
       "        vertical-align: middle;\n",
       "    }\n",
       "\n",
       "    .dataframe tbody tr th {\n",
       "        vertical-align: top;\n",
       "    }\n",
       "\n",
       "    .dataframe thead th {\n",
       "        text-align: right;\n",
       "    }\n",
       "</style>\n",
       "<table border=\"1\" class=\"dataframe\">\n",
       "  <thead>\n",
       "    <tr style=\"text-align: right;\">\n",
       "      <th></th>\n",
       "      <th>ID</th>\n",
       "      <th>items</th>\n",
       "    </tr>\n",
       "  </thead>\n",
       "  <tbody>\n",
       "    <tr>\n",
       "      <th>0</th>\n",
       "      <td>ID 1</td>\n",
       "      <td>1</td>\n",
       "    </tr>\n",
       "    <tr>\n",
       "      <th>1</th>\n",
       "      <td>ID 2</td>\n",
       "      <td>2</td>\n",
       "    </tr>\n",
       "    <tr>\n",
       "      <th>2</th>\n",
       "      <td>ID 3</td>\n",
       "      <td>3</td>\n",
       "    </tr>\n",
       "  </tbody>\n",
       "</table>\n",
       "</div>"
      ],
      "text/plain": [
       "     ID  items\n",
       "0  ID 1      1\n",
       "1  ID 2      2\n",
       "2  ID 3      3"
      ]
     },
     "execution_count": 64,
     "metadata": {},
     "output_type": "execute_result"
    }
   ],
   "source": [
    "#-----example 1.2-----  \n",
    "series_2 = pd.Series([f'ID {n}' for n in range(1, 3+1, 1)]) # f-strings allow easy string evaluations \n",
    "\n",
    "df_2 = pd.DataFrame({\"ID\" : series_2, \n",
    "                     \"items\" : series_1}) # create a DataFrame with 2 columns using a dictionary  \n",
    "df_2  "
   ]
  },
  {
   "cell_type": "code",
   "execution_count": 65,
   "metadata": {},
   "outputs": [
    {
     "data": {
      "text/html": [
       "<div>\n",
       "<style scoped>\n",
       "    .dataframe tbody tr th:only-of-type {\n",
       "        vertical-align: middle;\n",
       "    }\n",
       "\n",
       "    .dataframe tbody tr th {\n",
       "        vertical-align: top;\n",
       "    }\n",
       "\n",
       "    .dataframe thead th {\n",
       "        text-align: right;\n",
       "    }\n",
       "</style>\n",
       "<table border=\"1\" class=\"dataframe\">\n",
       "  <thead>\n",
       "    <tr style=\"text-align: right;\">\n",
       "      <th></th>\n",
       "      <th>0</th>\n",
       "      <th>1</th>\n",
       "      <th>2</th>\n",
       "    </tr>\n",
       "  </thead>\n",
       "  <tbody>\n",
       "    <tr>\n",
       "      <th>0</th>\n",
       "      <td>1</td>\n",
       "      <td>2</td>\n",
       "      <td>3</td>\n",
       "    </tr>\n",
       "    <tr>\n",
       "      <th>1</th>\n",
       "      <td>4</td>\n",
       "      <td>5</td>\n",
       "      <td>6</td>\n",
       "    </tr>\n",
       "    <tr>\n",
       "      <th>2</th>\n",
       "      <td>7</td>\n",
       "      <td>8</td>\n",
       "      <td>9</td>\n",
       "    </tr>\n",
       "  </tbody>\n",
       "</table>\n",
       "</div>"
      ],
      "text/plain": [
       "   0  1  2\n",
       "0  1  2  3\n",
       "1  4  5  6\n",
       "2  7  8  9"
      ]
     },
     "execution_count": 65,
     "metadata": {},
     "output_type": "execute_result"
    }
   ],
   "source": [
    "#-----example 2.1-----  \n",
    "df_3 = pd.DataFrame(np.arange(1, 9+1).reshape(3,3)) # create a DataFrame from a 2D NumPy array  \n",
    "df_3"
   ]
  },
  {
   "cell_type": "code",
   "execution_count": 66,
   "metadata": {},
   "outputs": [
    {
     "data": {
      "text/html": [
       "<div>\n",
       "<style scoped>\n",
       "    .dataframe tbody tr th:only-of-type {\n",
       "        vertical-align: middle;\n",
       "    }\n",
       "\n",
       "    .dataframe tbody tr th {\n",
       "        vertical-align: top;\n",
       "    }\n",
       "\n",
       "    .dataframe thead th {\n",
       "        text-align: right;\n",
       "    }\n",
       "</style>\n",
       "<table border=\"1\" class=\"dataframe\">\n",
       "  <thead>\n",
       "    <tr style=\"text-align: right;\">\n",
       "      <th></th>\n",
       "      <th>Monday</th>\n",
       "      <th>Wednesday</th>\n",
       "      <th>Friday</th>\n",
       "    </tr>\n",
       "  </thead>\n",
       "  <tbody>\n",
       "    <tr>\n",
       "      <th>0</th>\n",
       "      <td>1</td>\n",
       "      <td>2</td>\n",
       "      <td>3</td>\n",
       "    </tr>\n",
       "    <tr>\n",
       "      <th>1</th>\n",
       "      <td>4</td>\n",
       "      <td>5</td>\n",
       "      <td>6</td>\n",
       "    </tr>\n",
       "    <tr>\n",
       "      <th>2</th>\n",
       "      <td>7</td>\n",
       "      <td>8</td>\n",
       "      <td>9</td>\n",
       "    </tr>\n",
       "  </tbody>\n",
       "</table>\n",
       "</div>"
      ],
      "text/plain": [
       "   Monday  Wednesday  Friday\n",
       "0       1          2       3\n",
       "1       4          5       6\n",
       "2       7          8       9"
      ]
     },
     "execution_count": 66,
     "metadata": {},
     "output_type": "execute_result"
    }
   ],
   "source": [
    "#-----example 2.2----- \n",
    "df_3.columns = [\"Monday\", \"Wednesday\", \"Friday\"] # input column names as a list\n",
    "df_3 # df_3 is modified in place"
   ]
  },
  {
   "cell_type": "code",
   "execution_count": 67,
   "metadata": {},
   "outputs": [
    {
     "data": {
      "text/html": [
       "<div>\n",
       "<style scoped>\n",
       "    .dataframe tbody tr th:only-of-type {\n",
       "        vertical-align: middle;\n",
       "    }\n",
       "\n",
       "    .dataframe tbody tr th {\n",
       "        vertical-align: top;\n",
       "    }\n",
       "\n",
       "    .dataframe thead th {\n",
       "        text-align: right;\n",
       "    }\n",
       "</style>\n",
       "<table border=\"1\" class=\"dataframe\">\n",
       "  <thead>\n",
       "    <tr style=\"text-align: right;\">\n",
       "      <th></th>\n",
       "      <th>Monday</th>\n",
       "      <th>Wednesday</th>\n",
       "      <th>Friday</th>\n",
       "    </tr>\n",
       "  </thead>\n",
       "  <tbody>\n",
       "    <tr>\n",
       "      <th>1</th>\n",
       "      <td>4</td>\n",
       "      <td>5</td>\n",
       "      <td>6</td>\n",
       "    </tr>\n",
       "    <tr>\n",
       "      <th>2</th>\n",
       "      <td>7</td>\n",
       "      <td>8</td>\n",
       "      <td>9</td>\n",
       "    </tr>\n",
       "  </tbody>\n",
       "</table>\n",
       "</div>"
      ],
      "text/plain": [
       "   Monday  Wednesday  Friday\n",
       "1       4          5       6\n",
       "2       7          8       9"
      ]
     },
     "execution_count": 67,
     "metadata": {},
     "output_type": "execute_result"
    }
   ],
   "source": [
    "#-----example 2.3----- \n",
    "df_3.iloc[1: 2+1] # slice rows implicitly \n",
    "\n",
    "# note that df_2.loc[[\"ID3\", \"ID4\"]] does not work "
   ]
  },
  {
   "cell_type": "code",
   "execution_count": 68,
   "metadata": {},
   "outputs": [
    {
     "data": {
      "text/html": [
       "<div>\n",
       "<style scoped>\n",
       "    .dataframe tbody tr th:only-of-type {\n",
       "        vertical-align: middle;\n",
       "    }\n",
       "\n",
       "    .dataframe tbody tr th {\n",
       "        vertical-align: top;\n",
       "    }\n",
       "\n",
       "    .dataframe thead th {\n",
       "        text-align: right;\n",
       "    }\n",
       "</style>\n",
       "<table border=\"1\" class=\"dataframe\">\n",
       "  <thead>\n",
       "    <tr style=\"text-align: right;\">\n",
       "      <th></th>\n",
       "      <th>Monday</th>\n",
       "      <th>Friday</th>\n",
       "    </tr>\n",
       "  </thead>\n",
       "  <tbody>\n",
       "    <tr>\n",
       "      <th>0</th>\n",
       "      <td>1</td>\n",
       "      <td>3</td>\n",
       "    </tr>\n",
       "    <tr>\n",
       "      <th>1</th>\n",
       "      <td>4</td>\n",
       "      <td>6</td>\n",
       "    </tr>\n",
       "    <tr>\n",
       "      <th>2</th>\n",
       "      <td>7</td>\n",
       "      <td>9</td>\n",
       "    </tr>\n",
       "  </tbody>\n",
       "</table>\n",
       "</div>"
      ],
      "text/plain": [
       "   Monday  Friday\n",
       "0       1       3\n",
       "1       4       6\n",
       "2       7       9"
      ]
     },
     "execution_count": 68,
     "metadata": {},
     "output_type": "execute_result"
    }
   ],
   "source": [
    "#-----example 2.4-----\n",
    "df_3[[\"Monday\", \"Friday\"]] # select columns expliciting via column name  \n",
    "\n",
    "# use [[]] to return a DataFrame  "
   ]
  },
  {
   "cell_type": "markdown",
   "metadata": {},
   "source": [
    "You can use `df.index` to access information about the DataFrame index and `df.info()` to access information about the DataFrame columns.   "
   ]
  },
  {
   "cell_type": "code",
   "execution_count": 69,
   "metadata": {
    "scrolled": false
   },
   "outputs": [
    {
     "data": {
      "text/plain": [
       "RangeIndex(start=0, stop=3, step=1)"
      ]
     },
     "execution_count": 69,
     "metadata": {},
     "output_type": "execute_result"
    }
   ],
   "source": [
    "#-----example 1-----  \n",
    "df_3.index"
   ]
  },
  {
   "cell_type": "code",
   "execution_count": 70,
   "metadata": {},
   "outputs": [
    {
     "name": "stdout",
     "output_type": "stream",
     "text": [
      "<class 'pandas.core.frame.DataFrame'>\n",
      "RangeIndex: 3 entries, 0 to 2\n",
      "Data columns (total 3 columns):\n",
      " #   Column     Non-Null Count  Dtype\n",
      "---  ------     --------------  -----\n",
      " 0   Monday     3 non-null      int32\n",
      " 1   Wednesday  3 non-null      int32\n",
      " 2   Friday     3 non-null      int32\n",
      "dtypes: int32(3)\n",
      "memory usage: 164.0 bytes\n"
     ]
    }
   ],
   "source": [
    "#-----example 2-----\n",
    "df_3.info()"
   ]
  },
  {
   "cell_type": "code",
   "execution_count": 71,
   "metadata": {},
   "outputs": [
    {
     "data": {
      "text/plain": [
       "(3, 3)"
      ]
     },
     "execution_count": 71,
     "metadata": {},
     "output_type": "execute_result"
    }
   ],
   "source": [
    "#-----example 3-----  \n",
    "df_3.iloc[0: 2+1].shape # returns a tuple  "
   ]
  },
  {
   "cell_type": "markdown",
   "metadata": {},
   "source": [
    "You can use `df.shape` to extract the dimensions of your DataFrame into a tuple.    "
   ]
  },
  {
   "cell_type": "markdown",
   "metadata": {},
   "source": [
    "## Concatenating Python DataFrames  \n",
    "\n",
    "The DataFrame index dictates where arithmetic operations are applied between DataFrames.    "
   ]
  },
  {
   "cell_type": "code",
   "execution_count": 72,
   "metadata": {},
   "outputs": [
    {
     "data": {
      "text/html": [
       "<div>\n",
       "<style scoped>\n",
       "    .dataframe tbody tr th:only-of-type {\n",
       "        vertical-align: middle;\n",
       "    }\n",
       "\n",
       "    .dataframe tbody tr th {\n",
       "        vertical-align: top;\n",
       "    }\n",
       "\n",
       "    .dataframe thead th {\n",
       "        text-align: right;\n",
       "    }\n",
       "</style>\n",
       "<table border=\"1\" class=\"dataframe\">\n",
       "  <thead>\n",
       "    <tr style=\"text-align: right;\">\n",
       "      <th></th>\n",
       "      <th>a</th>\n",
       "    </tr>\n",
       "  </thead>\n",
       "  <tbody>\n",
       "    <tr>\n",
       "      <th>0</th>\n",
       "      <td>NaN</td>\n",
       "    </tr>\n",
       "    <tr>\n",
       "      <th>1</th>\n",
       "      <td>1.0</td>\n",
       "    </tr>\n",
       "    <tr>\n",
       "      <th>2</th>\n",
       "      <td>3.0</td>\n",
       "    </tr>\n",
       "    <tr>\n",
       "      <th>3</th>\n",
       "      <td>NaN</td>\n",
       "    </tr>\n",
       "  </tbody>\n",
       "</table>\n",
       "</div>"
      ],
      "text/plain": [
       "     a\n",
       "0  NaN\n",
       "1  1.0\n",
       "2  3.0\n",
       "3  NaN"
      ]
     },
     "execution_count": 72,
     "metadata": {},
     "output_type": "execute_result"
    }
   ],
   "source": [
    "#-----example 1-----   \n",
    "df1 = pd.DataFrame(np.arange(3), columns = ['a'], index = [0, 1, 2])  \n",
    "df2 = pd.DataFrame(np.arange(3), columns = ['a'], index = [1, 2, 3]) # columns need to be named the same\n",
    "\n",
    "df3 = df1 + df2\n",
    "df3\n",
    "\n",
    "# we should avoid using `+` to manipulate DataFrames   \n",
    "# as it does not give us a clear idea how what happens to mismatched rows (all turns to NaN)"
   ]
  },
  {
   "cell_type": "code",
   "execution_count": 73,
   "metadata": {},
   "outputs": [
    {
     "data": {
      "text/html": [
       "<div>\n",
       "<style scoped>\n",
       "    .dataframe tbody tr th:only-of-type {\n",
       "        vertical-align: middle;\n",
       "    }\n",
       "\n",
       "    .dataframe tbody tr th {\n",
       "        vertical-align: top;\n",
       "    }\n",
       "\n",
       "    .dataframe thead th {\n",
       "        text-align: right;\n",
       "    }\n",
       "</style>\n",
       "<table border=\"1\" class=\"dataframe\">\n",
       "  <thead>\n",
       "    <tr style=\"text-align: right;\">\n",
       "      <th></th>\n",
       "      <th>a</th>\n",
       "    </tr>\n",
       "  </thead>\n",
       "  <tbody>\n",
       "    <tr>\n",
       "      <th>1</th>\n",
       "      <td>1.0</td>\n",
       "    </tr>\n",
       "    <tr>\n",
       "      <th>2</th>\n",
       "      <td>3.0</td>\n",
       "    </tr>\n",
       "  </tbody>\n",
       "</table>\n",
       "</div>"
      ],
      "text/plain": [
       "     a\n",
       "1  1.0\n",
       "2  3.0"
      ]
     },
     "execution_count": 73,
     "metadata": {},
     "output_type": "execute_result"
    }
   ],
   "source": [
    "#-----example 2-----\n",
    "df3.dropna() # remove rows with NaNs"
   ]
  },
  {
   "cell_type": "code",
   "execution_count": 74,
   "metadata": {},
   "outputs": [
    {
     "data": {
      "text/html": [
       "<div>\n",
       "<style scoped>\n",
       "    .dataframe tbody tr th:only-of-type {\n",
       "        vertical-align: middle;\n",
       "    }\n",
       "\n",
       "    .dataframe tbody tr th {\n",
       "        vertical-align: top;\n",
       "    }\n",
       "\n",
       "    .dataframe thead th {\n",
       "        text-align: right;\n",
       "    }\n",
       "</style>\n",
       "<table border=\"1\" class=\"dataframe\">\n",
       "  <thead>\n",
       "    <tr style=\"text-align: right;\">\n",
       "      <th></th>\n",
       "      <th>a</th>\n",
       "    </tr>\n",
       "  </thead>\n",
       "  <tbody>\n",
       "    <tr>\n",
       "      <th>0</th>\n",
       "      <td>2.0</td>\n",
       "    </tr>\n",
       "    <tr>\n",
       "      <th>1</th>\n",
       "      <td>1.0</td>\n",
       "    </tr>\n",
       "    <tr>\n",
       "      <th>2</th>\n",
       "      <td>3.0</td>\n",
       "    </tr>\n",
       "    <tr>\n",
       "      <th>3</th>\n",
       "      <td>2.0</td>\n",
       "    </tr>\n",
       "  </tbody>\n",
       "</table>\n",
       "</div>"
      ],
      "text/plain": [
       "     a\n",
       "0  2.0\n",
       "1  1.0\n",
       "2  3.0\n",
       "3  2.0"
      ]
     },
     "execution_count": 74,
     "metadata": {},
     "output_type": "execute_result"
    }
   ],
   "source": [
    "#-----example 3----- \n",
    "df3.fillna(df3.mean()) # replace rows with NaNs with another value "
   ]
  },
  {
   "cell_type": "markdown",
   "metadata": {},
   "source": [
    "When we want to combine DataFrames, we can use `concat()` although other methods also exist.   \n",
    "\n",
    "The concatenation of Pandas Series and DataFrames follows some simple rules:  \n",
    "+ Unlike addition, the position of indexes do not confer any special positional meaning. \n",
    "+ Indexes from each series or DataFrame are stacked on top of each other, unless `ignore_index = True` is specified.  \n",
    "+ If DataFrames have different number of columns, the concatenation occurs by column name. DataFrames are stacked on top of each other and `NaN` is assigned to missing areas.   \n",
    "+ We can also use `concat()` in combination with the argument `join = ...` to only keep DataFrame values that are present in both DataFrames.  \n",
    "+ Advanced methods for combining DataFrames are preferrable and can be accessed via `join()` and `merge()`.  "
   ]
  },
  {
   "cell_type": "code",
   "execution_count": 75,
   "metadata": {},
   "outputs": [
    {
     "data": {
      "text/plain": [
       "0    1\n",
       "1    2\n",
       "2    3\n",
       "0    1\n",
       "1    2\n",
       "2    3\n",
       "dtype: int64"
      ]
     },
     "execution_count": 75,
     "metadata": {},
     "output_type": "execute_result"
    }
   ],
   "source": [
    "#-----example 1.1-----  \n",
    "series_1 = pd.Series([1, 2, 3], index = [0, 1, 2])\n",
    "series_2 = pd.Series([1, 2, 3], index = [0, 1, 2])\n",
    "\n",
    "pd.concat([series_1, series_2]) \n",
    "\n",
    "# two series are stacked on top of each other"
   ]
  },
  {
   "cell_type": "code",
   "execution_count": 76,
   "metadata": {},
   "outputs": [
    {
     "data": {
      "text/plain": [
       "0    1\n",
       "1    2\n",
       "2    3\n",
       "3    1\n",
       "4    2\n",
       "5    3\n",
       "dtype: int64"
      ]
     },
     "execution_count": 76,
     "metadata": {},
     "output_type": "execute_result"
    }
   ],
   "source": [
    "#-----example 1.2-----\n",
    "pd.concat([series_1, series_2]).reset_index(drop = True)  \n",
    "\n",
    "# two series are concatenated and the original index is reset but not saved as a new column"
   ]
  },
  {
   "cell_type": "code",
   "execution_count": 77,
   "metadata": {},
   "outputs": [
    {
     "data": {
      "text/html": [
       "<div>\n",
       "<style scoped>\n",
       "    .dataframe tbody tr th:only-of-type {\n",
       "        vertical-align: middle;\n",
       "    }\n",
       "\n",
       "    .dataframe tbody tr th {\n",
       "        vertical-align: top;\n",
       "    }\n",
       "\n",
       "    .dataframe thead th {\n",
       "        text-align: right;\n",
       "    }\n",
       "</style>\n",
       "<table border=\"1\" class=\"dataframe\">\n",
       "  <thead>\n",
       "    <tr style=\"text-align: right;\">\n",
       "      <th></th>\n",
       "      <th>0</th>\n",
       "      <th>1</th>\n",
       "    </tr>\n",
       "  </thead>\n",
       "  <tbody>\n",
       "    <tr>\n",
       "      <th>0</th>\n",
       "      <td>0</td>\n",
       "      <td>1</td>\n",
       "    </tr>\n",
       "    <tr>\n",
       "      <th>1</th>\n",
       "      <td>2</td>\n",
       "      <td>3</td>\n",
       "    </tr>\n",
       "    <tr>\n",
       "      <th>2</th>\n",
       "      <td>0</td>\n",
       "      <td>1</td>\n",
       "    </tr>\n",
       "    <tr>\n",
       "      <th>3</th>\n",
       "      <td>2</td>\n",
       "      <td>3</td>\n",
       "    </tr>\n",
       "  </tbody>\n",
       "</table>\n",
       "</div>"
      ],
      "text/plain": [
       "   0  1\n",
       "0  0  1\n",
       "1  2  3\n",
       "2  0  1\n",
       "3  2  3"
      ]
     },
     "execution_count": 77,
     "metadata": {},
     "output_type": "execute_result"
    }
   ],
   "source": [
    "#-----example 2-----  \n",
    "df_1 = pd.DataFrame(np.arange(4).reshape(2, 2)) # numbers filled from left to right by row\n",
    "df_2 = pd.DataFrame(np.arange(4).reshape(2, 2))  \n",
    "\n",
    "pd.concat([df_1, df_2], ignore_index = True) \n",
    "\n",
    "# setting the argument to ignore_index = True also resets the DataFrame index  "
   ]
  },
  {
   "cell_type": "code",
   "execution_count": 78,
   "metadata": {},
   "outputs": [
    {
     "name": "stdout",
     "output_type": "stream",
     "text": [
      "df_1 has 2 rows and 3 named columns: \n",
      "   a  b  c\n",
      "0  0  1  2\n",
      "1  3  4  5\n",
      "df_2 has 2 rows and 2 named columns: \n",
      "   a  d\n",
      "0  0  1\n",
      "1  2  3\n"
     ]
    },
    {
     "data": {
      "text/html": [
       "<div>\n",
       "<style scoped>\n",
       "    .dataframe tbody tr th:only-of-type {\n",
       "        vertical-align: middle;\n",
       "    }\n",
       "\n",
       "    .dataframe tbody tr th {\n",
       "        vertical-align: top;\n",
       "    }\n",
       "\n",
       "    .dataframe thead th {\n",
       "        text-align: right;\n",
       "    }\n",
       "</style>\n",
       "<table border=\"1\" class=\"dataframe\">\n",
       "  <thead>\n",
       "    <tr style=\"text-align: right;\">\n",
       "      <th></th>\n",
       "      <th>a</th>\n",
       "      <th>b</th>\n",
       "      <th>c</th>\n",
       "      <th>d</th>\n",
       "    </tr>\n",
       "  </thead>\n",
       "  <tbody>\n",
       "    <tr>\n",
       "      <th>0</th>\n",
       "      <td>0</td>\n",
       "      <td>1.0</td>\n",
       "      <td>2.0</td>\n",
       "      <td>NaN</td>\n",
       "    </tr>\n",
       "    <tr>\n",
       "      <th>1</th>\n",
       "      <td>3</td>\n",
       "      <td>4.0</td>\n",
       "      <td>5.0</td>\n",
       "      <td>NaN</td>\n",
       "    </tr>\n",
       "    <tr>\n",
       "      <th>0</th>\n",
       "      <td>0</td>\n",
       "      <td>NaN</td>\n",
       "      <td>NaN</td>\n",
       "      <td>1.0</td>\n",
       "    </tr>\n",
       "    <tr>\n",
       "      <th>1</th>\n",
       "      <td>2</td>\n",
       "      <td>NaN</td>\n",
       "      <td>NaN</td>\n",
       "      <td>3.0</td>\n",
       "    </tr>\n",
       "  </tbody>\n",
       "</table>\n",
       "</div>"
      ],
      "text/plain": [
       "   a    b    c    d\n",
       "0  0  1.0  2.0  NaN\n",
       "1  3  4.0  5.0  NaN\n",
       "0  0  NaN  NaN  1.0\n",
       "1  2  NaN  NaN  3.0"
      ]
     },
     "execution_count": 78,
     "metadata": {},
     "output_type": "execute_result"
    }
   ],
   "source": [
    "#-----example 3-----  \n",
    "df_1 = pd.DataFrame(np.arange(6).reshape(2, 3), columns = ['a', 'b', 'c']) \n",
    "df_2 = pd.DataFrame(np.arange(4).reshape(2, 2), columns = ['a', 'd'])  \n",
    "\n",
    "print(\"df_1 has 2 rows and 3 named columns: \\n{}\".format(df_1))\n",
    "print(\"df_2 has 2 rows and 2 named columns: \\n{}\".format(df_2))\n",
    "\n",
    "pd.concat([df_1, df_2]) \n",
    "\n",
    "# DataFrames are concatenated via matching column names  "
   ]
  },
  {
   "cell_type": "code",
   "execution_count": 79,
   "metadata": {},
   "outputs": [
    {
     "name": "stdout",
     "output_type": "stream",
     "text": [
      "df_1 has 2 rows and 3 named columns: \n",
      "   a  b  c\n",
      "0  0  1  2\n",
      "1  3  4  5\n",
      "df_2 has 2 rows and 2 named columns: \n",
      "   a  c\n",
      "0  0  1\n",
      "1  2  3\n"
     ]
    },
    {
     "data": {
      "text/html": [
       "<div>\n",
       "<style scoped>\n",
       "    .dataframe tbody tr th:only-of-type {\n",
       "        vertical-align: middle;\n",
       "    }\n",
       "\n",
       "    .dataframe tbody tr th {\n",
       "        vertical-align: top;\n",
       "    }\n",
       "\n",
       "    .dataframe thead th {\n",
       "        text-align: right;\n",
       "    }\n",
       "</style>\n",
       "<table border=\"1\" class=\"dataframe\">\n",
       "  <thead>\n",
       "    <tr style=\"text-align: right;\">\n",
       "      <th></th>\n",
       "      <th>a</th>\n",
       "      <th>c</th>\n",
       "    </tr>\n",
       "  </thead>\n",
       "  <tbody>\n",
       "    <tr>\n",
       "      <th>0</th>\n",
       "      <td>0</td>\n",
       "      <td>2</td>\n",
       "    </tr>\n",
       "    <tr>\n",
       "      <th>1</th>\n",
       "      <td>3</td>\n",
       "      <td>5</td>\n",
       "    </tr>\n",
       "    <tr>\n",
       "      <th>2</th>\n",
       "      <td>0</td>\n",
       "      <td>1</td>\n",
       "    </tr>\n",
       "    <tr>\n",
       "      <th>3</th>\n",
       "      <td>2</td>\n",
       "      <td>3</td>\n",
       "    </tr>\n",
       "  </tbody>\n",
       "</table>\n",
       "</div>"
      ],
      "text/plain": [
       "   a  c\n",
       "0  0  2\n",
       "1  3  5\n",
       "2  0  1\n",
       "3  2  3"
      ]
     },
     "execution_count": 79,
     "metadata": {},
     "output_type": "execute_result"
    }
   ],
   "source": [
    "#-----example 4-----  \n",
    "df_1 = pd.DataFrame(np.arange(6).reshape(2, 3), columns = ['a', 'b', 'c']) \n",
    "df_2 = pd.DataFrame(np.arange(4).reshape(2, 2), columns = ['a', 'c'])  \n",
    "\n",
    "print(\"df_1 has 2 rows and 3 named columns: \\n{}\".format(df_1))\n",
    "print(\"df_2 has 2 rows and 2 named columns: \\n{}\".format(df_2))\n",
    "\n",
    "pd.concat([df_1, df_2], join = 'inner', ignore_index = True) \n",
    "\n",
    "# join = 'inner' only returns columns that are present in both df_1 and df_2    "
   ]
  }
 ],
 "metadata": {
  "kernelspec": {
   "display_name": "Python 3",
   "language": "python",
   "name": "python3"
  },
  "language_info": {
   "codemirror_mode": {
    "name": "ipython",
    "version": 3
   },
   "file_extension": ".py",
   "mimetype": "text/x-python",
   "name": "python",
   "nbconvert_exporter": "python",
   "pygments_lexer": "ipython3",
   "version": "3.7.9"
  }
 },
 "nbformat": 4,
 "nbformat_minor": 2
}
