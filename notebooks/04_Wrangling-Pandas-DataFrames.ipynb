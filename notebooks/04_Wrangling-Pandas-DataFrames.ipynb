{
 "cells": [
  {
   "cell_type": "markdown",
   "metadata": {},
   "source": [
    "# Wrangling DataFrames with Pandas    \n",
    "## Author: Erika Duan    "
   ]
  },
  {
   "cell_type": "markdown",
   "metadata": {},
   "source": [
    "![](../02_figures/04_manipulating-pandas-header.jpg)"
   ]
  },
  {
   "cell_type": "markdown",
   "metadata": {},
   "source": [
    "# Dataset background  \n",
    "\n",
    "We will be using open government data to familiarise ourselves with Pandas DataFrame manipulations. The dataset we will use describes the [index of disadvantage by schools in South Australia](https://data.gov.au/dataset/ds-sa-4ab8a539-eab5-48e2-8d88-a599d6114126/details?q=school), with a focus on [2020 data](https://data.gov.au/dataset/ds-sa-4ab8a539-eab5-48e2-8d88-a599d6114126/distribution/dist-sa-86d35483-feff-42b5-ac05-ad3186ac39de/details?q=school).     \n",
    "\n",
    "+ The index is a socio-economic index, used by the South Australian Department for Education to allocate resources to schools to address educational disadvantage related to socio-economic status.  \n",
    "+ The most disadvantaged schools have an index of 1.    \n",
    "+ The least disadvantaged have an index of 7.   \n",
    "+ Data is currently available for 2017, 2018 and 2020.  "
   ]
  },
  {
   "cell_type": "markdown",
   "metadata": {},
   "source": [
    "# Loading data     \n",
    "\n",
    "We can load data in two different ways:  \n",
    "\n",
    "1. Locally using the `pathlib` library and the Pandas `read_csv` function.  \n",
    "2. Directly through the data.gov.au [CKAN data API](https://docs.ckan.org/en/latest/maintaining/datastore.html).    \n",
    "\n",
    "**Note:** A guide to querying open data via CKAN can be found [here](https://alan-y.netlify.app/post/ckan-api/#querying-ckan).  "
   ]
  },
  {
   "cell_type": "code",
   "execution_count": 67,
   "metadata": {},
   "outputs": [
    {
     "data": {
      "text/html": [
       "<div>\n",
       "<style scoped>\n",
       "    .dataframe tbody tr th:only-of-type {\n",
       "        vertical-align: middle;\n",
       "    }\n",
       "\n",
       "    .dataframe tbody tr th {\n",
       "        vertical-align: top;\n",
       "    }\n",
       "\n",
       "    .dataframe thead th {\n",
       "        text-align: right;\n",
       "    }\n",
       "</style>\n",
       "<table border=\"1\" class=\"dataframe\">\n",
       "  <thead>\n",
       "    <tr style=\"text-align: right;\">\n",
       "      <th></th>\n",
       "      <th>ID</th>\n",
       "      <th>School_Number</th>\n",
       "      <th>School_Name</th>\n",
       "      <th>Suburb</th>\n",
       "      <th>Post_Code</th>\n",
       "      <th>Type_of_Schooling</th>\n",
       "      <th>Index_of_Educational_Disadvantage</th>\n",
       "      <th>Latitude</th>\n",
       "      <th>Longitude</th>\n",
       "    </tr>\n",
       "  </thead>\n",
       "  <tbody>\n",
       "    <tr>\n",
       "      <th>0</th>\n",
       "      <td>1</td>\n",
       "      <td>536</td>\n",
       "      <td>Aberfoyle Hub R-7 School</td>\n",
       "      <td>Aberfoyle Park</td>\n",
       "      <td>5159</td>\n",
       "      <td>Primary Education</td>\n",
       "      <td>6</td>\n",
       "      <td>-35.078139</td>\n",
       "      <td>138.595142</td>\n",
       "    </tr>\n",
       "    <tr>\n",
       "      <th>1</th>\n",
       "      <td>2</td>\n",
       "      <td>1673</td>\n",
       "      <td>Aberfoyle Park High School</td>\n",
       "      <td>Aberfoyle Park</td>\n",
       "      <td>5159</td>\n",
       "      <td>Secondary Education</td>\n",
       "      <td>6</td>\n",
       "      <td>-35.074007</td>\n",
       "      <td>138.594181</td>\n",
       "    </tr>\n",
       "    <tr>\n",
       "      <th>2</th>\n",
       "      <td>3</td>\n",
       "      <td>1919</td>\n",
       "      <td>Adelaide Botanic High School</td>\n",
       "      <td>Adelaide</td>\n",
       "      <td>5000</td>\n",
       "      <td>Secondary Education</td>\n",
       "      <td>7</td>\n",
       "      <td>-34.917055</td>\n",
       "      <td>138.606743</td>\n",
       "    </tr>\n",
       "  </tbody>\n",
       "</table>\n",
       "</div>"
      ],
      "text/plain": [
       "   ID  School_Number                   School_Name          Suburb  Post_Code  \\\n",
       "0   1            536      Aberfoyle Hub R-7 School  Aberfoyle Park       5159   \n",
       "1   2           1673    Aberfoyle Park High School  Aberfoyle Park       5159   \n",
       "2   3           1919  Adelaide Botanic High School        Adelaide       5000   \n",
       "\n",
       "     Type_of_Schooling  Index_of_Educational_Disadvantage   Latitude  \\\n",
       "0    Primary Education                                  6 -35.078139   \n",
       "1  Secondary Education                                  6 -35.074007   \n",
       "2  Secondary Education                                  7 -34.917055   \n",
       "\n",
       "    Longitude  \n",
       "0  138.595142  \n",
       "1  138.594181  \n",
       "2  138.606743  "
      ]
     },
     "execution_count": 67,
     "metadata": {},
     "output_type": "execute_result"
    }
   ],
   "source": [
    "#-----method 1: load csv file locally-----  \n",
    "import pathlib\n",
    "import pandas as pd     \n",
    "\n",
    "working_dir = pathlib.Path.cwd() # get current working directory  \n",
    "data_path = working_dir.parent / '01_raw_data' / '04_index-of-disadvantage-by-school-2020.csv'\n",
    "\n",
    "raw_data = pd.read_csv(data_path)  \n",
    "raw_data.head(3)"
   ]
  },
  {
   "cell_type": "code",
   "execution_count": 68,
   "metadata": {
    "scrolled": true
   },
   "outputs": [
    {
     "data": {
      "text/html": [
       "<div>\n",
       "<style scoped>\n",
       "    .dataframe tbody tr th:only-of-type {\n",
       "        vertical-align: middle;\n",
       "    }\n",
       "\n",
       "    .dataframe tbody tr th {\n",
       "        vertical-align: top;\n",
       "    }\n",
       "\n",
       "    .dataframe thead th {\n",
       "        text-align: right;\n",
       "    }\n",
       "</style>\n",
       "<table border=\"1\" class=\"dataframe\">\n",
       "  <thead>\n",
       "    <tr style=\"text-align: right;\">\n",
       "      <th></th>\n",
       "      <th>help</th>\n",
       "      <th>success</th>\n",
       "      <th>result</th>\n",
       "    </tr>\n",
       "  </thead>\n",
       "  <tbody>\n",
       "    <tr>\n",
       "      <th>limit</th>\n",
       "      <td>https://data.sa.gov.au/data/api/3/action/help_...</td>\n",
       "      <td>True</td>\n",
       "      <td>100</td>\n",
       "    </tr>\n",
       "    <tr>\n",
       "      <th>records</th>\n",
       "      <td>https://data.sa.gov.au/data/api/3/action/help_...</td>\n",
       "      <td>True</td>\n",
       "      <td>[{'_id': 1, 'ID': 1, 'School_Number': 536, 'Sc...</td>\n",
       "    </tr>\n",
       "    <tr>\n",
       "      <th>records_format</th>\n",
       "      <td>https://data.sa.gov.au/data/api/3/action/help_...</td>\n",
       "      <td>True</td>\n",
       "      <td>objects</td>\n",
       "    </tr>\n",
       "    <tr>\n",
       "      <th>resource_id</th>\n",
       "      <td>https://data.sa.gov.au/data/api/3/action/help_...</td>\n",
       "      <td>True</td>\n",
       "      <td>86d35483-feff-42b5-ac05-ad3186ac39de</td>\n",
       "    </tr>\n",
       "    <tr>\n",
       "      <th>total</th>\n",
       "      <td>https://data.sa.gov.au/data/api/3/action/help_...</td>\n",
       "      <td>True</td>\n",
       "      <td>512</td>\n",
       "    </tr>\n",
       "  </tbody>\n",
       "</table>\n",
       "</div>"
      ],
      "text/plain": [
       "                                                             help  success  \\\n",
       "limit           https://data.sa.gov.au/data/api/3/action/help_...     True   \n",
       "records         https://data.sa.gov.au/data/api/3/action/help_...     True   \n",
       "records_format  https://data.sa.gov.au/data/api/3/action/help_...     True   \n",
       "resource_id     https://data.sa.gov.au/data/api/3/action/help_...     True   \n",
       "total           https://data.sa.gov.au/data/api/3/action/help_...     True   \n",
       "\n",
       "                                                           result  \n",
       "limit                                                         100  \n",
       "records         [{'_id': 1, 'ID': 1, 'School_Number': 536, 'Sc...  \n",
       "records_format                                            objects  \n",
       "resource_id                  86d35483-feff-42b5-ac05-ad3186ac39de  \n",
       "total                                                         512  "
      ]
     },
     "execution_count": 68,
     "metadata": {},
     "output_type": "execute_result"
    }
   ],
   "source": [
    "#-----method 2: access data as JSON file through CKAN data API-----  \n",
    "import pathlib\n",
    "import numpy as np\n",
    "import pandas as pd\n",
    "import requests\n",
    "import json\n",
    "\n",
    "url = \"https://data.sa.gov.au/data/api/3/action/datastore_search?resource_id=86d35483-feff-42b5-ac05-ad3186ac39de\" \n",
    "json_query = requests.get(url).json() # returns a dictionary object \n",
    "\n",
    "json_content = json.dumps(json_query, indent = 1, sort_keys = False) \n",
    "json_df = pd.read_json(json_content)\n",
    "json_df.loc['limit':'total']\n",
    "\n",
    "# default ckan API query only returns 100 rows of data\n",
    "# JSON encoder returns a JSON file format/ string object "
   ]
  },
  {
   "cell_type": "code",
   "execution_count": 69,
   "metadata": {},
   "outputs": [
    {
     "data": {
      "text/html": [
       "<div>\n",
       "<style scoped>\n",
       "    .dataframe tbody tr th:only-of-type {\n",
       "        vertical-align: middle;\n",
       "    }\n",
       "\n",
       "    .dataframe tbody tr th {\n",
       "        vertical-align: top;\n",
       "    }\n",
       "\n",
       "    .dataframe thead th {\n",
       "        text-align: right;\n",
       "    }\n",
       "</style>\n",
       "<table border=\"1\" class=\"dataframe\">\n",
       "  <thead>\n",
       "    <tr style=\"text-align: right;\">\n",
       "      <th></th>\n",
       "      <th>_id</th>\n",
       "      <th>ID</th>\n",
       "      <th>School_Number</th>\n",
       "      <th>School_Name</th>\n",
       "      <th>Suburb</th>\n",
       "      <th>Post_Code</th>\n",
       "      <th>Type_of_Schooling</th>\n",
       "      <th>Index_of_Educational_Disadvantage</th>\n",
       "      <th>Latitude</th>\n",
       "      <th>Longitude</th>\n",
       "    </tr>\n",
       "  </thead>\n",
       "  <tbody>\n",
       "    <tr>\n",
       "      <th>0</th>\n",
       "      <td>1</td>\n",
       "      <td>1</td>\n",
       "      <td>536</td>\n",
       "      <td>Aberfoyle Hub R-7 School</td>\n",
       "      <td>Aberfoyle Park</td>\n",
       "      <td>5159</td>\n",
       "      <td>Primary Education</td>\n",
       "      <td>6</td>\n",
       "      <td>-35.078139</td>\n",
       "      <td>138.595142</td>\n",
       "    </tr>\n",
       "    <tr>\n",
       "      <th>1</th>\n",
       "      <td>2</td>\n",
       "      <td>2</td>\n",
       "      <td>1673</td>\n",
       "      <td>Aberfoyle Park High School</td>\n",
       "      <td>Aberfoyle Park</td>\n",
       "      <td>5159</td>\n",
       "      <td>Secondary Education</td>\n",
       "      <td>6</td>\n",
       "      <td>-35.074007</td>\n",
       "      <td>138.594181</td>\n",
       "    </tr>\n",
       "    <tr>\n",
       "      <th>2</th>\n",
       "      <td>3</td>\n",
       "      <td>3</td>\n",
       "      <td>1919</td>\n",
       "      <td>Adelaide Botanic High School</td>\n",
       "      <td>Adelaide</td>\n",
       "      <td>5000</td>\n",
       "      <td>Secondary Education</td>\n",
       "      <td>7</td>\n",
       "      <td>-34.917055</td>\n",
       "      <td>138.606743</td>\n",
       "    </tr>\n",
       "  </tbody>\n",
       "</table>\n",
       "</div>"
      ],
      "text/plain": [
       "   _id  ID  School_Number                   School_Name          Suburb  \\\n",
       "0    1   1            536      Aberfoyle Hub R-7 School  Aberfoyle Park   \n",
       "1    2   2           1673    Aberfoyle Park High School  Aberfoyle Park   \n",
       "2    3   3           1919  Adelaide Botanic High School        Adelaide   \n",
       "\n",
       "   Post_Code    Type_of_Schooling  Index_of_Educational_Disadvantage  \\\n",
       "0       5159    Primary Education                                  6   \n",
       "1       5159  Secondary Education                                  6   \n",
       "2       5000  Secondary Education                                  7   \n",
       "\n",
       "    Latitude   Longitude  \n",
       "0 -35.078139  138.595142  \n",
       "1 -35.074007  138.594181  \n",
       "2 -34.917055  138.606743  "
      ]
     },
     "execution_count": 69,
     "metadata": {},
     "output_type": "execute_result"
    }
   ],
   "source": [
    "#-----identify total data records in json query-----\n",
    "max_items = json_df.loc['total', 'result']  \n",
    "\n",
    "# re-run json query with max number of data records queried\n",
    "\n",
    "full_url = url + '&limit=' + str(max_items)\n",
    "json_query = requests.get(full_url).json() \n",
    "json_content = json.dumps(json_query, indent = 1, sort_keys = False) \n",
    "\n",
    "df = pd.read_json(json_content)\n",
    "df = pd.json_normalize(df['result']['records']) \n",
    "\n",
    "# normalize semi-structured JSON data into a flat table\n",
    "\n",
    "df.head(3)"
   ]
  },
  {
   "cell_type": "markdown",
   "metadata": {},
   "source": [
    "**Note:** An introduction to the JSON file format can be found [here](https://towardsdatascience.com/an-introduction-to-json-c9acb464f43e).  "
   ]
  },
  {
   "cell_type": "markdown",
   "metadata": {},
   "source": [
    "# Examining DataFrame structure  \n",
    "\n",
    "We can examine the properties of our DataFrame using the following functions and methods:  \n",
    "+ `df.shape()` to return the DataFrame dimensions.     \n",
    "+ `df.info()` to return a summary of all DataFrame columns, missing values and column object types.    \n",
    "+ `df.columns` to return an index of all column names.  \n",
    "+ `df.describe()` to return a simple statistical summary of each column's values.  \n",
    "\n",
    "**Note:** You can also configure Jupyter notebook to display all columns with `pd.set_option(\"display.max.columns\", None)`. "
   ]
  },
  {
   "cell_type": "code",
   "execution_count": 70,
   "metadata": {},
   "outputs": [
    {
     "data": {
      "text/plain": [
       "(512, 9)"
      ]
     },
     "execution_count": 70,
     "metadata": {},
     "output_type": "execute_result"
    }
   ],
   "source": [
    "#-----example 1.1-----  \n",
    "raw_data.shape"
   ]
  },
  {
   "cell_type": "code",
   "execution_count": 71,
   "metadata": {},
   "outputs": [
    {
     "name": "stdout",
     "output_type": "stream",
     "text": [
      "The raw data has 512 rows and 9 columns.\n"
     ]
    }
   ],
   "source": [
    "#-----example 1.2----- \n",
    "print(\"The raw data has {} rows and {} columns.\".format(raw_data.shape[0], raw_data.shape[1]))"
   ]
  },
  {
   "cell_type": "code",
   "execution_count": 72,
   "metadata": {},
   "outputs": [
    {
     "name": "stdout",
     "output_type": "stream",
     "text": [
      "<class 'pandas.core.frame.DataFrame'>\n",
      "RangeIndex: 512 entries, 0 to 511\n",
      "Data columns (total 9 columns):\n",
      " #   Column                             Non-Null Count  Dtype  \n",
      "---  ------                             --------------  -----  \n",
      " 0   ID                                 512 non-null    int64  \n",
      " 1   School_Number                      512 non-null    int64  \n",
      " 2   School_Name                        512 non-null    object \n",
      " 3   Suburb                             512 non-null    object \n",
      " 4   Post_Code                          512 non-null    int64  \n",
      " 5   Type_of_Schooling                  512 non-null    object \n",
      " 6   Index_of_Educational_Disadvantage  512 non-null    int64  \n",
      " 7   Latitude                           512 non-null    float64\n",
      " 8   Longitude                          512 non-null    float64\n",
      "dtypes: float64(2), int64(4), object(3)\n",
      "memory usage: 36.1+ KB\n"
     ]
    }
   ],
   "source": [
    "#-----example 2-----  \n",
    "raw_data.info()"
   ]
  },
  {
   "cell_type": "code",
   "execution_count": 73,
   "metadata": {},
   "outputs": [
    {
     "data": {
      "text/plain": [
       "Index(['ID', 'School_Number', 'School_Name', 'Suburb', 'Post_Code',\n",
       "       'Type_of_Schooling', 'Index_of_Educational_Disadvantage', 'Latitude',\n",
       "       'Longitude'],\n",
       "      dtype='object')"
      ]
     },
     "execution_count": 73,
     "metadata": {},
     "output_type": "execute_result"
    }
   ],
   "source": [
    "#-----example 3-----  \n",
    "raw_data.columns"
   ]
  },
  {
   "cell_type": "code",
   "execution_count": 74,
   "metadata": {},
   "outputs": [
    {
     "data": {
      "text/html": [
       "<div>\n",
       "<style scoped>\n",
       "    .dataframe tbody tr th:only-of-type {\n",
       "        vertical-align: middle;\n",
       "    }\n",
       "\n",
       "    .dataframe tbody tr th {\n",
       "        vertical-align: top;\n",
       "    }\n",
       "\n",
       "    .dataframe thead th {\n",
       "        text-align: right;\n",
       "    }\n",
       "</style>\n",
       "<table border=\"1\" class=\"dataframe\">\n",
       "  <thead>\n",
       "    <tr style=\"text-align: right;\">\n",
       "      <th></th>\n",
       "      <th>ID</th>\n",
       "      <th>School_Number</th>\n",
       "      <th>Post_Code</th>\n",
       "      <th>Index_of_Educational_Disadvantage</th>\n",
       "      <th>Latitude</th>\n",
       "      <th>Longitude</th>\n",
       "    </tr>\n",
       "  </thead>\n",
       "  <tbody>\n",
       "    <tr>\n",
       "      <th>count</th>\n",
       "      <td>512.000000</td>\n",
       "      <td>512.000000</td>\n",
       "      <td>512.000000</td>\n",
       "      <td>512.000000</td>\n",
       "      <td>512.000000</td>\n",
       "      <td>512.000000</td>\n",
       "    </tr>\n",
       "    <tr>\n",
       "      <th>mean</th>\n",
       "      <td>256.500000</td>\n",
       "      <td>771.277344</td>\n",
       "      <td>5167.619141</td>\n",
       "      <td>4.304688</td>\n",
       "      <td>-34.592120</td>\n",
       "      <td>138.502559</td>\n",
       "    </tr>\n",
       "    <tr>\n",
       "      <th>std</th>\n",
       "      <td>147.945936</td>\n",
       "      <td>451.007245</td>\n",
       "      <td>608.153567</td>\n",
       "      <td>1.868719</td>\n",
       "      <td>1.633955</td>\n",
       "      <td>1.529273</td>\n",
       "    </tr>\n",
       "    <tr>\n",
       "      <th>min</th>\n",
       "      <td>1.000000</td>\n",
       "      <td>104.000000</td>\n",
       "      <td>872.000000</td>\n",
       "      <td>1.000000</td>\n",
       "      <td>-38.002525</td>\n",
       "      <td>129.172118</td>\n",
       "    </tr>\n",
       "    <tr>\n",
       "      <th>25%</th>\n",
       "      <td>128.750000</td>\n",
       "      <td>388.500000</td>\n",
       "      <td>5085.750000</td>\n",
       "      <td>3.000000</td>\n",
       "      <td>-35.029207</td>\n",
       "      <td>138.505453</td>\n",
       "    </tr>\n",
       "    <tr>\n",
       "      <th>50%</th>\n",
       "      <td>256.500000</td>\n",
       "      <td>754.500000</td>\n",
       "      <td>5163.000000</td>\n",
       "      <td>5.000000</td>\n",
       "      <td>-34.856216</td>\n",
       "      <td>138.621977</td>\n",
       "    </tr>\n",
       "    <tr>\n",
       "      <th>75%</th>\n",
       "      <td>384.250000</td>\n",
       "      <td>1017.250000</td>\n",
       "      <td>5351.000000</td>\n",
       "      <td>6.000000</td>\n",
       "      <td>-34.440930</td>\n",
       "      <td>138.768058</td>\n",
       "    </tr>\n",
       "    <tr>\n",
       "      <th>max</th>\n",
       "      <td>512.000000</td>\n",
       "      <td>1919.000000</td>\n",
       "      <td>5734.000000</td>\n",
       "      <td>7.000000</td>\n",
       "      <td>-26.151709</td>\n",
       "      <td>140.956465</td>\n",
       "    </tr>\n",
       "  </tbody>\n",
       "</table>\n",
       "</div>"
      ],
      "text/plain": [
       "               ID  School_Number    Post_Code  \\\n",
       "count  512.000000     512.000000   512.000000   \n",
       "mean   256.500000     771.277344  5167.619141   \n",
       "std    147.945936     451.007245   608.153567   \n",
       "min      1.000000     104.000000   872.000000   \n",
       "25%    128.750000     388.500000  5085.750000   \n",
       "50%    256.500000     754.500000  5163.000000   \n",
       "75%    384.250000    1017.250000  5351.000000   \n",
       "max    512.000000    1919.000000  5734.000000   \n",
       "\n",
       "       Index_of_Educational_Disadvantage    Latitude   Longitude  \n",
       "count                         512.000000  512.000000  512.000000  \n",
       "mean                            4.304688  -34.592120  138.502559  \n",
       "std                             1.868719    1.633955    1.529273  \n",
       "min                             1.000000  -38.002525  129.172118  \n",
       "25%                             3.000000  -35.029207  138.505453  \n",
       "50%                             5.000000  -34.856216  138.621977  \n",
       "75%                             6.000000  -34.440930  138.768058  \n",
       "max                             7.000000  -26.151709  140.956465  "
      ]
     },
     "execution_count": 74,
     "metadata": {},
     "output_type": "execute_result"
    }
   ],
   "source": [
    "#-----example 4-----  \n",
    "raw_data.describe() # only operates on columns containing integers or floats  "
   ]
  },
  {
   "cell_type": "markdown",
   "metadata": {},
   "source": [
    "# Subsetting DataFrame rows and columns   \n",
    "\n",
    "## Subsetting DataFrame rows  \n",
    "\n",
    "As [previously covered](https://github.com/erikaduan/Introduction-to-Python/blob/master/03_notebooks/03_Python-data-structures.ipynb), subsetting DataFrame rows can be approached in two different ways:   \n",
    "\n",
    "+ Using `loc` i.e. via the explicit labels-based index.  \n",
    "+ Using `iloc` i.e. via the implicit 0-based index.  "
   ]
  },
  {
   "cell_type": "code",
   "execution_count": 75,
   "metadata": {
    "scrolled": true
   },
   "outputs": [
    {
     "data": {
      "text/html": [
       "<div>\n",
       "<style scoped>\n",
       "    .dataframe tbody tr th:only-of-type {\n",
       "        vertical-align: middle;\n",
       "    }\n",
       "\n",
       "    .dataframe tbody tr th {\n",
       "        vertical-align: top;\n",
       "    }\n",
       "\n",
       "    .dataframe thead th {\n",
       "        text-align: right;\n",
       "    }\n",
       "</style>\n",
       "<table border=\"1\" class=\"dataframe\">\n",
       "  <thead>\n",
       "    <tr style=\"text-align: right;\">\n",
       "      <th></th>\n",
       "      <th>ID</th>\n",
       "      <th>School_Number</th>\n",
       "      <th>School_Name</th>\n",
       "      <th>Suburb</th>\n",
       "      <th>Post_Code</th>\n",
       "      <th>Type_of_Schooling</th>\n",
       "      <th>Index_of_Educational_Disadvantage</th>\n",
       "      <th>Latitude</th>\n",
       "      <th>Longitude</th>\n",
       "    </tr>\n",
       "  </thead>\n",
       "  <tbody>\n",
       "    <tr>\n",
       "      <th>0</th>\n",
       "      <td>1</td>\n",
       "      <td>536</td>\n",
       "      <td>Aberfoyle Hub R-7 School</td>\n",
       "      <td>Aberfoyle Park</td>\n",
       "      <td>5159</td>\n",
       "      <td>Primary Education</td>\n",
       "      <td>6</td>\n",
       "      <td>-35.078139</td>\n",
       "      <td>138.595142</td>\n",
       "    </tr>\n",
       "    <tr>\n",
       "      <th>1</th>\n",
       "      <td>2</td>\n",
       "      <td>1673</td>\n",
       "      <td>Aberfoyle Park High School</td>\n",
       "      <td>Aberfoyle Park</td>\n",
       "      <td>5159</td>\n",
       "      <td>Secondary Education</td>\n",
       "      <td>6</td>\n",
       "      <td>-35.074007</td>\n",
       "      <td>138.594181</td>\n",
       "    </tr>\n",
       "    <tr>\n",
       "      <th>2</th>\n",
       "      <td>3</td>\n",
       "      <td>1919</td>\n",
       "      <td>Adelaide Botanic High School</td>\n",
       "      <td>Adelaide</td>\n",
       "      <td>5000</td>\n",
       "      <td>Secondary Education</td>\n",
       "      <td>7</td>\n",
       "      <td>-34.917055</td>\n",
       "      <td>138.606743</td>\n",
       "    </tr>\n",
       "  </tbody>\n",
       "</table>\n",
       "</div>"
      ],
      "text/plain": [
       "   ID  School_Number                   School_Name          Suburb  Post_Code  \\\n",
       "0   1            536      Aberfoyle Hub R-7 School  Aberfoyle Park       5159   \n",
       "1   2           1673    Aberfoyle Park High School  Aberfoyle Park       5159   \n",
       "2   3           1919  Adelaide Botanic High School        Adelaide       5000   \n",
       "\n",
       "     Type_of_Schooling  Index_of_Educational_Disadvantage   Latitude  \\\n",
       "0    Primary Education                                  6 -35.078139   \n",
       "1  Secondary Education                                  6 -35.074007   \n",
       "2  Secondary Education                                  7 -34.917055   \n",
       "\n",
       "    Longitude  \n",
       "0  138.595142  \n",
       "1  138.594181  \n",
       "2  138.606743  "
      ]
     },
     "execution_count": 75,
     "metadata": {},
     "output_type": "execute_result"
    }
   ],
   "source": [
    "#-----example 1----- \n",
    "raw_data.iloc[0:2+1] # subset the first 3 rows    "
   ]
  },
  {
   "cell_type": "code",
   "execution_count": 76,
   "metadata": {
    "scrolled": true
   },
   "outputs": [
    {
     "data": {
      "text/plain": [
       "0     536\n",
       "1    1673\n",
       "2    1919\n",
       "Name: School_Number, dtype: int64"
      ]
     },
     "execution_count": 76,
     "metadata": {},
     "output_type": "execute_result"
    }
   ],
   "source": [
    "#-----example 2-----  \n",
    "raw_data.iloc[0:2+1, 1] # returns the first 3 rows from the second column    "
   ]
  },
  {
   "cell_type": "code",
   "execution_count": 77,
   "metadata": {},
   "outputs": [
    {
     "data": {
      "text/plain": [
       "0     536\n",
       "1    1673\n",
       "2    1919\n",
       "Name: School_Number, dtype: int64"
      ]
     },
     "execution_count": 77,
     "metadata": {},
     "output_type": "execute_result"
    }
   ],
   "source": [
    "#-----example 3-----  \n",
    "raw_data.loc[0:2, 'School_Number'] # returns the first 3 rows from column 'School_Number'\n",
    "\n",
    "# df.loc does not abide by the 0-index for subsetting rows  \n",
    "# raw_data.loc[\"subject\"] produces an error whereas raw_data.loc[:, \"subject\"] returns a subset "
   ]
  },
  {
   "cell_type": "markdown",
   "metadata": {},
   "source": [
    "## Filtering by DataFrame rows   \n",
    "\n",
    "We can filter by DataFrames rows in different ways:  \n",
    "+ Based on variable values i.e. `df[variable_1 == 'A']`   \n",
    "+ Based on a negated condition i.e. `df[variable_1 != 'A']` or `df[~ condition_A]`     \n",
    "+ Using `query()` to filter by a single or multiple conditions i.e. `query('variable_1 == 'A' & year == 2002')`      \n",
    "+ Filtering strings using `.str()` string methods.  \n",
    "\n",
    "A list of Pandas DataFrame manipulation functions can be found [here](https://pandas.pydata.org/Pandas_Cheat_Sheet.pdf).    "
   ]
  },
  {
   "cell_type": "code",
   "execution_count": 78,
   "metadata": {
    "scrolled": false
   },
   "outputs": [
    {
     "data": {
      "text/html": [
       "<div>\n",
       "<style scoped>\n",
       "    .dataframe tbody tr th:only-of-type {\n",
       "        vertical-align: middle;\n",
       "    }\n",
       "\n",
       "    .dataframe tbody tr th {\n",
       "        vertical-align: top;\n",
       "    }\n",
       "\n",
       "    .dataframe thead th {\n",
       "        text-align: right;\n",
       "    }\n",
       "</style>\n",
       "<table border=\"1\" class=\"dataframe\">\n",
       "  <thead>\n",
       "    <tr style=\"text-align: right;\">\n",
       "      <th></th>\n",
       "      <th>ID</th>\n",
       "      <th>School_Number</th>\n",
       "      <th>School_Name</th>\n",
       "      <th>Suburb</th>\n",
       "      <th>Post_Code</th>\n",
       "      <th>Type_of_Schooling</th>\n",
       "      <th>Index_of_Educational_Disadvantage</th>\n",
       "      <th>Latitude</th>\n",
       "      <th>Longitude</th>\n",
       "    </tr>\n",
       "  </thead>\n",
       "  <tbody>\n",
       "    <tr>\n",
       "      <th>0</th>\n",
       "      <td>1</td>\n",
       "      <td>536</td>\n",
       "      <td>Aberfoyle Hub R-7 School</td>\n",
       "      <td>Aberfoyle Park</td>\n",
       "      <td>5159</td>\n",
       "      <td>Primary Education</td>\n",
       "      <td>6</td>\n",
       "      <td>-35.078139</td>\n",
       "      <td>138.595142</td>\n",
       "    </tr>\n",
       "    <tr>\n",
       "      <th>1</th>\n",
       "      <td>2</td>\n",
       "      <td>1673</td>\n",
       "      <td>Aberfoyle Park High School</td>\n",
       "      <td>Aberfoyle Park</td>\n",
       "      <td>5159</td>\n",
       "      <td>Secondary Education</td>\n",
       "      <td>6</td>\n",
       "      <td>-35.074007</td>\n",
       "      <td>138.594181</td>\n",
       "    </tr>\n",
       "    <tr>\n",
       "      <th>2</th>\n",
       "      <td>3</td>\n",
       "      <td>1919</td>\n",
       "      <td>Adelaide Botanic High School</td>\n",
       "      <td>Adelaide</td>\n",
       "      <td>5000</td>\n",
       "      <td>Secondary Education</td>\n",
       "      <td>7</td>\n",
       "      <td>-34.917055</td>\n",
       "      <td>138.606743</td>\n",
       "    </tr>\n",
       "  </tbody>\n",
       "</table>\n",
       "</div>"
      ],
      "text/plain": [
       "   ID  School_Number                   School_Name          Suburb  Post_Code  \\\n",
       "0   1            536      Aberfoyle Hub R-7 School  Aberfoyle Park       5159   \n",
       "1   2           1673    Aberfoyle Park High School  Aberfoyle Park       5159   \n",
       "2   3           1919  Adelaide Botanic High School        Adelaide       5000   \n",
       "\n",
       "     Type_of_Schooling  Index_of_Educational_Disadvantage   Latitude  \\\n",
       "0    Primary Education                                  6 -35.078139   \n",
       "1  Secondary Education                                  6 -35.074007   \n",
       "2  Secondary Education                                  7 -34.917055   \n",
       "\n",
       "    Longitude  \n",
       "0  138.595142  \n",
       "1  138.594181  \n",
       "2  138.606743  "
      ]
     },
     "execution_count": 78,
     "metadata": {},
     "output_type": "execute_result"
    }
   ],
   "source": [
    "#-----example 1----- \n",
    "raw_data[raw_data['ID'] <= 3] # filtering by rows  \n",
    "\n",
    "# raw_data[raw_data.ID <= 3] returns the same output as raw_data[raw_data['ID'] <= 3]  "
   ]
  },
  {
   "cell_type": "code",
   "execution_count": 79,
   "metadata": {
    "scrolled": false
   },
   "outputs": [
    {
     "data": {
      "text/html": [
       "<div>\n",
       "<style scoped>\n",
       "    .dataframe tbody tr th:only-of-type {\n",
       "        vertical-align: middle;\n",
       "    }\n",
       "\n",
       "    .dataframe tbody tr th {\n",
       "        vertical-align: top;\n",
       "    }\n",
       "\n",
       "    .dataframe thead th {\n",
       "        text-align: right;\n",
       "    }\n",
       "</style>\n",
       "<table border=\"1\" class=\"dataframe\">\n",
       "  <thead>\n",
       "    <tr style=\"text-align: right;\">\n",
       "      <th></th>\n",
       "      <th>ID</th>\n",
       "      <th>School_Number</th>\n",
       "      <th>School_Name</th>\n",
       "      <th>Suburb</th>\n",
       "      <th>Post_Code</th>\n",
       "      <th>Type_of_Schooling</th>\n",
       "      <th>Index_of_Educational_Disadvantage</th>\n",
       "      <th>Latitude</th>\n",
       "      <th>Longitude</th>\n",
       "    </tr>\n",
       "  </thead>\n",
       "  <tbody>\n",
       "    <tr>\n",
       "      <th>2</th>\n",
       "      <td>3</td>\n",
       "      <td>1919</td>\n",
       "      <td>Adelaide Botanic High School</td>\n",
       "      <td>Adelaide</td>\n",
       "      <td>5000</td>\n",
       "      <td>Secondary Education</td>\n",
       "      <td>7</td>\n",
       "      <td>-34.917055</td>\n",
       "      <td>138.606743</td>\n",
       "    </tr>\n",
       "  </tbody>\n",
       "</table>\n",
       "</div>"
      ],
      "text/plain": [
       "   ID  School_Number                   School_Name    Suburb  Post_Code  \\\n",
       "2   3           1919  Adelaide Botanic High School  Adelaide       5000   \n",
       "\n",
       "     Type_of_Schooling  Index_of_Educational_Disadvantage   Latitude  \\\n",
       "2  Secondary Education                                  7 -34.917055   \n",
       "\n",
       "    Longitude  \n",
       "2  138.606743  "
      ]
     },
     "execution_count": 79,
     "metadata": {},
     "output_type": "execute_result"
    }
   ],
   "source": [
    "#-----example 2-----\n",
    "raw_data[(raw_data.ID <= 3) & (raw_data.Index_of_Educational_Disadvantage != 6)]"
   ]
  },
  {
   "cell_type": "code",
   "execution_count": 80,
   "metadata": {
    "scrolled": true
   },
   "outputs": [
    {
     "data": {
      "text/html": [
       "<div>\n",
       "<style scoped>\n",
       "    .dataframe tbody tr th:only-of-type {\n",
       "        vertical-align: middle;\n",
       "    }\n",
       "\n",
       "    .dataframe tbody tr th {\n",
       "        vertical-align: top;\n",
       "    }\n",
       "\n",
       "    .dataframe thead th {\n",
       "        text-align: right;\n",
       "    }\n",
       "</style>\n",
       "<table border=\"1\" class=\"dataframe\">\n",
       "  <thead>\n",
       "    <tr style=\"text-align: right;\">\n",
       "      <th></th>\n",
       "      <th>ID</th>\n",
       "      <th>School_Number</th>\n",
       "      <th>School_Name</th>\n",
       "      <th>Suburb</th>\n",
       "      <th>Post_Code</th>\n",
       "      <th>Type_of_Schooling</th>\n",
       "      <th>Index_of_Educational_Disadvantage</th>\n",
       "      <th>Latitude</th>\n",
       "      <th>Longitude</th>\n",
       "    </tr>\n",
       "  </thead>\n",
       "  <tbody>\n",
       "    <tr>\n",
       "      <th>38</th>\n",
       "      <td>39</td>\n",
       "      <td>548</td>\n",
       "      <td>Black Forest Primary School</td>\n",
       "      <td>Black Forest</td>\n",
       "      <td>5035</td>\n",
       "      <td>Primary Education</td>\n",
       "      <td>6</td>\n",
       "      <td>-34.960682</td>\n",
       "      <td>138.573308</td>\n",
       "    </tr>\n",
       "    <tr>\n",
       "      <th>448</th>\n",
       "      <td>449</td>\n",
       "      <td>844</td>\n",
       "      <td>The Grove Education Centre</td>\n",
       "      <td>Woodville</td>\n",
       "      <td>5011</td>\n",
       "      <td>Special Education</td>\n",
       "      <td>4</td>\n",
       "      <td>-34.873425</td>\n",
       "      <td>138.544354</td>\n",
       "    </tr>\n",
       "  </tbody>\n",
       "</table>\n",
       "</div>"
      ],
      "text/plain": [
       "      ID  School_Number                  School_Name        Suburb  Post_Code  \\\n",
       "38    39            548  Black Forest Primary School  Black Forest       5035   \n",
       "448  449            844   The Grove Education Centre     Woodville       5011   \n",
       "\n",
       "     Type_of_Schooling  Index_of_Educational_Disadvantage   Latitude  \\\n",
       "38   Primary Education                                  6 -34.960682   \n",
       "448  Special Education                                  4 -34.873425   \n",
       "\n",
       "      Longitude  \n",
       "38   138.573308  \n",
       "448  138.544354  "
      ]
     },
     "execution_count": 80,
     "metadata": {},
     "output_type": "execute_result"
    }
   ],
   "source": [
    "#-----example 3-----  \n",
    "suburbs_list = ['Black Forest', 'Woodville']\n",
    "\n",
    "raw_data[raw_data['Suburb'].isin(suburbs_list)]\n",
    "\n",
    "# raw_data['Suburb'].isin(suburbs) returns a DataFrame of booleans "
   ]
  },
  {
   "cell_type": "markdown",
   "metadata": {},
   "source": [
    "**Note:** You can chain functions by enclosing code inside `()`.  "
   ]
  },
  {
   "cell_type": "code",
   "execution_count": 81,
   "metadata": {},
   "outputs": [
    {
     "data": {
      "text/html": [
       "<div>\n",
       "<style scoped>\n",
       "    .dataframe tbody tr th:only-of-type {\n",
       "        vertical-align: middle;\n",
       "    }\n",
       "\n",
       "    .dataframe tbody tr th {\n",
       "        vertical-align: top;\n",
       "    }\n",
       "\n",
       "    .dataframe thead th {\n",
       "        text-align: right;\n",
       "    }\n",
       "</style>\n",
       "<table border=\"1\" class=\"dataframe\">\n",
       "  <thead>\n",
       "    <tr style=\"text-align: right;\">\n",
       "      <th></th>\n",
       "      <th>ID</th>\n",
       "      <th>School_Number</th>\n",
       "      <th>School_Name</th>\n",
       "      <th>Suburb</th>\n",
       "      <th>Post_Code</th>\n",
       "      <th>Type_of_Schooling</th>\n",
       "      <th>Index_of_Educational_Disadvantage</th>\n",
       "      <th>Latitude</th>\n",
       "      <th>Longitude</th>\n",
       "    </tr>\n",
       "  </thead>\n",
       "  <tbody>\n",
       "    <tr>\n",
       "      <th>0</th>\n",
       "      <td>1</td>\n",
       "      <td>536</td>\n",
       "      <td>Aberfoyle Hub R-7 School</td>\n",
       "      <td>Aberfoyle Park</td>\n",
       "      <td>5159</td>\n",
       "      <td>Primary Education</td>\n",
       "      <td>6</td>\n",
       "      <td>-35.078139</td>\n",
       "      <td>138.595142</td>\n",
       "    </tr>\n",
       "    <tr>\n",
       "      <th>1</th>\n",
       "      <td>2</td>\n",
       "      <td>1673</td>\n",
       "      <td>Aberfoyle Park High School</td>\n",
       "      <td>Aberfoyle Park</td>\n",
       "      <td>5159</td>\n",
       "      <td>Secondary Education</td>\n",
       "      <td>6</td>\n",
       "      <td>-35.074007</td>\n",
       "      <td>138.594181</td>\n",
       "    </tr>\n",
       "    <tr>\n",
       "      <th>2</th>\n",
       "      <td>3</td>\n",
       "      <td>1919</td>\n",
       "      <td>Adelaide Botanic High School</td>\n",
       "      <td>Adelaide</td>\n",
       "      <td>5000</td>\n",
       "      <td>Secondary Education</td>\n",
       "      <td>7</td>\n",
       "      <td>-34.917055</td>\n",
       "      <td>138.606743</td>\n",
       "    </tr>\n",
       "  </tbody>\n",
       "</table>\n",
       "</div>"
      ],
      "text/plain": [
       "   ID  School_Number                   School_Name          Suburb  Post_Code  \\\n",
       "0   1            536      Aberfoyle Hub R-7 School  Aberfoyle Park       5159   \n",
       "1   2           1673    Aberfoyle Park High School  Aberfoyle Park       5159   \n",
       "2   3           1919  Adelaide Botanic High School        Adelaide       5000   \n",
       "\n",
       "     Type_of_Schooling  Index_of_Educational_Disadvantage   Latitude  \\\n",
       "0    Primary Education                                  6 -35.078139   \n",
       "1  Secondary Education                                  6 -35.074007   \n",
       "2  Secondary Education                                  7 -34.917055   \n",
       "\n",
       "    Longitude  \n",
       "0  138.595142  \n",
       "1  138.594181  \n",
       "2  138.606743  "
      ]
     },
     "execution_count": 81,
     "metadata": {},
     "output_type": "execute_result"
    }
   ],
   "source": [
    "#-----example 4-----  \n",
    "(raw_data[~ raw_data['Suburb'].isin(suburbs_list)]\n",
    ".head(3)) \n",
    "\n",
    "# df[~ condition_A] returns the negation of condition_A"
   ]
  },
  {
   "cell_type": "code",
   "execution_count": 82,
   "metadata": {
    "scrolled": true
   },
   "outputs": [
    {
     "data": {
      "text/html": [
       "<div>\n",
       "<style scoped>\n",
       "    .dataframe tbody tr th:only-of-type {\n",
       "        vertical-align: middle;\n",
       "    }\n",
       "\n",
       "    .dataframe tbody tr th {\n",
       "        vertical-align: top;\n",
       "    }\n",
       "\n",
       "    .dataframe thead th {\n",
       "        text-align: right;\n",
       "    }\n",
       "</style>\n",
       "<table border=\"1\" class=\"dataframe\">\n",
       "  <thead>\n",
       "    <tr style=\"text-align: right;\">\n",
       "      <th></th>\n",
       "      <th>ID</th>\n",
       "      <th>School_Number</th>\n",
       "      <th>School_Name</th>\n",
       "      <th>Suburb</th>\n",
       "      <th>Post_Code</th>\n",
       "      <th>Type_of_Schooling</th>\n",
       "      <th>Index_of_Educational_Disadvantage</th>\n",
       "      <th>Latitude</th>\n",
       "      <th>Longitude</th>\n",
       "    </tr>\n",
       "  </thead>\n",
       "  <tbody>\n",
       "    <tr>\n",
       "      <th>38</th>\n",
       "      <td>39</td>\n",
       "      <td>548</td>\n",
       "      <td>Black Forest Primary School</td>\n",
       "      <td>Black Forest</td>\n",
       "      <td>5035</td>\n",
       "      <td>Primary Education</td>\n",
       "      <td>6</td>\n",
       "      <td>-34.960682</td>\n",
       "      <td>138.573308</td>\n",
       "    </tr>\n",
       "    <tr>\n",
       "      <th>448</th>\n",
       "      <td>449</td>\n",
       "      <td>844</td>\n",
       "      <td>The Grove Education Centre</td>\n",
       "      <td>Woodville</td>\n",
       "      <td>5011</td>\n",
       "      <td>Special Education</td>\n",
       "      <td>4</td>\n",
       "      <td>-34.873425</td>\n",
       "      <td>138.544354</td>\n",
       "    </tr>\n",
       "  </tbody>\n",
       "</table>\n",
       "</div>"
      ],
      "text/plain": [
       "      ID  School_Number                  School_Name        Suburb  Post_Code  \\\n",
       "38    39            548  Black Forest Primary School  Black Forest       5035   \n",
       "448  449            844   The Grove Education Centre     Woodville       5011   \n",
       "\n",
       "     Type_of_Schooling  Index_of_Educational_Disadvantage   Latitude  \\\n",
       "38   Primary Education                                  6 -34.960682   \n",
       "448  Special Education                                  4 -34.873425   \n",
       "\n",
       "      Longitude  \n",
       "38   138.573308  \n",
       "448  138.544354  "
      ]
     },
     "execution_count": 82,
     "metadata": {},
     "output_type": "execute_result"
    }
   ],
   "source": [
    "#-----example 5----- \n",
    "(raw_data.query('Suburb in @suburbs_list')\n",
    "         .sort_values(by = ['Suburb', 'School_Name']))\n",
    "\n",
    "# you can also use pd.query to filter conditions\n",
    "# this enables us to chain Python functions to improve code readability"
   ]
  },
  {
   "cell_type": "code",
   "execution_count": 83,
   "metadata": {},
   "outputs": [
    {
     "data": {
      "text/html": [
       "<div>\n",
       "<style scoped>\n",
       "    .dataframe tbody tr th:only-of-type {\n",
       "        vertical-align: middle;\n",
       "    }\n",
       "\n",
       "    .dataframe tbody tr th {\n",
       "        vertical-align: top;\n",
       "    }\n",
       "\n",
       "    .dataframe thead th {\n",
       "        text-align: right;\n",
       "    }\n",
       "</style>\n",
       "<table border=\"1\" class=\"dataframe\">\n",
       "  <thead>\n",
       "    <tr style=\"text-align: right;\">\n",
       "      <th></th>\n",
       "      <th>ID</th>\n",
       "      <th>School_Number</th>\n",
       "      <th>School_Name</th>\n",
       "      <th>Suburb</th>\n",
       "      <th>Post_Code</th>\n",
       "      <th>Type_of_Schooling</th>\n",
       "      <th>Index_of_Educational_Disadvantage</th>\n",
       "      <th>Latitude</th>\n",
       "      <th>Longitude</th>\n",
       "    </tr>\n",
       "  </thead>\n",
       "  <tbody>\n",
       "    <tr>\n",
       "      <th>0</th>\n",
       "      <td>1</td>\n",
       "      <td>536</td>\n",
       "      <td>Aberfoyle Hub R-7 School</td>\n",
       "      <td>Aberfoyle Park</td>\n",
       "      <td>5159</td>\n",
       "      <td>Primary Education</td>\n",
       "      <td>6</td>\n",
       "      <td>-35.078139</td>\n",
       "      <td>138.595142</td>\n",
       "    </tr>\n",
       "    <tr>\n",
       "      <th>1</th>\n",
       "      <td>2</td>\n",
       "      <td>1673</td>\n",
       "      <td>Aberfoyle Park High School</td>\n",
       "      <td>Aberfoyle Park</td>\n",
       "      <td>5159</td>\n",
       "      <td>Secondary Education</td>\n",
       "      <td>6</td>\n",
       "      <td>-35.074007</td>\n",
       "      <td>138.594181</td>\n",
       "    </tr>\n",
       "    <tr>\n",
       "      <th>2</th>\n",
       "      <td>3</td>\n",
       "      <td>1919</td>\n",
       "      <td>Adelaide Botanic High School</td>\n",
       "      <td>Adelaide</td>\n",
       "      <td>5000</td>\n",
       "      <td>Secondary Education</td>\n",
       "      <td>7</td>\n",
       "      <td>-34.917055</td>\n",
       "      <td>138.606743</td>\n",
       "    </tr>\n",
       "  </tbody>\n",
       "</table>\n",
       "</div>"
      ],
      "text/plain": [
       "   ID  School_Number                   School_Name          Suburb  Post_Code  \\\n",
       "0   1            536      Aberfoyle Hub R-7 School  Aberfoyle Park       5159   \n",
       "1   2           1673    Aberfoyle Park High School  Aberfoyle Park       5159   \n",
       "2   3           1919  Adelaide Botanic High School        Adelaide       5000   \n",
       "\n",
       "     Type_of_Schooling  Index_of_Educational_Disadvantage   Latitude  \\\n",
       "0    Primary Education                                  6 -35.078139   \n",
       "1  Secondary Education                                  6 -35.074007   \n",
       "2  Secondary Education                                  7 -34.917055   \n",
       "\n",
       "    Longitude  \n",
       "0  138.595142  \n",
       "1  138.594181  \n",
       "2  138.606743  "
      ]
     },
     "execution_count": 83,
     "metadata": {},
     "output_type": "execute_result"
    }
   ],
   "source": [
    "#-----example 6-----\n",
    "(raw_data[raw_data['School_Name'].str.startswith('A')]\n",
    " .head(3)\n",
    ")"
   ]
  },
  {
   "cell_type": "code",
   "execution_count": 84,
   "metadata": {
    "scrolled": true
   },
   "outputs": [
    {
     "data": {
      "text/html": [
       "<div>\n",
       "<style scoped>\n",
       "    .dataframe tbody tr th:only-of-type {\n",
       "        vertical-align: middle;\n",
       "    }\n",
       "\n",
       "    .dataframe tbody tr th {\n",
       "        vertical-align: top;\n",
       "    }\n",
       "\n",
       "    .dataframe thead th {\n",
       "        text-align: right;\n",
       "    }\n",
       "</style>\n",
       "<table border=\"1\" class=\"dataframe\">\n",
       "  <thead>\n",
       "    <tr style=\"text-align: right;\">\n",
       "      <th></th>\n",
       "      <th>ID</th>\n",
       "      <th>School_Number</th>\n",
       "      <th>School_Name</th>\n",
       "      <th>Suburb</th>\n",
       "      <th>Post_Code</th>\n",
       "      <th>Type_of_Schooling</th>\n",
       "      <th>Index_of_Educational_Disadvantage</th>\n",
       "      <th>Latitude</th>\n",
       "      <th>Longitude</th>\n",
       "    </tr>\n",
       "  </thead>\n",
       "  <tbody>\n",
       "    <tr>\n",
       "      <th>1</th>\n",
       "      <td>2</td>\n",
       "      <td>1673</td>\n",
       "      <td>Aberfoyle Park High School</td>\n",
       "      <td>Aberfoyle Park</td>\n",
       "      <td>5159</td>\n",
       "      <td>Secondary Education</td>\n",
       "      <td>6</td>\n",
       "      <td>-35.074007</td>\n",
       "      <td>138.594181</td>\n",
       "    </tr>\n",
       "    <tr>\n",
       "      <th>2</th>\n",
       "      <td>3</td>\n",
       "      <td>1919</td>\n",
       "      <td>Adelaide Botanic High School</td>\n",
       "      <td>Adelaide</td>\n",
       "      <td>5000</td>\n",
       "      <td>Secondary Education</td>\n",
       "      <td>7</td>\n",
       "      <td>-34.917055</td>\n",
       "      <td>138.606743</td>\n",
       "    </tr>\n",
       "    <tr>\n",
       "      <th>4</th>\n",
       "      <td>5</td>\n",
       "      <td>768</td>\n",
       "      <td>Adelaide High School</td>\n",
       "      <td>Adelaide</td>\n",
       "      <td>5000</td>\n",
       "      <td>Secondary Education</td>\n",
       "      <td>5</td>\n",
       "      <td>-34.925733</td>\n",
       "      <td>138.586678</td>\n",
       "    </tr>\n",
       "  </tbody>\n",
       "</table>\n",
       "</div>"
      ],
      "text/plain": [
       "   ID  School_Number                   School_Name          Suburb  Post_Code  \\\n",
       "1   2           1673    Aberfoyle Park High School  Aberfoyle Park       5159   \n",
       "2   3           1919  Adelaide Botanic High School        Adelaide       5000   \n",
       "4   5            768          Adelaide High School        Adelaide       5000   \n",
       "\n",
       "     Type_of_Schooling  Index_of_Educational_Disadvantage   Latitude  \\\n",
       "1  Secondary Education                                  6 -35.074007   \n",
       "2  Secondary Education                                  7 -34.917055   \n",
       "4  Secondary Education                                  5 -34.925733   \n",
       "\n",
       "    Longitude  \n",
       "1  138.594181  \n",
       "2  138.606743  \n",
       "4  138.586678  "
      ]
     },
     "execution_count": 84,
     "metadata": {},
     "output_type": "execute_result"
    }
   ],
   "source": [
    "#-----example 7-----  \n",
    "(raw_data[raw_data['School_Name'].str.contains('High')]\n",
    " .head(3))"
   ]
  },
  {
   "cell_type": "code",
   "execution_count": 85,
   "metadata": {},
   "outputs": [
    {
     "data": {
      "text/html": [
       "<div>\n",
       "<style scoped>\n",
       "    .dataframe tbody tr th:only-of-type {\n",
       "        vertical-align: middle;\n",
       "    }\n",
       "\n",
       "    .dataframe tbody tr th {\n",
       "        vertical-align: top;\n",
       "    }\n",
       "\n",
       "    .dataframe thead th {\n",
       "        text-align: right;\n",
       "    }\n",
       "</style>\n",
       "<table border=\"1\" class=\"dataframe\">\n",
       "  <thead>\n",
       "    <tr style=\"text-align: right;\">\n",
       "      <th></th>\n",
       "      <th>ID</th>\n",
       "      <th>School_Number</th>\n",
       "      <th>School_Name</th>\n",
       "      <th>Suburb</th>\n",
       "      <th>Post_Code</th>\n",
       "      <th>Type_of_Schooling</th>\n",
       "      <th>Index_of_Educational_Disadvantage</th>\n",
       "      <th>Latitude</th>\n",
       "      <th>Longitude</th>\n",
       "    </tr>\n",
       "  </thead>\n",
       "  <tbody>\n",
       "    <tr>\n",
       "      <th>1</th>\n",
       "      <td>2</td>\n",
       "      <td>1673</td>\n",
       "      <td>Aberfoyle Park High School</td>\n",
       "      <td>Aberfoyle Park</td>\n",
       "      <td>5159</td>\n",
       "      <td>Secondary Education</td>\n",
       "      <td>6</td>\n",
       "      <td>-35.074007</td>\n",
       "      <td>138.594181</td>\n",
       "    </tr>\n",
       "    <tr>\n",
       "      <th>20</th>\n",
       "      <td>21</td>\n",
       "      <td>340</td>\n",
       "      <td>Ascot Park Primary School</td>\n",
       "      <td>Park Holme</td>\n",
       "      <td>5043</td>\n",
       "      <td>Primary Education</td>\n",
       "      <td>3</td>\n",
       "      <td>-34.990774</td>\n",
       "      <td>138.554376</td>\n",
       "    </tr>\n",
       "    <tr>\n",
       "      <th>23</th>\n",
       "      <td>24</td>\n",
       "      <td>990</td>\n",
       "      <td>Augusta Park Primary School</td>\n",
       "      <td>Port Augusta</td>\n",
       "      <td>5700</td>\n",
       "      <td>Primary Education</td>\n",
       "      <td>1</td>\n",
       "      <td>-32.495595</td>\n",
       "      <td>137.784949</td>\n",
       "    </tr>\n",
       "  </tbody>\n",
       "</table>\n",
       "</div>"
      ],
      "text/plain": [
       "    ID  School_Number                  School_Name          Suburb  Post_Code  \\\n",
       "1    2           1673   Aberfoyle Park High School  Aberfoyle Park       5159   \n",
       "20  21            340    Ascot Park Primary School      Park Holme       5043   \n",
       "23  24            990  Augusta Park Primary School    Port Augusta       5700   \n",
       "\n",
       "      Type_of_Schooling  Index_of_Educational_Disadvantage   Latitude  \\\n",
       "1   Secondary Education                                  6 -35.074007   \n",
       "20    Primary Education                                  3 -34.990774   \n",
       "23    Primary Education                                  1 -32.495595   \n",
       "\n",
       "     Longitude  \n",
       "1   138.594181  \n",
       "20  138.554376  \n",
       "23  137.784949  "
      ]
     },
     "execution_count": 85,
     "metadata": {},
     "output_type": "execute_result"
    }
   ],
   "source": [
    "#-----example 8-----  \n",
    "(raw_data[raw_data['School_Name'].str.contains('.*[P|p]ark.*')]\n",
    " .head(3))\n",
    "\n",
    "# str.contains can also evaluate regex"
   ]
  },
  {
   "cell_type": "markdown",
   "metadata": {},
   "source": [
    "## Selecting DataFrame columns   \n",
    "\n",
    "We can select DataFrame columns in different ways:  \n",
    "+ Based on column names i.e. `df[['variable_1', 'variable_2']]`  \n",
    "+ By filtering column names using regular expressions i.e. `df.filter(regex = regex)`   "
   ]
  },
  {
   "cell_type": "code",
   "execution_count": 86,
   "metadata": {},
   "outputs": [
    {
     "data": {
      "text/html": [
       "<div>\n",
       "<style scoped>\n",
       "    .dataframe tbody tr th:only-of-type {\n",
       "        vertical-align: middle;\n",
       "    }\n",
       "\n",
       "    .dataframe tbody tr th {\n",
       "        vertical-align: top;\n",
       "    }\n",
       "\n",
       "    .dataframe thead th {\n",
       "        text-align: right;\n",
       "    }\n",
       "</style>\n",
       "<table border=\"1\" class=\"dataframe\">\n",
       "  <thead>\n",
       "    <tr style=\"text-align: right;\">\n",
       "      <th></th>\n",
       "      <th>Post_Code</th>\n",
       "      <th>Type_of_Schooling</th>\n",
       "      <th>Index_of_Educational_Disadvantage</th>\n",
       "    </tr>\n",
       "  </thead>\n",
       "  <tbody>\n",
       "    <tr>\n",
       "      <th>0</th>\n",
       "      <td>5159</td>\n",
       "      <td>Primary Education</td>\n",
       "      <td>6</td>\n",
       "    </tr>\n",
       "    <tr>\n",
       "      <th>1</th>\n",
       "      <td>5159</td>\n",
       "      <td>Secondary Education</td>\n",
       "      <td>6</td>\n",
       "    </tr>\n",
       "    <tr>\n",
       "      <th>2</th>\n",
       "      <td>5000</td>\n",
       "      <td>Secondary Education</td>\n",
       "      <td>7</td>\n",
       "    </tr>\n",
       "  </tbody>\n",
       "</table>\n",
       "</div>"
      ],
      "text/plain": [
       "   Post_Code    Type_of_Schooling  Index_of_Educational_Disadvantage\n",
       "0       5159    Primary Education                                  6\n",
       "1       5159  Secondary Education                                  6\n",
       "2       5000  Secondary Education                                  7"
      ]
     },
     "execution_count": 86,
     "metadata": {},
     "output_type": "execute_result"
    }
   ],
   "source": [
    "#-----example 1-----  \n",
    "(raw_data[['Post_Code', 'Type_of_Schooling', 'Index_of_Educational_Disadvantage']]\n",
    ".head(3))"
   ]
  },
  {
   "cell_type": "code",
   "execution_count": 87,
   "metadata": {
    "scrolled": true
   },
   "outputs": [
    {
     "name": "stdout",
     "output_type": "stream",
     "text": [
      "<class 'pandas.core.series.Series'>\n",
      "<class 'pandas.core.series.Series'>\n",
      "<class 'pandas.core.frame.DataFrame'>\n"
     ]
    }
   ],
   "source": [
    "#-----example 2-----\n",
    "print(type(raw_data.Suburb)) \n",
    "print(type(raw_data['Suburb']))  \n",
    "print(type(raw_data[['Suburb']]))\n",
    "\n",
    "# df[['variable_1']] returns a DataFrame but df['variable_1'] or df.variable_1 returns a Series  "
   ]
  },
  {
   "cell_type": "code",
   "execution_count": 88,
   "metadata": {},
   "outputs": [
    {
     "data": {
      "text/html": [
       "<div>\n",
       "<style scoped>\n",
       "    .dataframe tbody tr th:only-of-type {\n",
       "        vertical-align: middle;\n",
       "    }\n",
       "\n",
       "    .dataframe tbody tr th {\n",
       "        vertical-align: top;\n",
       "    }\n",
       "\n",
       "    .dataframe thead th {\n",
       "        text-align: right;\n",
       "    }\n",
       "</style>\n",
       "<table border=\"1\" class=\"dataframe\">\n",
       "  <thead>\n",
       "    <tr style=\"text-align: right;\">\n",
       "      <th></th>\n",
       "      <th>School_Number</th>\n",
       "      <th>School_Name</th>\n",
       "      <th>Type_of_Schooling</th>\n",
       "    </tr>\n",
       "  </thead>\n",
       "  <tbody>\n",
       "    <tr>\n",
       "      <th>0</th>\n",
       "      <td>536</td>\n",
       "      <td>Aberfoyle Hub R-7 School</td>\n",
       "      <td>Primary Education</td>\n",
       "    </tr>\n",
       "    <tr>\n",
       "      <th>1</th>\n",
       "      <td>1673</td>\n",
       "      <td>Aberfoyle Park High School</td>\n",
       "      <td>Secondary Education</td>\n",
       "    </tr>\n",
       "    <tr>\n",
       "      <th>2</th>\n",
       "      <td>1919</td>\n",
       "      <td>Adelaide Botanic High School</td>\n",
       "      <td>Secondary Education</td>\n",
       "    </tr>\n",
       "  </tbody>\n",
       "</table>\n",
       "</div>"
      ],
      "text/plain": [
       "   School_Number                   School_Name    Type_of_Schooling\n",
       "0            536      Aberfoyle Hub R-7 School    Primary Education\n",
       "1           1673    Aberfoyle Park High School  Secondary Education\n",
       "2           1919  Adelaide Botanic High School  Secondary Education"
      ]
     },
     "execution_count": 88,
     "metadata": {},
     "output_type": "execute_result"
    }
   ],
   "source": [
    "#-----example 3-----\n",
    "contains_school = df.filter(regex = '.*(S|s)chool.*')\n",
    "contains_school.head(3)\n",
    "\n",
    "# in Python, filter returns columns via regex matching"
   ]
  },
  {
   "cell_type": "markdown",
   "metadata": {},
   "source": [
    "To rename a column, we can use a dictionary inside the rename function i.e. `df.rename(columns = {'old_name' : 'new_name'})` or by applying string methods on `df.columns`.        "
   ]
  },
  {
   "cell_type": "code",
   "execution_count": 89,
   "metadata": {},
   "outputs": [
    {
     "data": {
      "text/plain": [
       "Index(['ID', 'School_Number', 'School_Name', 'Suburb', 'Post_Code',\n",
       "       'schooling_type', 'edu_disadvantage_index', 'Latitude', 'Longitude'],\n",
       "      dtype='object')"
      ]
     },
     "execution_count": 89,
     "metadata": {},
     "output_type": "execute_result"
    }
   ],
   "source": [
    "#-----example 1-----  \n",
    "raw_data = raw_data.rename(columns = {'Index_of_Educational_Disadvantage' : 'edu_disadvantage_index',\n",
    "                                      'Type_of_Schooling' : 'schooling_type'})  \n",
    "\n",
    "raw_data.columns"
   ]
  },
  {
   "cell_type": "code",
   "execution_count": 90,
   "metadata": {},
   "outputs": [
    {
     "data": {
      "text/plain": [
       "Index(['id', 'school_number', 'school_name', 'suburb', 'post_code',\n",
       "       'schooling_type', 'edu_disadvantage_index', 'latitude', 'longitude'],\n",
       "      dtype='object')"
      ]
     },
     "execution_count": 90,
     "metadata": {},
     "output_type": "execute_result"
    }
   ],
   "source": [
    "#-----example 2-----\n",
    "raw_data.columns = raw_data.columns.str.lower()  \n",
    "\n",
    "raw_data.columns"
   ]
  },
  {
   "cell_type": "markdown",
   "metadata": {},
   "source": [
    "To delete a single or multiple columns, we can use the drop function i.e. `df.drop(['variable_1', 'variable_2'])`.  "
   ]
  },
  {
   "cell_type": "code",
   "execution_count": 91,
   "metadata": {},
   "outputs": [
    {
     "data": {
      "text/plain": [
       "Index(['school_number', 'school_name', 'suburb', 'post_code', 'schooling_type',\n",
       "       'edu_disadvantage_index', 'latitude', 'longitude'],\n",
       "      dtype='object')"
      ]
     },
     "execution_count": 91,
     "metadata": {},
     "output_type": "execute_result"
    }
   ],
   "source": [
    "#-----example 3-----  \n",
    "raw_data = raw_data.drop(columns = ['id'])\n",
    "\n",
    "raw_data.columns"
   ]
  },
  {
   "cell_type": "markdown",
   "metadata": {},
   "source": [
    "## Transforming data    \n",
    "\n",
    "Data transformations are usually required to create new variables of interest. We can transform columns into new columns in different ways:  \n",
    "\n",
    "+ Be applying a pre-existing function on a single or multiple columns   \n",
    "+ By applying a function along an axis of the DataFrame using `apply()` i.e. `df.apply(lambda x: x.method if condition == 1 else x)`     \n",
    "+ By applying a function elementwise across a DataFrame i.e. `applymap()`. \n",
    "    + Note that `applymap()` has been optimized may work much faster than `apply()` in certain cases.   \n",
    "+ By substituting individual values in a Series with another value i.e. `map()`  \n",
    "    + Note that `map()` accepts a dictionary, Series or function. Values that are not found in the dict are converted to NaN.  \n",
    "\n",
    "**Note:** A [lambda function](https://realpython.com/python-lambda/) is a function that does not necessarily need to be assigned a name.  "
   ]
  },
  {
   "cell_type": "code",
   "execution_count": 92,
   "metadata": {},
   "outputs": [
    {
     "data": {
      "text/html": [
       "<div>\n",
       "<style scoped>\n",
       "    .dataframe tbody tr th:only-of-type {\n",
       "        vertical-align: middle;\n",
       "    }\n",
       "\n",
       "    .dataframe tbody tr th {\n",
       "        vertical-align: top;\n",
       "    }\n",
       "\n",
       "    .dataframe thead th {\n",
       "        text-align: right;\n",
       "    }\n",
       "</style>\n",
       "<table border=\"1\" class=\"dataframe\">\n",
       "  <thead>\n",
       "    <tr style=\"text-align: right;\">\n",
       "      <th></th>\n",
       "      <th>school_number</th>\n",
       "      <th>school_name</th>\n",
       "      <th>suburb</th>\n",
       "      <th>post_code</th>\n",
       "      <th>schooling_type</th>\n",
       "      <th>edu_disadvantage_index</th>\n",
       "      <th>latitude</th>\n",
       "      <th>longitude</th>\n",
       "      <th>id</th>\n",
       "    </tr>\n",
       "  </thead>\n",
       "  <tbody>\n",
       "    <tr>\n",
       "      <th>0</th>\n",
       "      <td>536</td>\n",
       "      <td>Aberfoyle Hub R-7 School</td>\n",
       "      <td>Aberfoyle Park</td>\n",
       "      <td>5159</td>\n",
       "      <td>Primary Education</td>\n",
       "      <td>6</td>\n",
       "      <td>-35.078139</td>\n",
       "      <td>138.595142</td>\n",
       "      <td>1</td>\n",
       "    </tr>\n",
       "    <tr>\n",
       "      <th>1</th>\n",
       "      <td>1673</td>\n",
       "      <td>Aberfoyle Park High School</td>\n",
       "      <td>Aberfoyle Park</td>\n",
       "      <td>5159</td>\n",
       "      <td>Secondary Education</td>\n",
       "      <td>6</td>\n",
       "      <td>-35.074007</td>\n",
       "      <td>138.594181</td>\n",
       "      <td>2</td>\n",
       "    </tr>\n",
       "    <tr>\n",
       "      <th>2</th>\n",
       "      <td>1919</td>\n",
       "      <td>Adelaide Botanic High School</td>\n",
       "      <td>Adelaide</td>\n",
       "      <td>5000</td>\n",
       "      <td>Secondary Education</td>\n",
       "      <td>7</td>\n",
       "      <td>-34.917055</td>\n",
       "      <td>138.606743</td>\n",
       "      <td>3</td>\n",
       "    </tr>\n",
       "  </tbody>\n",
       "</table>\n",
       "</div>"
      ],
      "text/plain": [
       "   school_number                   school_name          suburb  post_code  \\\n",
       "0            536      Aberfoyle Hub R-7 School  Aberfoyle Park       5159   \n",
       "1           1673    Aberfoyle Park High School  Aberfoyle Park       5159   \n",
       "2           1919  Adelaide Botanic High School        Adelaide       5000   \n",
       "\n",
       "        schooling_type  edu_disadvantage_index   latitude   longitude  id  \n",
       "0    Primary Education                       6 -35.078139  138.595142   1  \n",
       "1  Secondary Education                       6 -35.074007  138.594181   2  \n",
       "2  Secondary Education                       7 -34.917055  138.606743   3  "
      ]
     },
     "execution_count": 92,
     "metadata": {},
     "output_type": "execute_result"
    }
   ],
   "source": [
    "#-----example 1-----  \n",
    "raw_data['id'] = np.arange(1, raw_data.shape[0] + 1, 1) \n",
    "raw_data.head(3)\n",
    "\n",
    "# create new Series using pre-defined np function"
   ]
  },
  {
   "cell_type": "code",
   "execution_count": 93,
   "metadata": {
    "scrolled": true
   },
   "outputs": [
    {
     "data": {
      "text/html": [
       "<div>\n",
       "<style scoped>\n",
       "    .dataframe tbody tr th:only-of-type {\n",
       "        vertical-align: middle;\n",
       "    }\n",
       "\n",
       "    .dataframe tbody tr th {\n",
       "        vertical-align: top;\n",
       "    }\n",
       "\n",
       "    .dataframe thead th {\n",
       "        text-align: right;\n",
       "    }\n",
       "</style>\n",
       "<table border=\"1\" class=\"dataframe\">\n",
       "  <thead>\n",
       "    <tr style=\"text-align: right;\">\n",
       "      <th></th>\n",
       "      <th>var1</th>\n",
       "      <th>var2</th>\n",
       "    </tr>\n",
       "  </thead>\n",
       "  <tbody>\n",
       "    <tr>\n",
       "      <th>0</th>\n",
       "      <td>1</td>\n",
       "      <td>4</td>\n",
       "    </tr>\n",
       "    <tr>\n",
       "      <th>1</th>\n",
       "      <td>9</td>\n",
       "      <td>16</td>\n",
       "    </tr>\n",
       "    <tr>\n",
       "      <th>2</th>\n",
       "      <td>25</td>\n",
       "      <td>36</td>\n",
       "    </tr>\n",
       "    <tr>\n",
       "      <th>3</th>\n",
       "      <td>49</td>\n",
       "      <td>64</td>\n",
       "    </tr>\n",
       "    <tr>\n",
       "      <th>4</th>\n",
       "      <td>81</td>\n",
       "      <td>100</td>\n",
       "    </tr>\n",
       "  </tbody>\n",
       "</table>\n",
       "</div>"
      ],
      "text/plain": [
       "   var1  var2\n",
       "0     1     4\n",
       "1     9    16\n",
       "2    25    36\n",
       "3    49    64\n",
       "4    81   100"
      ]
     },
     "execution_count": 93,
     "metadata": {},
     "output_type": "execute_result"
    }
   ],
   "source": [
    "#-----example 2.1-----\n",
    "df_2 = pd.DataFrame(np.arange(1, 10+1).reshape(5,2),\n",
    "                    columns = ['var1','var2'])\n",
    "df_2 # create df_2\n",
    "\n",
    "df_2.apply(lambda x: x ** 2)  \n",
    "\n",
    "# by default, a lambda is applied across the whole DataFrame"
   ]
  },
  {
   "cell_type": "code",
   "execution_count": 94,
   "metadata": {},
   "outputs": [
    {
     "data": {
      "text/html": [
       "<div>\n",
       "<style scoped>\n",
       "    .dataframe tbody tr th:only-of-type {\n",
       "        vertical-align: middle;\n",
       "    }\n",
       "\n",
       "    .dataframe tbody tr th {\n",
       "        vertical-align: top;\n",
       "    }\n",
       "\n",
       "    .dataframe thead th {\n",
       "        text-align: right;\n",
       "    }\n",
       "</style>\n",
       "<table border=\"1\" class=\"dataframe\">\n",
       "  <thead>\n",
       "    <tr style=\"text-align: right;\">\n",
       "      <th></th>\n",
       "      <th>var1</th>\n",
       "      <th>var2</th>\n",
       "      <th>var1_squared</th>\n",
       "    </tr>\n",
       "  </thead>\n",
       "  <tbody>\n",
       "    <tr>\n",
       "      <th>0</th>\n",
       "      <td>1</td>\n",
       "      <td>2</td>\n",
       "      <td>1</td>\n",
       "    </tr>\n",
       "    <tr>\n",
       "      <th>1</th>\n",
       "      <td>3</td>\n",
       "      <td>4</td>\n",
       "      <td>9</td>\n",
       "    </tr>\n",
       "    <tr>\n",
       "      <th>2</th>\n",
       "      <td>5</td>\n",
       "      <td>6</td>\n",
       "      <td>25</td>\n",
       "    </tr>\n",
       "    <tr>\n",
       "      <th>3</th>\n",
       "      <td>7</td>\n",
       "      <td>8</td>\n",
       "      <td>49</td>\n",
       "    </tr>\n",
       "    <tr>\n",
       "      <th>4</th>\n",
       "      <td>9</td>\n",
       "      <td>10</td>\n",
       "      <td>81</td>\n",
       "    </tr>\n",
       "  </tbody>\n",
       "</table>\n",
       "</div>"
      ],
      "text/plain": [
       "   var1  var2  var1_squared\n",
       "0     1     2             1\n",
       "1     3     4             9\n",
       "2     5     6            25\n",
       "3     7     8            49\n",
       "4     9    10            81"
      ]
     },
     "execution_count": 94,
     "metadata": {},
     "output_type": "execute_result"
    }
   ],
   "source": [
    "#-----example 2.2-----\n",
    "df_2['var1_squared'] = df_2['var1'].apply(lambda x: x ** 2) \n",
    "df_2\n",
    "\n",
    "# we can also specify individual columns to transform"
   ]
  },
  {
   "cell_type": "markdown",
   "metadata": {},
   "source": [
    "**Note:** If we want to add columns `var1` and `var2` together, we can either directly specify this transformation or define a new function and specify which axis we would like it to apply across.       "
   ]
  },
  {
   "cell_type": "code",
   "execution_count": 95,
   "metadata": {},
   "outputs": [
    {
     "data": {
      "text/html": [
       "<div>\n",
       "<style scoped>\n",
       "    .dataframe tbody tr th:only-of-type {\n",
       "        vertical-align: middle;\n",
       "    }\n",
       "\n",
       "    .dataframe tbody tr th {\n",
       "        vertical-align: top;\n",
       "    }\n",
       "\n",
       "    .dataframe thead th {\n",
       "        text-align: right;\n",
       "    }\n",
       "</style>\n",
       "<table border=\"1\" class=\"dataframe\">\n",
       "  <thead>\n",
       "    <tr style=\"text-align: right;\">\n",
       "      <th></th>\n",
       "      <th>var1</th>\n",
       "      <th>var2</th>\n",
       "      <th>var1_squared</th>\n",
       "      <th>vars_combined</th>\n",
       "    </tr>\n",
       "  </thead>\n",
       "  <tbody>\n",
       "    <tr>\n",
       "      <th>0</th>\n",
       "      <td>1</td>\n",
       "      <td>2</td>\n",
       "      <td>1</td>\n",
       "      <td>3</td>\n",
       "    </tr>\n",
       "    <tr>\n",
       "      <th>1</th>\n",
       "      <td>3</td>\n",
       "      <td>4</td>\n",
       "      <td>9</td>\n",
       "      <td>7</td>\n",
       "    </tr>\n",
       "    <tr>\n",
       "      <th>2</th>\n",
       "      <td>5</td>\n",
       "      <td>6</td>\n",
       "      <td>25</td>\n",
       "      <td>11</td>\n",
       "    </tr>\n",
       "    <tr>\n",
       "      <th>3</th>\n",
       "      <td>7</td>\n",
       "      <td>8</td>\n",
       "      <td>49</td>\n",
       "      <td>15</td>\n",
       "    </tr>\n",
       "    <tr>\n",
       "      <th>4</th>\n",
       "      <td>9</td>\n",
       "      <td>10</td>\n",
       "      <td>81</td>\n",
       "      <td>19</td>\n",
       "    </tr>\n",
       "  </tbody>\n",
       "</table>\n",
       "</div>"
      ],
      "text/plain": [
       "   var1  var2  var1_squared  vars_combined\n",
       "0     1     2             1              3\n",
       "1     3     4             9              7\n",
       "2     5     6            25             11\n",
       "3     7     8            49             15\n",
       "4     9    10            81             19"
      ]
     },
     "execution_count": 95,
     "metadata": {},
     "output_type": "execute_result"
    }
   ],
   "source": [
    "#-----example 2.3-----\n",
    "df_2['vars_combined'] = df_2['var1'] + df_2['var2'] \n",
    "df_2"
   ]
  },
  {
   "cell_type": "code",
   "execution_count": 96,
   "metadata": {},
   "outputs": [
    {
     "data": {
      "text/html": [
       "<div>\n",
       "<style scoped>\n",
       "    .dataframe tbody tr th:only-of-type {\n",
       "        vertical-align: middle;\n",
       "    }\n",
       "\n",
       "    .dataframe tbody tr th {\n",
       "        vertical-align: top;\n",
       "    }\n",
       "\n",
       "    .dataframe thead th {\n",
       "        text-align: right;\n",
       "    }\n",
       "</style>\n",
       "<table border=\"1\" class=\"dataframe\">\n",
       "  <thead>\n",
       "    <tr style=\"text-align: right;\">\n",
       "      <th></th>\n",
       "      <th>var1</th>\n",
       "      <th>var2</th>\n",
       "      <th>var1_squared</th>\n",
       "      <th>vars_combined</th>\n",
       "    </tr>\n",
       "  </thead>\n",
       "  <tbody>\n",
       "    <tr>\n",
       "      <th>0</th>\n",
       "      <td>1</td>\n",
       "      <td>2</td>\n",
       "      <td>1</td>\n",
       "      <td>3</td>\n",
       "    </tr>\n",
       "    <tr>\n",
       "      <th>1</th>\n",
       "      <td>3</td>\n",
       "      <td>4</td>\n",
       "      <td>9</td>\n",
       "      <td>7</td>\n",
       "    </tr>\n",
       "    <tr>\n",
       "      <th>2</th>\n",
       "      <td>5</td>\n",
       "      <td>6</td>\n",
       "      <td>25</td>\n",
       "      <td>11</td>\n",
       "    </tr>\n",
       "    <tr>\n",
       "      <th>3</th>\n",
       "      <td>7</td>\n",
       "      <td>8</td>\n",
       "      <td>49</td>\n",
       "      <td>15</td>\n",
       "    </tr>\n",
       "    <tr>\n",
       "      <th>4</th>\n",
       "      <td>9</td>\n",
       "      <td>10</td>\n",
       "      <td>81</td>\n",
       "      <td>19</td>\n",
       "    </tr>\n",
       "  </tbody>\n",
       "</table>\n",
       "</div>"
      ],
      "text/plain": [
       "   var1  var2  var1_squared  vars_combined\n",
       "0     1     2             1              3\n",
       "1     3     4             9              7\n",
       "2     5     6            25             11\n",
       "3     7     8            49             15\n",
       "4     9    10            81             19"
      ]
     },
     "execution_count": 96,
     "metadata": {},
     "output_type": "execute_result"
    }
   ],
   "source": [
    "#-----example 2.4-----\n",
    "df_2['vars_combined'] = df_2.apply(lambda x: x['var1'] + x['var2'], axis=1) \n",
    "df_2"
   ]
  },
  {
   "cell_type": "markdown",
   "metadata": {},
   "source": [
    "**Note:** The output created by `df.apply(lambda function, axis=1, result_type='expand')` is similar to the output created using `mutate_all()` in R. "
   ]
  },
  {
   "cell_type": "code",
   "execution_count": 97,
   "metadata": {
    "scrolled": false
   },
   "outputs": [
    {
     "name": "stdout",
     "output_type": "stream",
     "text": [
      "0      [2, 4]\n",
      "1      [4, 6]\n",
      "2      [6, 8]\n",
      "3     [8, 10]\n",
      "4    [10, 12]\n",
      "dtype: object\n",
      "    0   1\n",
      "0   2   4\n",
      "1   4   6\n",
      "2   6   8\n",
      "3   8  10\n",
      "4  10  12\n"
     ]
    }
   ],
   "source": [
    "#-----example 2.5-----  \n",
    "def cumulative_add(df): \n",
    "    return [df['var1'] + 1, df['var2'] + 2] \n",
    "\n",
    "print(df_2.apply(cumulative_add, axis = 1))\n",
    "print(df_2.apply(cumulative_add, axis = 1, result_type = 'expand'))\n",
    "\n",
    "# we can assign an unnamed lambda function or named function inside apply()"
   ]
  },
  {
   "cell_type": "code",
   "execution_count": 98,
   "metadata": {},
   "outputs": [
    {
     "data": {
      "text/html": [
       "<div>\n",
       "<style scoped>\n",
       "    .dataframe tbody tr th:only-of-type {\n",
       "        vertical-align: middle;\n",
       "    }\n",
       "\n",
       "    .dataframe tbody tr th {\n",
       "        vertical-align: top;\n",
       "    }\n",
       "\n",
       "    .dataframe thead th {\n",
       "        text-align: right;\n",
       "    }\n",
       "</style>\n",
       "<table border=\"1\" class=\"dataframe\">\n",
       "  <thead>\n",
       "    <tr style=\"text-align: right;\">\n",
       "      <th></th>\n",
       "      <th>var1</th>\n",
       "      <th>var2</th>\n",
       "      <th>var1_squared</th>\n",
       "      <th>vars_combined</th>\n",
       "    </tr>\n",
       "  </thead>\n",
       "  <tbody>\n",
       "    <tr>\n",
       "      <th>0</th>\n",
       "      <td>0.000000</td>\n",
       "      <td>1.000000</td>\n",
       "      <td>0.000000</td>\n",
       "      <td>1.584963</td>\n",
       "    </tr>\n",
       "    <tr>\n",
       "      <th>1</th>\n",
       "      <td>1.584963</td>\n",
       "      <td>2.000000</td>\n",
       "      <td>3.169925</td>\n",
       "      <td>2.807355</td>\n",
       "    </tr>\n",
       "    <tr>\n",
       "      <th>2</th>\n",
       "      <td>2.321928</td>\n",
       "      <td>2.584963</td>\n",
       "      <td>4.643856</td>\n",
       "      <td>3.459432</td>\n",
       "    </tr>\n",
       "    <tr>\n",
       "      <th>3</th>\n",
       "      <td>2.807355</td>\n",
       "      <td>3.000000</td>\n",
       "      <td>5.614710</td>\n",
       "      <td>3.906891</td>\n",
       "    </tr>\n",
       "    <tr>\n",
       "      <th>4</th>\n",
       "      <td>3.169925</td>\n",
       "      <td>3.321928</td>\n",
       "      <td>6.339850</td>\n",
       "      <td>4.247928</td>\n",
       "    </tr>\n",
       "  </tbody>\n",
       "</table>\n",
       "</div>"
      ],
      "text/plain": [
       "       var1      var2  var1_squared  vars_combined\n",
       "0  0.000000  1.000000      0.000000       1.584963\n",
       "1  1.584963  2.000000      3.169925       2.807355\n",
       "2  2.321928  2.584963      4.643856       3.459432\n",
       "3  2.807355  3.000000      5.614710       3.906891\n",
       "4  3.169925  3.321928      6.339850       4.247928"
      ]
     },
     "execution_count": 98,
     "metadata": {},
     "output_type": "execute_result"
    }
   ],
   "source": [
    "#-----example 2.6-----  \n",
    "df_2.applymap(lambda x: np.log2(x)) \n",
    "\n",
    "# applymap() does not require the axis argument and returns a scalar output for each DataFrame element \n",
    "# applying np.log2(x) across df_2 may be more computationally efficient  "
   ]
  },
  {
   "cell_type": "code",
   "execution_count": 99,
   "metadata": {},
   "outputs": [
    {
     "name": "stdout",
     "output_type": "stream",
     "text": [
      "applymap: 0.08405249999941589 seconds\n",
      "vectorised df: 0.06118419999984326 seconds\n"
     ]
    }
   ],
   "source": [
    "#-----example 2.7-----  \n",
    "import timeit  \n",
    "\n",
    "# define background setup and test code chunk\n",
    "\n",
    "code_setup = \"import numpy as np\" \n",
    "  \n",
    "applymap_test = ''' \n",
    "def example():  \n",
    "    df_2.apply_map(lambda x: np.log2(x))  \n",
    "'''\n",
    "\n",
    "np_test = ''' \n",
    "def example():  \n",
    "    df_2.np.log2()  \n",
    "'''\n",
    "  \n",
    "# print timeit statement and compare code execution times    \n",
    "\n",
    "print(\"applymap: {} seconds\"\n",
    "      .format(timeit.timeit(setup = code_setup, \n",
    "                            stmt = applymap_test, \n",
    "                            number = 1000000)))  \n",
    "\n",
    "print(\"vectorised df: {} seconds\"\n",
    "      .format(timeit.timeit(setup = code_setup, \n",
    "                            stmt = np_test, \n",
    "                            number = 1000000)))  "
   ]
  },
  {
   "cell_type": "markdown",
   "metadata": {},
   "source": [
    "**Note:** An introduction to using the `timeit` module can be found [here](https://www.geeksforgeeks.org/timeit-python-examples/). It is useful to understand when applying vectorised functions and when applying `applymap` is faster.  "
   ]
  },
  {
   "cell_type": "code",
   "execution_count": 100,
   "metadata": {},
   "outputs": [
    {
     "data": {
      "text/plain": [
       "0                primary\n",
       "1              secondary\n",
       "2              secondary\n",
       "3             special_ed\n",
       "4              secondary\n",
       "             ...        \n",
       "507              primary\n",
       "508    aboriginal_anangu\n",
       "509                  NaN\n",
       "510                  NaN\n",
       "511            secondary\n",
       "Name: schooling_type, Length: 512, dtype: object"
      ]
     },
     "execution_count": 100,
     "metadata": {},
     "output_type": "execute_result"
    }
   ],
   "source": [
    "#-----example 2.8-----\n",
    "def clean_vars(var): \n",
    "    if var == 'Primary Education':   \n",
    "        return 'primary'\n",
    "    elif var == 'Secondary Education':\n",
    "        return 'secondary'   \n",
    "    elif var == 'Special Education':\n",
    "        return 'special_ed'\n",
    "    elif var == 'Aboriginal/Anangu Schools': \n",
    "        return 'aboriginal_anangu'\n",
    "    else: \n",
    "        return np.NaN        \n",
    "    \n",
    "raw_data['schooling_type'].apply(clean_vars)\n",
    "\n",
    "# clean_vars function does not work if we use var is 'Primary Education' instead of var == `Primary Education`  "
   ]
  },
  {
   "cell_type": "markdown",
   "metadata": {},
   "source": [
    "**Note:** Pandas DataFrames are built on top of Numpy arrays that use `NaN` to describe null values. To detect `NaN` values, we use `np.isnan()` when dealing with NumPy arrays and `df.isna()` or `df.isnull()` when dealing with Pandas DataFrames. This is discussed further [here](https://datascience.stackexchange.com/questions/37878/difference-between-isna-and-isnull-in-pandas)."
   ]
  },
  {
   "cell_type": "markdown",
   "metadata": {},
   "source": [
    "## Aggregating data   \n",
    "\n",
    "Aggregating data involves two main tasks:  \n",
    "+ Summarising data trends  \n",
    "+ Applying functions by data grouping   \n",
    "\n",
    "### Summarising data   \n",
    "\n",
    "To summarise data trends, we can perform different actions:  \n",
    "+ By applying the method `df['var_1'].unique()` to list all unique elements in a column.  \n",
    "+ By applying the method `df['var_1'].nunique()` to count the number of distinct values in a column i.e. like `n_distinct()` in R.  \n",
    "+ By applying the method `df['var_1'].value_counts()` to create a count table.  \n",
    "+ By applying summary methods like `mean()` or `quantile()`.  "
   ]
  },
  {
   "cell_type": "code",
   "execution_count": 101,
   "metadata": {},
   "outputs": [
    {
     "data": {
      "text/plain": [
       "array(['Primary Education', 'Secondary Education', 'Special Education',\n",
       "       'Primary/Secondary Combined', 'Aboriginal/Anangu Schools'],\n",
       "      dtype=object)"
      ]
     },
     "execution_count": 101,
     "metadata": {},
     "output_type": "execute_result"
    }
   ],
   "source": [
    "#-----example 1-----\n",
    "raw_data['schooling_type'].unique()"
   ]
  },
  {
   "cell_type": "code",
   "execution_count": 102,
   "metadata": {},
   "outputs": [
    {
     "data": {
      "text/plain": [
       "5"
      ]
     },
     "execution_count": 102,
     "metadata": {},
     "output_type": "execute_result"
    }
   ],
   "source": [
    "#-----example 2-----  \n",
    "raw_data['schooling_type'].nunique()"
   ]
  },
  {
   "cell_type": "code",
   "execution_count": 103,
   "metadata": {},
   "outputs": [
    {
     "data": {
      "text/plain": [
       "Primary Education             351\n",
       "Secondary Education            68\n",
       "Primary/Secondary Combined     61\n",
       "Aboriginal/Anangu Schools      17\n",
       "Special Education              15\n",
       "Name: schooling_type, dtype: int64"
      ]
     },
     "execution_count": 103,
     "metadata": {},
     "output_type": "execute_result"
    }
   ],
   "source": [
    "#-----example 3-----\n",
    "raw_data['schooling_type'].value_counts()"
   ]
  },
  {
   "cell_type": "code",
   "execution_count": 104,
   "metadata": {},
   "outputs": [
    {
     "data": {
      "text/plain": [
       "0.2    2.0\n",
       "0.4    4.0\n",
       "0.6    5.0\n",
       "0.8    6.0\n",
       "Name: edu_disadvantage_index, dtype: float64"
      ]
     },
     "execution_count": 104,
     "metadata": {},
     "output_type": "execute_result"
    }
   ],
   "source": [
    "#-----example 4-----\n",
    "raw_data['edu_disadvantage_index'].quantile(np.arange(0.2, 1, 0.2)) \n",
    "\n",
    "# applying summary methods on a column returns a Series  "
   ]
  },
  {
   "cell_type": "markdown",
   "metadata": {},
   "source": [
    "### Grouping by and aggregrating data   \n",
    "\n",
    "To group by variables of interest:  \n",
    "1. Create a GroupBy object using `df.groupby(by = 'col')`.  \n",
    "2. Chain a method to the GroupBy object.  "
   ]
  },
  {
   "cell_type": "code",
   "execution_count": 148,
   "metadata": {},
   "outputs": [
    {
     "data": {
      "text/html": [
       "<div>\n",
       "<style scoped>\n",
       "    .dataframe tbody tr th:only-of-type {\n",
       "        vertical-align: middle;\n",
       "    }\n",
       "\n",
       "    .dataframe tbody tr th {\n",
       "        vertical-align: top;\n",
       "    }\n",
       "\n",
       "    .dataframe thead th {\n",
       "        text-align: right;\n",
       "    }\n",
       "</style>\n",
       "<table border=\"1\" class=\"dataframe\">\n",
       "  <thead>\n",
       "    <tr style=\"text-align: right;\">\n",
       "      <th></th>\n",
       "      <th>schooling_type</th>\n",
       "      <th>edu_disadvantage_index</th>\n",
       "      <th>proportion</th>\n",
       "    </tr>\n",
       "  </thead>\n",
       "  <tbody>\n",
       "    <tr>\n",
       "      <th>0</th>\n",
       "      <td>Aboriginal/Anangu Schools</td>\n",
       "      <td>1</td>\n",
       "      <td>1.000000</td>\n",
       "    </tr>\n",
       "    <tr>\n",
       "      <th>1</th>\n",
       "      <td>Primary Education</td>\n",
       "      <td>1</td>\n",
       "      <td>0.051282</td>\n",
       "    </tr>\n",
       "    <tr>\n",
       "      <th>2</th>\n",
       "      <td>Primary Education</td>\n",
       "      <td>2</td>\n",
       "      <td>0.142450</td>\n",
       "    </tr>\n",
       "    <tr>\n",
       "      <th>3</th>\n",
       "      <td>Primary Education</td>\n",
       "      <td>3</td>\n",
       "      <td>0.105413</td>\n",
       "    </tr>\n",
       "  </tbody>\n",
       "</table>\n",
       "</div>"
      ],
      "text/plain": [
       "              schooling_type edu_disadvantage_index  proportion\n",
       "0  Aboriginal/Anangu Schools                      1    1.000000\n",
       "1          Primary Education                      1    0.051282\n",
       "2          Primary Education                      2    0.142450\n",
       "3          Primary Education                      3    0.105413"
      ]
     },
     "execution_count": 148,
     "metadata": {},
     "output_type": "execute_result"
    }
   ],
   "source": [
    "#-----example 1----- \n",
    "raw_data['edu_disadvantage_index'] = raw_data['edu_disadvantage_index'].apply(lambda x: str(x))\n",
    "\n",
    "by_schooling = (raw_data['edu_disadvantage_index']\n",
    "                .groupby(raw_data['schooling_type'])\n",
    "                .value_counts(normalize=True)\n",
    "                .rename(\"proportion\")\n",
    "                .reset_index()) \n",
    "\n",
    "# .reset_index() creates a new index and converts the Series back into a DataFrame\n",
    "\n",
    "(by_schooling\n",
    " .sort_values(['schooling_type','edu_disadvantage_index'])\n",
    " .reset_index(drop = True)\n",
    " .head(4))\n",
    " \n",
    "# .reset_index(drop = True) resets the sorted DataFrame"
   ]
  },
  {
   "cell_type": "code",
   "execution_count": null,
   "metadata": {},
   "outputs": [],
   "source": [
    "#-----example 2-----  "
   ]
  },
  {
   "cell_type": "code",
   "execution_count": 149,
   "metadata": {},
   "outputs": [],
   "source": [
    "#-----example 3-----  "
   ]
  },
  {
   "cell_type": "markdown",
   "metadata": {},
   "source": [
    "## Handling missing data   "
   ]
  },
  {
   "cell_type": "markdown",
   "metadata": {},
   "source": [
    "## Reshaping DataFrames "
   ]
  },
  {
   "cell_type": "markdown",
   "metadata": {},
   "source": [
    "## Joining datasets  "
   ]
  }
 ],
 "metadata": {
  "kernelspec": {
   "display_name": "Python 3",
   "language": "python",
   "name": "python3"
  },
  "language_info": {
   "codemirror_mode": {
    "name": "ipython",
    "version": 3
   },
   "file_extension": ".py",
   "mimetype": "text/x-python",
   "name": "python",
   "nbconvert_exporter": "python",
   "pygments_lexer": "ipython3",
   "version": "3.7.9"
  }
 },
 "nbformat": 4,
 "nbformat_minor": 4
}
