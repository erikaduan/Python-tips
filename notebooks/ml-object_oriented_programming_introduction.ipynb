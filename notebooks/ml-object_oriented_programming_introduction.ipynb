{
 "cells": [
  {
   "cell_type": "code",
   "execution_count": null,
   "id": "f2f14e9b",
   "metadata": {},
   "outputs": [],
   "source": []
  },
  {
   "cell_type": "markdown",
   "id": "4c91c1a8",
   "metadata": {},
   "source": [
    "# Why object-oriented programming?  \n",
    "\n",
    "**Object-oriented programming** allows us to add additional levels of structure to our Python objects. This is useful when you want to restrict the properties and methods of an object (to prevent other people from misusing existing objects). To do this, we simply need to re-define a Python object within a new class.       \n",
    "\n",
    "![](../figures/ml-object_oriented_programming_meme.png)\n",
    "\n",
    "In production, we may want to:  \n",
    "+ Create a new class of machine learning model objects with a restricted set of functions.   \n",
    "+ Extend a pre-existing class of objects to allow for bespoke modifications.   \n",
    "\n",
    "\n"
   ]
  }
 ],
 "metadata": {
  "kernelspec": {
   "display_name": "Python 3",
   "language": "python",
   "name": "python3"
  },
  "language_info": {
   "codemirror_mode": {
    "name": "ipython",
    "version": 3
   },
   "file_extension": ".py",
   "mimetype": "text/x-python",
   "name": "python",
   "nbconvert_exporter": "python",
   "pygments_lexer": "ipython3",
   "version": "3.7.10"
  }
 },
 "nbformat": 4,
 "nbformat_minor": 5
}
