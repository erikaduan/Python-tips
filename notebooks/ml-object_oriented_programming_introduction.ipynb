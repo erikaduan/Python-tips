{
 "cells": [
  {
   "cell_type": "markdown",
   "id": "b162ec24",
   "metadata": {},
   "source": [
    "# Tutorial 2 topics  \n",
    "2.1 Why object-oriented programming  \n",
    "2.2 Create a simple object class  \n",
    "  2.2.1 Create instance attributes and methods  \n",
    "  2.2.2 Create child and parent classes  \n",
    "2.3 Create an object class for machine learning models  \n",
    "2.4 Resources  "
   ]
  },
  {
   "cell_type": "markdown",
   "id": "b9aaf27e",
   "metadata": {},
   "source": [
    "# 2.1 Why object-oriented programming?  \n",
    "**Object-oriented programming** allows us to add additional levels of structure to our Python objects. This is useful when you want to restrict the properties and methods of an object (to prevent other people from misusing existing objects). To do this, we simply need to re-define a Python object within a new class.  \n",
    "\n",
    "![](../figures/ml-object_oriented_programming_meme.png)\n",
    "\n",
    "In production, we may want to:  \n",
    "+ Create a new class for machine learning model objects with a restricted set of attributes and functions.  \n",
    "+ Create a parent class with base attributes and functions, that specific model child classes can inherit.  \n",
    "+ Integrate specific unit tests with model attributes and functions.  \n"
   ]
  },
  {
   "cell_type": "markdown",
   "id": "cac5afd2",
   "metadata": {},
   "source": [
    "# 2.2 Create a simple object class  \n",
    "\n",
    "A class is the code-based framework that defines the properties (attributes and methods) of a new object. A class is always empty by definition. Object assignment to a class using `object = class(...)` is required for a new instance to be created. For example, an instance of the `BaseModel` class is an object which has been built from that class.  \n",
    "\n",
    "The core components of a class include:  \n",
    "+ Explicit definition of the initial state of an object and its attributes using `def __init__(self):`.  \n",
    "+ Model attributes are public properties and referenced using `self.attribute`. Setting `self.attribute = None` allows you additional flexibility to define model attributes after creating the model instance.  \n",
    "+ Model methods are class-specific functions. These methods are applied using `self.apply_method()`.  \n",
    "\n",
    "### 2.2.1 Create instance attributes and methods  "
   ]
  },
  {
   "cell_type": "code",
   "execution_count": 47,
   "id": "e02a29f6",
   "metadata": {},
   "outputs": [],
   "source": [
    "# Create a simple class for washing machines\n",
    "class WashingMachine:\n",
    "  # The class attribute applies for all objects of this class\n",
    "  function = \"a machine which automatically washes fabrics\"\n",
    "\n",
    "  # Instance attributes are unique for unique instances of this class\n",
    "  def __init__(self, brand, washing_volume):\n",
    "      self.brand = brand\n",
    "      self.washing_volume = washing_volume\n",
    "      self.washing_load = None\n",
    "      self.detergent = None\n",
    "\n",
    "  def load_washing(self, washing_load):\n",
    "      self.washing_load = washing_load\n",
    "\n",
    "  def add_detergent(self, detergent):\n",
    "      self.detergent = detergent\n",
    "\n",
    "  def run_wash_cycle(self, cycle = 2):\n",
    "      print(\n",
    "          f\"Loaded {self.washing_load}\\n\"\n",
    "          f\"Added {self.detergent}\"\n",
    "      )\n",
    "\n",
    "      cycle_number = 1\n",
    "      while cycle_number <= cycle:\n",
    "        print(\n",
    "              f\"Wash cycle {cycle_number} initiated\\n\"\n",
    "              f\"Washing...\\n\"\n",
    "              f\"Washing...\\n\"\n",
    "              f\"Wash cycle run\"\n",
    "              )\n",
    "\n",
    "        cycle_number += 1\n",
    "\n",
    "      print(\"Wash finished!\")"
   ]
  },
  {
   "cell_type": "code",
   "execution_count": 48,
   "id": "b70fa6f6",
   "metadata": {},
   "outputs": [
    {
     "name": "stdout",
     "output_type": "stream",
     "text": [
      "My washing machine brand is Bosche.\n",
      "The maximum load of my washing machine is 7.5 litres.\n"
     ]
    }
   ],
   "source": [
    "# Create an instance of class WashingMachine\n",
    "home_machine = WashingMachine(brand=\"Bosche\", washing_volume=7.5)\n",
    "\n",
    "# Access instance attributes\n",
    "print(f\"My washing machine brand is {home_machine.brand}.\\n\"\n",
    "      f\"The maximum load of my washing machine is {home_machine.washing_volume} litres.\")"
   ]
  },
  {
   "cell_type": "code",
   "execution_count": 49,
   "id": "58c10185",
   "metadata": {},
   "outputs": [
    {
     "name": "stdout",
     "output_type": "stream",
     "text": [
      "Loaded dirty socks\n",
      "Added organic eucalyptus detergent\n",
      "Wash cycle 1 initiated\n",
      "Washing...\n",
      "Washing...\n",
      "Wash cycle run\n",
      "Wash cycle 2 initiated\n",
      "Washing...\n",
      "Washing...\n",
      "Wash cycle run\n",
      "Wash finished!\n"
     ]
    }
   ],
   "source": [
    "# Apply class-specific method\n",
    "home_machine.load_washing(\"dirty socks\")\n",
    "home_machine.add_detergent(\"organic eucalyptus detergent\")\n",
    "home_machine.run_wash_cycle()"
   ]
  },
  {
   "cell_type": "code",
   "execution_count": 52,
   "id": "e51ec0cb",
   "metadata": {},
   "outputs": [
    {
     "name": "stdout",
     "output_type": "stream",
     "text": [
      "organic lemon detergent\n",
      "organic lemon detergent\n"
     ]
    }
   ],
   "source": [
    "# Instance attributes assigned by methods are retained\n",
    "print(home_machine.detergent)\n",
    "\n",
    "# Instance attributes can be overwritten\n",
    "home_machine.add_detergent(\"organic lemon detergent\")\n",
    "print(home_machine.detergent)"
   ]
  },
  {
   "cell_type": "markdown",
   "id": "1bb6795f",
   "metadata": {},
   "source": [
    "### 2.2.2 Create child and parent classes"
   ]
  },
  {
   "cell_type": "markdown",
   "id": "5e92492d",
   "metadata": {},
   "source": [
    "# 2.3 Create an object class for machine learning models  \n"
   ]
  },
  {
   "cell_type": "markdown",
   "id": "79f1afc6",
   "metadata": {},
   "source": [
    "# 2.4 Resources  \n",
    "+ Introduction to Python object-oriented programming from [RealPython](https://realpython.com/python3-object-oriented-programming/)  \n",
    "+ Introduction to Python object-oriented programming from [Programiz](https://www.programiz.com/python-programming/object-oriented-programming)  \n",
    "+ Introduction to Python object-oriented programming from [GeeksforGeeks](https://www.geeksforgeeks.org/python-oops-concepts/)  "
   ]
  }
 ],
 "metadata": {
  "kernelspec": {
   "display_name": "Python 3",
   "language": "python",
   "name": "python3"
  },
  "language_info": {
   "codemirror_mode": {
    "name": "ipython",
    "version": 3
   },
   "file_extension": ".py",
   "mimetype": "text/x-python",
   "name": "python",
   "nbconvert_exporter": "python",
   "pygments_lexer": "ipython3",
   "version": "3.7.10"
  }
 },
 "nbformat": 4,
 "nbformat_minor": 5
}
