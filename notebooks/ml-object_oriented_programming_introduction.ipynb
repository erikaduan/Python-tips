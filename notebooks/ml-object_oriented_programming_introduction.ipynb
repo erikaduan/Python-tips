{
 "cells": [
  {
   "cell_type": "markdown",
   "id": "b162ec24",
   "metadata": {},
   "source": [
    "# Tutorial 2 topics\n",
    "1. Why object-oriented programming\n",
    "2. Create a simple object class\n",
    "  2.1 Create instance attributes and methods\n",
    "  2.2 Create child and parent classes\n",
    "3. Create an object class for machine learning models\n",
    "4. Resources\n",
    "5. Acknowledgements"
   ]
  },
  {
   "cell_type": "markdown",
   "id": "b9aaf27e",
   "metadata": {},
   "source": [
    "# Why object-oriented programming\n",
    "**Object-oriented programming** allows us to add additional layers of structure to our Python objects. This is useful when we want to restrict the properties and methods of an object i.e. to prevent other people from misusing existing objects. To do this, we simply need to re-define a Python object within a new class using `class(class_name)`.\n",
    "\n",
    "![](../figures/ml-object_oriented_programming_meme.png)\n",
    "\n",
    "In production, we may want to:\n",
    "+ Create a new class for machine learning model objects with a restricted set of attributes and functions.\n",
    "+ Create a parent class with base model attributes and functions, that child classes can inherit from.\n",
    "+ Integrate specific unit tests within model attributes and functions.\n"
   ]
  },
  {
   "cell_type": "markdown",
   "id": "cac5afd2",
   "metadata": {},
   "source": [
    "# Create a simple object class\n",
    "\n",
    "A class is the code-based framework that defines the properties (attributes and methods) of an object. A class is empty by definition. When an object is assigned to a class using `object = class(class_name)`, it becomes a new instance of that class. For example, an instance of the `BaseModel` class is an object which contains its own set of `BaseModel()` attributes and manifests the framework of the `BaseModel()` class.\n",
    "\n",
    "The core components of a class include:\n",
    "+ The initial state of an object and its attributes, defined using `def __init__(self)`.\n",
    "  + Class and instance attributes are public properties and can always be referenced using `self.attribute`.\n",
    "  + Setting `self.attribute = None` allows you the flexibility to define model attributes after creating the model instance.\n",
    "+ Class-specific functions, which are also known as methods.\n",
    "  + Methods are created using the same syntax for creating functions i.e. `def function_name(argument)`.\n",
    "  + Methods are applied to instances using `self.apply_method()`.\n",
    "\n",
    "## Create instance attributes and methods\n",
    "The following example illustrates how creating a `WashingMachine()` class for objects allows us to:\n",
    "+ Create new instances of the `WashingMachine()` class if the attributes for `WashingMachine.brand` and `WashingMachine.washing_volume` are provided.\n",
    "+ Modify instance attributes `WashingMachine.washing_load` and `WashingMachine.detergent` using the class-specific methods `load_washing()` and `add_detergent()`.\n",
    "+ Integrate a unit test around the method `load_washing()`.\n",
    "+ Apply the class-specific method `run_wash_cycle()`, which outputs different outcomes depending on the input argument.\n",
    "\n",
    "**Note:** Python [type hinting](https://blog.logrocket.com/understanding-type-annotation-python/) has also been integrated inside these methods."
   ]
  },
  {
   "cell_type": "code",
   "execution_count": 27,
   "id": "e02a29f6",
   "metadata": {},
   "outputs": [],
   "source": [
    "# Create a simple class for washing machines\n",
    "class WashingMachine:\n",
    "  # The class attribute applies for all objects of this class\n",
    "  function = \"a machine which automatically washes fabrics\"\n",
    "\n",
    "  # Instance attributes are unique for unique instances of this class\n",
    "  def __init__(self, brand: str, washing_volume: float):\n",
    "      self.brand = brand\n",
    "      self.washing_volume = washing_volume\n",
    "      self.washing = None\n",
    "      self.detergent = None\n",
    "\n",
    "  def load_washing(self, washing: str, washing_load: float) -> str:\n",
    "      assert washing_load <= self.washing_volume, \"Error: the washing load is greater than the washing volumn.\"\n",
    "      self.washing = washing\n",
    "\n",
    "  def add_detergent(self, detergent: str) -> str:\n",
    "      self.detergent = detergent\n",
    "\n",
    "  def run_wash_cycle(self, wash_cycle=2) -> str:\n",
    "      print(\n",
    "          f\"Loaded {self.washing}\\n\"\n",
    "          f\"Added {self.detergent}\"\n",
    "      )\n",
    "\n",
    "      cycle_number = 1\n",
    "      while cycle_number <= wash_cycle:\n",
    "        print(\n",
    "            f\"Wash cycle {cycle_number} initiated\\n\"\n",
    "            f\"Washing...\\n\"\n",
    "            f\"Washing...\\n\"\n",
    "            f\"Wash cycle run\"\n",
    "            )\n",
    "        cycle_number += 1\n",
    "      print(\"Wash finished!\")"
   ]
  },
  {
   "cell_type": "code",
   "execution_count": 28,
   "id": "b70fa6f6",
   "metadata": {},
   "outputs": [
    {
     "name": "stdout",
     "output_type": "stream",
     "text": [
      "My washing machine brand is Bosche.\n",
      "The maximum load of my washing machine is 7.5 litres.\n"
     ]
    }
   ],
   "source": [
    "# Create an instance of class WashingMachine\n",
    "home_machine = WashingMachine(brand=\"Bosche\", washing_volume=7.5)\n",
    "\n",
    "# Access instance attributes\n",
    "print(f\"My washing machine brand is {home_machine.brand}.\\n\"\n",
    "      f\"The maximum load of my washing machine is {home_machine.washing_volume} litres.\")"
   ]
  },
  {
   "cell_type": "code",
   "execution_count": 29,
   "id": "58c10185",
   "metadata": {
    "collapsed": true
   },
   "outputs": [
    {
     "name": "stdout",
     "output_type": "stream",
     "text": [
      "Loaded dirty socks\n",
      "Added organic eucalyptus detergent\n",
      "Wash cycle 1 initiated\n",
      "Washing...\n",
      "Washing...\n",
      "Wash cycle run\n",
      "Wash cycle 2 initiated\n",
      "Washing...\n",
      "Washing...\n",
      "Wash cycle run\n",
      "Wash finished!\n"
     ]
    }
   ],
   "source": [
    "# Apply class-specific methods\n",
    "home_machine.load_washing(\"dirty socks\", 3.5)\n",
    "home_machine.add_detergent(\"organic eucalyptus detergent\")\n",
    "home_machine.run_wash_cycle()"
   ]
  },
  {
   "cell_type": "code",
   "execution_count": 30,
   "id": "e51ec0cb",
   "metadata": {},
   "outputs": [
    {
     "name": "stdout",
     "output_type": "stream",
     "text": [
      "organic eucalyptus detergent\n",
      "organic lemon detergent\n"
     ]
    }
   ],
   "source": [
    "# Instance attributes assigned by methods are retained\n",
    "print(home_machine.detergent)\n",
    "\n",
    "# Instance attributes can be overwritten\n",
    "home_machine.add_detergent(\"organic lemon detergent\")\n",
    "print(home_machine.detergent)"
   ]
  },
  {
   "cell_type": "markdown",
   "id": "1bb6795f",
   "metadata": {},
   "source": [
    "## Create child and parent classes\n",
    "Class inheritence facilitates code reuse through the creation of child classes which inherit the same parent class attributes and methods (i.e. the parent class code only needs to be created once and is then referred to by different child classes).\n",
    "\n",
    "The following example illustrates the advantages of creating separate child classes:\n",
    "+ Code duplication is minimised as the similarities across object classes are encapsulated in the parent class.\n",
    "+ Differences between object classes are reduced to differences in child class attributes and methods. Child classes can overwrite parent class attributes and methods.\n",
    "+ Structural belonging is also conveyed through parent to child class relationships."
   ]
  },
  {
   "cell_type": "code",
   "execution_count": 31,
   "id": "a474c710",
   "metadata": {},
   "outputs": [],
   "source": [
    "# Create a child class of WashingMachine for washer dryer combos\n",
    "class WasherDryer(WashingMachine):\n",
    "  function = \"a machine which automatically washes and dries fabrics\"\n",
    "\n",
    "  # Introduce a child class-specific method\n",
    "  def run_wash_and_dry_cycle(self, wash_cycle=2, dry_cycle=2) -> str:\n",
    "    print(\n",
    "          f\"Loaded {self.washing}\\n\"\n",
    "          f\"Added {self.detergent}\"\n",
    "      )\n",
    "\n",
    "    # Reuse existing parent class methods\n",
    "    self.run_wash_cycle(wash_cycle)\n",
    "\n",
    "    cycle_number = 1\n",
    "    while cycle_number <= dry_cycle:\n",
    "      print(\n",
    "        f\"Dry cycle {cycle_number} initiated\\n\"\n",
    "        f\"Tumbling...\\n\"\n",
    "        f\"Tumbling...\\n\"\n",
    "        f\"Dry cycle run\"\n",
    "        )\n",
    "      cycle_number += 1\n",
    "    print(\"Wash and dry finished!\")"
   ]
  },
  {
   "cell_type": "markdown",
   "id": "39468c3a",
   "metadata": {},
   "source": [
    "Creating `WasherDryer(WashingMachine)` as a child class allows us to reuse code from the `WashingMachine()` class. This allows our main script to run either object instances with minimal code duplication whilst conveying that objects of class `WashingMachine()` and `WasherDryer()` share similar properties with each other."
   ]
  },
  {
   "cell_type": "code",
   "execution_count": 32,
   "id": "7d8c83c5",
   "metadata": {},
   "outputs": [
    {
     "name": "stdout",
     "output_type": "stream",
     "text": [
      "Loaded dirty socks\n",
      "Added organic eucalyptus detergent\n",
      "Wash cycle 1 initiated\n",
      "Washing...\n",
      "Washing...\n",
      "Wash cycle run\n",
      "Wash cycle 2 initiated\n",
      "Washing...\n",
      "Washing...\n",
      "Wash cycle run\n",
      "Wash finished!\n"
     ]
    }
   ],
   "source": [
    "# Code to run a standard washing machine\n",
    "home_machine = WashingMachine(brand=\"Bosche\", washing_volume=7.5)\n",
    "home_machine.load_washing(\"dirty socks\", 3.5)\n",
    "home_machine.add_detergent(\"organic eucalyptus detergent\")\n",
    "home_machine.run_wash_cycle()"
   ]
  },
  {
   "cell_type": "code",
   "execution_count": 33,
   "id": "6e9d7335",
   "metadata": {},
   "outputs": [
    {
     "name": "stdout",
     "output_type": "stream",
     "text": [
      "Loaded bedding\n",
      "Added tea tree detergent\n",
      "Loaded bedding\n",
      "Added tea tree detergent\n",
      "Wash cycle 1 initiated\n",
      "Washing...\n",
      "Washing...\n",
      "Wash cycle run\n",
      "Wash finished!\n",
      "Dry cycle 1 initiated\n",
      "Tumbling...\n",
      "Tumbling...\n",
      "Dry cycle run\n",
      "Wash and dry finished!\n"
     ]
    }
   ],
   "source": [
    "# Code to run a washer dryer combo\n",
    "new_home_machine = WasherDryer(brand=\"Miele\", washing_volume=12)\n",
    "new_home_machine.load_washing(\"bedding\", 11)\n",
    "new_home_machine.add_detergent(\"tea tree detergent\")\n",
    "new_home_machine.run_wash_and_dry_cycle(wash_cycle=1, dry_cycle=1)"
   ]
  },
  {
   "cell_type": "code",
   "execution_count": 34,
   "id": "289c655e",
   "metadata": {},
   "outputs": [
    {
     "name": "stdout",
     "output_type": "stream",
     "text": [
      "Loaded bedding\n",
      "Added tea tree detergent\n",
      "Wash cycle 1 initiated\n",
      "Washing...\n",
      "Washing...\n",
      "Wash cycle run\n",
      "Wash cycle 2 initiated\n",
      "Washing...\n",
      "Washing...\n",
      "Wash cycle run\n",
      "Wash finished!\n"
     ]
    }
   ],
   "source": [
    "# Code to only run a wash cycle in a WasherDryer\n",
    "new_home_machine.run_wash_cycle()"
   ]
  },
  {
   "cell_type": "markdown",
   "id": "5e92492d",
   "metadata": {},
   "source": [
    "# Create an object class for machine learning models\n",
    "\n",
    "So how does the example above actually help us to write more robust production quality machine learning code?\n",
    "\n",
    "The code required to train different machine learning models and select the best model for deployment is highly redundant. However, using different machine learning algorithms also requires us to modify the data transformation and model training pipeline in slightly different ways.\n",
    "\n",
    "These requirements can be addressed by implementing a `BaseModel()` parent class and `Pipeline(BaseModel)` child classes where:\n",
    "+ The `BaseModel()` parent class contains the attributes and methods that apply across all model objects.\n",
    "+ The `Pipeline(BaseModel)` child class contains the method to create a specific data transformation and training pipeline.\n",
    "+ Unit tests can be integrated at the level of either `BaseModel()` or `Pipeline(BaseModel)` methods or attributes.\n",
    "\n",
    "Imagine that we have a clean dataset on [the attributes of Palmer penguins](https://allisonhorst.github.io/palmerpenguins/) and want to develop a classification model to predict whether an individual penguin belongs to one of three species. How would we structure our code?"
   ]
  },
  {
   "cell_type": "markdown",
   "id": "79f1afc6",
   "metadata": {},
   "source": [
    "# Resources  \n",
    "+ Introduction to Python object-oriented programming from [RealPython](https://realpython.com/python3-object-oriented-programming/)\n",
    "+ Introduction to Python object-oriented programming from [Programiz](https://www.programiz.com/python-programming/object-oriented-programming)\n",
    "+ Introduction to Python object-oriented programming from [GeeksforGeeks](https://www.geeksforgeeks.org/python-oops-concepts/)\n",
    "+ Stack Overflow [post](https://stackoverflow.com/questions/231839/python-inheritance-how-to-disable-a-function) on how to disable a parent class method in the child class"
   ]
  },
  {
   "cell_type": "markdown",
   "id": "e8d9a7db",
   "metadata": {},
   "source": [
    "# Acknowledgements\n",
    "The idea for refactoring machine learning models as `BaseModel()` parent classes and `SpecificPipeline()` child classes comes from Lovekesh Singh and James Tian."
   ]
  }
 ],
 "metadata": {
  "kernelspec": {
   "display_name": "Python 3",
   "language": "python",
   "name": "python3"
  },
  "language_info": {
   "codemirror_mode": {
    "name": "ipython",
    "version": 3
   },
   "file_extension": ".py",
   "mimetype": "text/x-python",
   "name": "python",
   "nbconvert_exporter": "python",
   "pygments_lexer": "ipython3",
   "version": "3.7.10"
  }
 },
 "nbformat": 4,
 "nbformat_minor": 5
}
