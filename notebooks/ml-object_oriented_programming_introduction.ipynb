{
 "cells": [
  {
   "cell_type": "markdown",
   "id": "b162ec24",
   "metadata": {},
   "source": [
    "# Tutorial 2 topics  \n",
    "1. Why object-oriented programming  \n",
    "2. Create a simple object class  \n",
    "  2.1 Create instance attributes and methods  \n",
    "  2.2 Create child and parent classes  \n",
    "3. Create an object class for machine learning models  \n",
    "4. Resources  "
   ]
  },
  {
   "cell_type": "markdown",
   "id": "b9aaf27e",
   "metadata": {},
   "source": [
    "# Why object-oriented programming \n",
    "**Object-oriented programming** allows us to add additional layers of structure to our Python objects. This is useful when you want to restrict the properties and methods of an object i.e. to prevent other people from misusing existing objects. To do this, we simply need to re-define a Python object within a new class using `class (class_name)`.  \n",
    "\n",
    "![](../figures/ml-object_oriented_programming_meme.png)\n",
    "\n",
    "In production, we may want to:  \n",
    "+ Create a new class for machine learning model objects with a restricted set of attributes and functions.  \n",
    "+ Create a parent class with base model attributes and functions, that child classes can inherit from.  \n",
    "+ Integrate specific unit tests within model attributes and functions.  \n"
   ]
  },
  {
   "cell_type": "markdown",
   "id": "cac5afd2",
   "metadata": {},
   "source": [
    "# Create a simple object class\n",
    "\n",
    "A class is the code-based framework that defines the properties (attributes and methods) of an object. A class is empty by definition. Object assignment to a class using `object = class(class_name)` is required to create a new instance. For example, an instance of the `BaseModel` class is an object which manifests the framework of the `BaseModel` class.\n",
    "\n",
    "The core components of a class include:\n",
    "+ The initial state of an object and its attributes, defined using `def __init__(self)`.\n",
    "  + Class and instance attributes are public properties and referenced using `self.attribute`.\n",
    "  + Setting `self.attribute = None` allows you additional flexibility to define model attributes after creating the model instance.\n",
    "+ Class-specific functions, which are also known as methods.\n",
    "  + Methods are created using the same syntax for creating functions i.e. `def function_name(argument)`.\n",
    "  + Methods applied to instances using `self.apply_method()`.\n",
    "\n",
    "## Create instance attributes and methods\n",
    "The following example illustrates how creating a `WashingMachine` class for objects allows us to:\n",
    "+ Create new instances of the `WashingMachine` class if the attributes for `WashingMachine.brand` and `WashingMachine.washing_volume` are provided.\n",
    "+ Integrate a unit test to assert the validity of the instance attribute `WashingMachine.washing_volume`.\n",
    "+ Modify instance attributes `WashingMachine.washing_load` and `WashingMachine.detergent` using the class-specific methods `load_washing()` and `add_detergent`.\n",
    "+ Apply the class-specific method `run_wash_cycle()`, which output different outcomes depending on the input argument.\n",
    "\n",
    "**Note:** Python [type hinting](https://blog.logrocket.com/understanding-type-annotation-python/) has also been integrated inside methods."
   ]
  },
  {
   "cell_type": "code",
   "execution_count": 7,
   "id": "e02a29f6",
   "metadata": {},
   "outputs": [],
   "source": [
    "# Create a simple class for washing machines\n",
    "class WashingMachine:\n",
    "  # The class attribute applies for all objects of this class\n",
    "  function = \"a machine which automatically washes fabrics\"\n",
    "\n",
    "  # Instance attributes are unique for unique instances of this class\n",
    "  def __init__(self, brand: str, washing_volume: float):\n",
    "      self.brand = brand\n",
    "      self.washing_volume = washing_volume\n",
    "      self.washing = None\n",
    "      self.detergent = None\n",
    "\n",
    "  def load_washing(self, washing: str, washing_load: float) -> str:\n",
    "      assert washing_load <= self.washing_volume, \"Error: the washing load is greater than the washing volumn.\"\n",
    "      self.washing = washing\n",
    "\n",
    "  def add_detergent(self, detergent: str) -> str:\n",
    "      self.detergent = detergent\n",
    "\n",
    "  def run_wash_cycle(self, cycle = 2) -> str:\n",
    "      print(\n",
    "          f\"Loaded {self.washing}\\n\"\n",
    "          f\"Added {self.detergent}\"\n",
    "      )\n",
    "\n",
    "      cycle_number = 1\n",
    "      while cycle_number <= cycle:\n",
    "        print(\n",
    "              f\"Wash cycle {cycle_number} initiated\\n\"\n",
    "              f\"Washing...\\n\"\n",
    "              f\"Washing...\\n\"\n",
    "              f\"Wash cycle run\"\n",
    "              )\n",
    "\n",
    "        cycle_number += 1\n",
    "\n",
    "      print(\"Wash finished!\")"
   ]
  },
  {
   "cell_type": "code",
   "execution_count": 8,
   "id": "b70fa6f6",
   "metadata": {},
   "outputs": [
    {
     "name": "stdout",
     "output_type": "stream",
     "text": [
      "My washing machine brand is Bosche.\n",
      "The maximum load of my washing machine is 7.5 litres.\n"
     ]
    }
   ],
   "source": [
    "# Create an instance of class WashingMachine\n",
    "home_machine = WashingMachine(brand=\"Bosche\", washing_volume=7.5)\n",
    "\n",
    "# Access instance attributes\n",
    "print(f\"My washing machine brand is {home_machine.brand}.\\n\"\n",
    "      f\"The maximum load of my washing machine is {home_machine.washing_volume} litres.\")"
   ]
  },
  {
   "cell_type": "code",
   "execution_count": 9,
   "id": "58c10185",
   "metadata": {
    "collapsed": true
   },
   "outputs": [
    {
     "name": "stdout",
     "output_type": "stream",
     "text": [
      "Loaded dirty socks\n",
      "Added organic eucalyptus detergent\n",
      "Wash cycle 1 initiated\n",
      "Washing...\n",
      "Washing...\n",
      "Wash cycle run\n",
      "Wash cycle 2 initiated\n",
      "Washing...\n",
      "Washing...\n",
      "Wash cycle run\n",
      "Wash finished!\n"
     ]
    }
   ],
   "source": [
    "# Apply class-specific method\n",
    "home_machine.load_washing(\"dirty socks\", 3.5)\n",
    "home_machine.add_detergent(\"organic eucalyptus detergent\")\n",
    "home_machine.run_wash_cycle()"
   ]
  },
  {
   "cell_type": "code",
   "execution_count": 10,
   "id": "e51ec0cb",
   "metadata": {},
   "outputs": [
    {
     "name": "stdout",
     "output_type": "stream",
     "text": [
      "organic eucalyptus detergent\n",
      "organic lemon detergent\n"
     ]
    }
   ],
   "source": [
    "# Instance attributes assigned by methods are retained\n",
    "print(home_machine.detergent)\n",
    "\n",
    "# Instance attributes can be overwritten\n",
    "home_machine.add_detergent(\"organic lemon detergent\")\n",
    "print(home_machine.detergent)"
   ]
  },
  {
   "cell_type": "markdown",
   "id": "1bb6795f",
   "metadata": {},
   "source": [
    "## Create child and parent classes"
   ]
  },
  {
   "cell_type": "markdown",
   "id": "5e92492d",
   "metadata": {},
   "source": [
    "# Create an object class for machine learning models  \n"
   ]
  },
  {
   "cell_type": "markdown",
   "id": "79f1afc6",
   "metadata": {},
   "source": [
    "# Resources  \n",
    "+ Introduction to Python object-oriented programming from [RealPython](https://realpython.com/python3-object-oriented-programming/)  \n",
    "+ Introduction to Python object-oriented programming from [Programiz](https://www.programiz.com/python-programming/object-oriented-programming)  \n",
    "+ Introduction to Python object-oriented programming from [GeeksforGeeks](https://www.geeksforgeeks.org/python-oops-concepts/)  "
   ]
  }
 ],
 "metadata": {
  "kernelspec": {
   "display_name": "Python 3",
   "language": "python",
   "name": "python3"
  },
  "language_info": {
   "codemirror_mode": {
    "name": "ipython",
    "version": 3
   },
   "file_extension": ".py",
   "mimetype": "text/x-python",
   "name": "python",
   "nbconvert_exporter": "python",
   "pygments_lexer": "ipython3",
   "version": "3.7.10"
  }
 },
 "nbformat": 4,
 "nbformat_minor": 5
}
